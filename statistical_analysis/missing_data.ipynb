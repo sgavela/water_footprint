{
 "cells": [
  {
   "cell_type": "code",
   "execution_count": 1,
   "metadata": {},
   "outputs": [
    {
     "data": {
      "text/html": [
       "<div>\n",
       "<style scoped>\n",
       "    .dataframe tbody tr th:only-of-type {\n",
       "        vertical-align: middle;\n",
       "    }\n",
       "\n",
       "    .dataframe tbody tr th {\n",
       "        vertical-align: top;\n",
       "    }\n",
       "\n",
       "    .dataframe thead th {\n",
       "        text-align: right;\n",
       "    }\n",
       "</style>\n",
       "<table border=\"1\" class=\"dataframe\">\n",
       "  <thead>\n",
       "    <tr style=\"text-align: right;\">\n",
       "      <th></th>\n",
       "      <th>ID</th>\n",
       "      <th>SAMPLETIME</th>\n",
       "      <th>READINGINTEGER</th>\n",
       "      <th>READINGTHOUSANDTH</th>\n",
       "      <th>DELTAINTEGER</th>\n",
       "      <th>DELTATHOUSANDTH</th>\n",
       "    </tr>\n",
       "  </thead>\n",
       "  <tbody>\n",
       "    <tr>\n",
       "      <th>0</th>\n",
       "      <td>0</td>\n",
       "      <td>2019-06-13 08:34:09</td>\n",
       "      <td>369320</td>\n",
       "      <td>0.0</td>\n",
       "      <td>17</td>\n",
       "      <td>0.0</td>\n",
       "    </tr>\n",
       "    <tr>\n",
       "      <th>1</th>\n",
       "      <td>0</td>\n",
       "      <td>2019-06-13 17:34:10</td>\n",
       "      <td>369403</td>\n",
       "      <td>0.0</td>\n",
       "      <td>2</td>\n",
       "      <td>0.0</td>\n",
       "    </tr>\n",
       "    <tr>\n",
       "      <th>2</th>\n",
       "      <td>0</td>\n",
       "      <td>2019-06-13 18:34:10</td>\n",
       "      <td>369403</td>\n",
       "      <td>0.0</td>\n",
       "      <td>0</td>\n",
       "      <td>0.0</td>\n",
       "    </tr>\n",
       "    <tr>\n",
       "      <th>3</th>\n",
       "      <td>0</td>\n",
       "      <td>2019-06-13 04:34:10</td>\n",
       "      <td>369284</td>\n",
       "      <td>0.0</td>\n",
       "      <td>1</td>\n",
       "      <td>0.0</td>\n",
       "    </tr>\n",
       "    <tr>\n",
       "      <th>4</th>\n",
       "      <td>0</td>\n",
       "      <td>2019-06-13 14:34:10</td>\n",
       "      <td>369356</td>\n",
       "      <td>0.0</td>\n",
       "      <td>28</td>\n",
       "      <td>0.0</td>\n",
       "    </tr>\n",
       "  </tbody>\n",
       "</table>\n",
       "</div>"
      ],
      "text/plain": [
       "   ID           SAMPLETIME  READINGINTEGER  READINGTHOUSANDTH  DELTAINTEGER  \\\n",
       "0   0  2019-06-13 08:34:09          369320                0.0            17   \n",
       "1   0  2019-06-13 17:34:10          369403                0.0             2   \n",
       "2   0  2019-06-13 18:34:10          369403                0.0             0   \n",
       "3   0  2019-06-13 04:34:10          369284                0.0             1   \n",
       "4   0  2019-06-13 14:34:10          369356                0.0            28   \n",
       "\n",
       "   DELTATHOUSANDTH  \n",
       "0              0.0  \n",
       "1              0.0  \n",
       "2              0.0  \n",
       "3              0.0  \n",
       "4              0.0  "
      ]
     },
     "execution_count": 1,
     "metadata": {},
     "output_type": "execute_result"
    }
   ],
   "source": [
    "import pandas as pd\n",
    "\n",
    "df = pd.read_csv('../data/Modelar_UH2022.txt', sep = '|')\n",
    "df.head()"
   ]
  },
  {
   "cell_type": "markdown",
   "metadata": {},
   "source": [
    "### Como solo hay NAs en las columnas de los decimales los despreciamos y ponemos a 0"
   ]
  },
  {
   "cell_type": "code",
   "execution_count": 2,
   "metadata": {},
   "outputs": [
    {
     "data": {
      "text/plain": [
       "ID                        0\n",
       "SAMPLETIME                0\n",
       "READINGINTEGER            0\n",
       "READINGTHOUSANDTH    140056\n",
       "DELTAINTEGER              0\n",
       "DELTATHOUSANDTH      140056\n",
       "dtype: int64"
      ]
     },
     "execution_count": 2,
     "metadata": {},
     "output_type": "execute_result"
    }
   ],
   "source": [
    "df.isna().sum()"
   ]
  },
  {
   "cell_type": "code",
   "execution_count": 3,
   "metadata": {},
   "outputs": [],
   "source": [
    "df = df.fillna(0)"
   ]
  },
  {
   "cell_type": "markdown",
   "metadata": {},
   "source": [
    "### Ligera preparación\n",
    "\n",
    "- Sumar la parte entera y la decimal de READING y THOUSANDTH\n",
    "- Separar fecha y hora\n",
    "- Ordenar por ID y por SAMPLETIME"
   ]
  },
  {
   "cell_type": "code",
   "execution_count": null,
   "metadata": {},
   "outputs": [],
   "source": [
    "df['DELTA'] = [j+(i/100) for (j,i) in zip(df['DELTAINTEGER'].values, df['DELTATHOUSANDTH'].values)]\n",
    "df['READING'] = [j+(i/100) for (j,i) in zip(df['READINGINTEGER'].values, df['READINGTHOUSANDTH'].values)]"
   ]
  },
  {
   "cell_type": "code",
   "execution_count": 4,
   "metadata": {},
   "outputs": [],
   "source": [
    "'''\n",
    "df['DELTA'] = [j+(i/10**(num_digitos_parte_entera(i))) for (j,i) in zip(df['DELTAINTEGER'].values, df['DELTATHOUSANDTH'].values)]\n",
    "df['READING'] = [j+(i/10**(num_digitos_parte_entera(i))) for (j,i) in zip(df['READINGINTEGER'].values, df['READINGTHOUSANDTH'].values)]\n",
    "'''"
   ]
  },
  {
   "cell_type": "code",
   "execution_count": 5,
   "metadata": {},
   "outputs": [],
   "source": [
    "df = df.drop(['READINGINTEGER','READINGTHOUSANDTH','DELTAINTEGER','DELTATHOUSANDTH'], axis=1)\n",
    "df[['DATE', 'TIME']] = df['SAMPLETIME'].str.split(' ', expand = True)"
   ]
  },
  {
   "cell_type": "code",
   "execution_count": 6,
   "metadata": {},
   "outputs": [],
   "source": [
    "df = df.sort_values(['ID','SAMPLETIME']).reset_index(drop=True)"
   ]
  },
  {
   "cell_type": "code",
   "execution_count": 7,
   "metadata": {},
   "outputs": [],
   "source": [
    "df.to_pickle('../data/data_v1.pkl')"
   ]
  },
  {
   "cell_type": "code",
   "execution_count": 8,
   "metadata": {},
   "outputs": [],
   "source": [
    "df = pd.read_pickle('../data/data_v1.pkl') "
   ]
  },
  {
   "cell_type": "markdown",
   "metadata": {},
   "source": [
    "### DELTA y READING"
   ]
  },
  {
   "cell_type": "markdown",
   "metadata": {},
   "source": [
    "Observando el dataframe parece ser que DELTA es la diferencia entre dos medidas de READING. Veamos en qué proporción de filas se cumple esto."
   ]
  },
  {
   "cell_type": "code",
   "execution_count": 429,
   "metadata": {},
   "outputs": [
    {
     "data": {
      "text/html": [
       "<div>\n",
       "<style scoped>\n",
       "    .dataframe tbody tr th:only-of-type {\n",
       "        vertical-align: middle;\n",
       "    }\n",
       "\n",
       "    .dataframe tbody tr th {\n",
       "        vertical-align: top;\n",
       "    }\n",
       "\n",
       "    .dataframe thead th {\n",
       "        text-align: right;\n",
       "    }\n",
       "</style>\n",
       "<table border=\"1\" class=\"dataframe\">\n",
       "  <thead>\n",
       "    <tr style=\"text-align: right;\">\n",
       "      <th></th>\n",
       "      <th>ID</th>\n",
       "      <th>SAMPLETIME</th>\n",
       "      <th>DELTA</th>\n",
       "      <th>READING</th>\n",
       "      <th>DATE</th>\n",
       "      <th>TIME</th>\n",
       "    </tr>\n",
       "  </thead>\n",
       "  <tbody>\n",
       "    <tr>\n",
       "      <th>0</th>\n",
       "      <td>0</td>\n",
       "      <td>2019-06-13 08:34:09</td>\n",
       "      <td>17.0</td>\n",
       "      <td>369320.0</td>\n",
       "      <td>2019-06-13</td>\n",
       "      <td>08:34:09</td>\n",
       "    </tr>\n",
       "    <tr>\n",
       "      <th>1</th>\n",
       "      <td>0</td>\n",
       "      <td>2019-06-13 17:34:10</td>\n",
       "      <td>2.0</td>\n",
       "      <td>369403.0</td>\n",
       "      <td>2019-06-13</td>\n",
       "      <td>17:34:10</td>\n",
       "    </tr>\n",
       "    <tr>\n",
       "      <th>2</th>\n",
       "      <td>0</td>\n",
       "      <td>2019-06-13 18:34:10</td>\n",
       "      <td>0.0</td>\n",
       "      <td>369403.0</td>\n",
       "      <td>2019-06-13</td>\n",
       "      <td>18:34:10</td>\n",
       "    </tr>\n",
       "    <tr>\n",
       "      <th>3</th>\n",
       "      <td>0</td>\n",
       "      <td>2019-06-13 04:34:10</td>\n",
       "      <td>1.0</td>\n",
       "      <td>369284.0</td>\n",
       "      <td>2019-06-13</td>\n",
       "      <td>04:34:10</td>\n",
       "    </tr>\n",
       "    <tr>\n",
       "      <th>4</th>\n",
       "      <td>0</td>\n",
       "      <td>2019-06-13 14:34:10</td>\n",
       "      <td>28.0</td>\n",
       "      <td>369356.0</td>\n",
       "      <td>2019-06-13</td>\n",
       "      <td>14:34:10</td>\n",
       "    </tr>\n",
       "  </tbody>\n",
       "</table>\n",
       "</div>"
      ],
      "text/plain": [
       "   ID           SAMPLETIME  DELTA   READING        DATE      TIME\n",
       "0   0  2019-06-13 08:34:09   17.0  369320.0  2019-06-13  08:34:09\n",
       "1   0  2019-06-13 17:34:10    2.0  369403.0  2019-06-13  17:34:10\n",
       "2   0  2019-06-13 18:34:10    0.0  369403.0  2019-06-13  18:34:10\n",
       "3   0  2019-06-13 04:34:10    1.0  369284.0  2019-06-13  04:34:10\n",
       "4   0  2019-06-13 14:34:10   28.0  369356.0  2019-06-13  14:34:10"
      ]
     },
     "execution_count": 429,
     "metadata": {},
     "output_type": "execute_result"
    }
   ],
   "source": [
    "df[df['ID']==0].head()"
   ]
  },
  {
   "cell_type": "code",
   "execution_count": 10,
   "metadata": {},
   "outputs": [],
   "source": [
    "import numpy as np\n",
    "\n",
    "delta_equals_reading = np.array([])\n",
    "for i in df['ID'].unique():\n",
    "    delta_df = df[df['ID']==i]['DELTA']\n",
    "    reading_dif_df = df[df['ID']==i]['READING'].diff().fillna(0).round(4)\n",
    "    delta_equals_reading = np.append(delta_equals_reading, sum(delta_df==reading_dif_df)/len(delta_df))"
   ]
  },
  {
   "cell_type": "code",
   "execution_count": 11,
   "metadata": {},
   "outputs": [
    {
     "data": {
      "text/plain": [
       "0.9435250295156983"
      ]
     },
     "execution_count": 11,
     "metadata": {},
     "output_type": "execute_result"
    }
   ],
   "source": [
    "np.mean(delta_equals_reading)"
   ]
  },
  {
   "cell_type": "markdown",
   "metadata": {},
   "source": [
    "Parece razonable pensar que es cierto."
   ]
  },
  {
   "cell_type": "markdown",
   "metadata": {},
   "source": [
    "### Ver que contadores están totalmente completos (todas las horas para todos los días del año) "
   ]
  },
  {
   "cell_type": "code",
   "execution_count": 140,
   "metadata": {},
   "outputs": [],
   "source": [
    "complete = []\n",
    "len_complete = df[df['ID']==0].shape[0]\n",
    "for i in df['ID'].unique():\n",
    "    if df[df['ID']==i].shape[0] == len_complete:\n",
    "        complete.append(i)"
   ]
  },
  {
   "cell_type": "code",
   "execution_count": 141,
   "metadata": {},
   "outputs": [
    {
     "name": "stdout",
     "output_type": "stream",
     "text": [
      "Complete: 1970 Incomplete: 777 Total: 2747\n"
     ]
    },
    {
     "data": {
      "text/plain": [
       "Complete      0.717146\n",
       "Incomplete    0.282854\n",
       "dtype: float64"
      ]
     },
     "execution_count": 141,
     "metadata": {},
     "output_type": "execute_result"
    }
   ],
   "source": [
    "print('Complete:', len(complete),'Incomplete:', len(df['ID'].unique())-len(complete), 'Total:', len(df['ID'].unique())) \n",
    "complete_percentages = pd.Series({'Complete':len(complete)/len(df['ID'].unique()), \n",
    "                                  'Incomplete':1-len(complete)/len(df['ID'].unique())})\n",
    "complete_percentages"
   ]
  },
  {
   "cell_type": "code",
   "execution_count": 142,
   "metadata": {},
   "outputs": [
    {
     "data": {
      "text/plain": [
       "<AxesSubplot:ylabel='None'>"
      ]
     },
     "execution_count": 142,
     "metadata": {},
     "output_type": "execute_result"
    },
    {
     "data": {
      "image/png": "[encoded data removed]",
      "text/plain": [
       "<Figure size 432x288 with 1 Axes>"
      ]
     },
     "metadata": {},
     "output_type": "display_data"
    }
   ],
   "source": [
    "complete_percentages.plot(kind='pie')"
   ]
  },
  {
   "cell_type": "markdown",
   "metadata": {},
   "source": [
    "### De los completos comprobar que las horas están ordenadas y que la diferencia entre cada medida es aprox. una hora"
   ]
  },
  {
   "cell_type": "code",
   "execution_count": 178,
   "metadata": {},
   "outputs": [],
   "source": [
    "from datetime import datetime, timedelta\n",
    "\n",
    "def str2date(string):\n",
    "    return datetime.strptime(string, '%Y-%m-%d %H:%M:%S')"
   ]
  },
  {
   "cell_type": "code",
   "execution_count": 157,
   "metadata": {},
   "outputs": [
    {
     "name": "stderr",
     "output_type": "stream",
     "text": [
      "100%|███████████████████████████████████████████████████████████████████████████████████████████████| 21404828/21404828 [04:37<00:00, 77272.26it/s]\n"
     ]
    }
   ],
   "source": [
    "from tqdm import tqdm\n",
    "\n",
    "tqdm.pandas()\n",
    "df['SAMPLETIME'] = df['SAMPLETIME'].progress_apply(str2date)"
   ]
  },
  {
   "cell_type": "code",
   "execution_count": 180,
   "metadata": {},
   "outputs": [],
   "source": [
    "a = df[df['ID']==0].sort_values('SAMPLETIME').reset_index(drop=True)"
   ]
  },
  {
   "cell_type": "code",
   "execution_count": 184,
   "metadata": {},
   "outputs": [
    {
     "data": {
      "text/html": [
       "<div>\n",
       "<style scoped>\n",
       "    .dataframe tbody tr th:only-of-type {\n",
       "        vertical-align: middle;\n",
       "    }\n",
       "\n",
       "    .dataframe tbody tr th {\n",
       "        vertical-align: top;\n",
       "    }\n",
       "\n",
       "    .dataframe thead th {\n",
       "        text-align: right;\n",
       "    }\n",
       "</style>\n",
       "<table border=\"1\" class=\"dataframe\">\n",
       "  <thead>\n",
       "    <tr style=\"text-align: right;\">\n",
       "      <th></th>\n",
       "      <th>ID</th>\n",
       "      <th>SAMPLETIME</th>\n",
       "      <th>DELTA</th>\n",
       "      <th>READING</th>\n",
       "      <th>DATE</th>\n",
       "      <th>TIME</th>\n",
       "    </tr>\n",
       "  </thead>\n",
       "  <tbody>\n",
       "    <tr>\n",
       "      <th>0</th>\n",
       "      <td>0</td>\n",
       "      <td>2019-02-01 00:39:36</td>\n",
       "      <td>0.0</td>\n",
       "      <td>331710.0</td>\n",
       "      <td>2019-02-01</td>\n",
       "      <td>00:39:36</td>\n",
       "    </tr>\n",
       "    <tr>\n",
       "      <th>1</th>\n",
       "      <td>0</td>\n",
       "      <td>2019-02-01 01:39:36</td>\n",
       "      <td>0.0</td>\n",
       "      <td>331710.0</td>\n",
       "      <td>2019-02-01</td>\n",
       "      <td>01:39:36</td>\n",
       "    </tr>\n",
       "    <tr>\n",
       "      <th>2</th>\n",
       "      <td>0</td>\n",
       "      <td>2019-02-01 02:39:35</td>\n",
       "      <td>0.0</td>\n",
       "      <td>331710.0</td>\n",
       "      <td>2019-02-01</td>\n",
       "      <td>02:39:35</td>\n",
       "    </tr>\n",
       "    <tr>\n",
       "      <th>3</th>\n",
       "      <td>0</td>\n",
       "      <td>2019-02-01 03:39:35</td>\n",
       "      <td>0.0</td>\n",
       "      <td>331710.0</td>\n",
       "      <td>2019-02-01</td>\n",
       "      <td>03:39:35</td>\n",
       "    </tr>\n",
       "    <tr>\n",
       "      <th>4</th>\n",
       "      <td>0</td>\n",
       "      <td>2019-02-01 04:39:35</td>\n",
       "      <td>0.0</td>\n",
       "      <td>331710.0</td>\n",
       "      <td>2019-02-01</td>\n",
       "      <td>04:39:35</td>\n",
       "    </tr>\n",
       "  </tbody>\n",
       "</table>\n",
       "</div>"
      ],
      "text/plain": [
       "   ID          SAMPLETIME  DELTA   READING        DATE      TIME\n",
       "0   0 2019-02-01 00:39:36    0.0  331710.0  2019-02-01  00:39:36\n",
       "1   0 2019-02-01 01:39:36    0.0  331710.0  2019-02-01  01:39:36\n",
       "2   0 2019-02-01 02:39:35    0.0  331710.0  2019-02-01  02:39:35\n",
       "3   0 2019-02-01 03:39:35    0.0  331710.0  2019-02-01  03:39:35\n",
       "4   0 2019-02-01 04:39:35    0.0  331710.0  2019-02-01  04:39:35"
      ]
     },
     "execution_count": 184,
     "metadata": {},
     "output_type": "execute_result"
    }
   ],
   "source": [
    "df.head()"
   ]
  },
  {
   "cell_type": "markdown",
   "metadata": {},
   "source": [
    "### Ver cuanto de incompletos están los contadores no completos"
   ]
  },
  {
   "cell_type": "code",
   "execution_count": 1,
   "metadata": {},
   "outputs": [
    {
     "data": {
      "text/plain": [
       "8760"
      ]
     },
     "execution_count": 1,
     "metadata": {},
     "output_type": "execute_result"
    }
   ],
   "source": [
    "365*24"
   ]
  },
  {
   "cell_type": "code",
   "execution_count": 143,
   "metadata": {},
   "outputs": [],
   "source": [
    "incompleteness = {}\n",
    "len_complete = 8760\n",
    "for i in df['ID'].unique():\n",
    "    if df[df['ID']==i].shape[0] != len_complete:\n",
    "        incompleteness[i] = len_complete - df[df['ID']==i].shape[0]"
   ]
  },
  {
   "cell_type": "code",
   "execution_count": 144,
   "metadata": {},
   "outputs": [],
   "source": [
    "incompleteness_serie = pd.Series(incompleteness)"
   ]
  },
  {
   "cell_type": "code",
   "execution_count": 145,
   "metadata": {},
   "outputs": [
    {
     "data": {
      "text/plain": [
       "<AxesSubplot:>"
      ]
     },
     "execution_count": 145,
     "metadata": {},
     "output_type": "execute_result"
    },
    {
     "data": {
      "image/png": "[encoded data removed]",
      "text/plain": [
       "<Figure size 432x288 with 1 Axes>"
      ]
     },
     "metadata": {
      "needs_background": "light"
     },
     "output_type": "display_data"
    }
   ],
   "source": [
    "incompleteness_serie.plot()"
   ]
  },
  {
   "cell_type": "code",
   "execution_count": 262,
   "metadata": {},
   "outputs": [],
   "source": [
    "undercomplete_rate = (incompleteness_serie[incompleteness_serie>0])/len_complete"
   ]
  },
  {
   "cell_type": "code",
   "execution_count": 264,
   "metadata": {},
   "outputs": [
    {
     "data": {
      "text/plain": [
       "<AxesSubplot:>"
      ]
     },
     "execution_count": 264,
     "metadata": {},
     "output_type": "execute_result"
    },
    {
     "data": {
      "image/png": "[encoded data removed]",
      "text/plain": [
       "<Figure size 432x288 with 1 Axes>"
      ]
     },
     "metadata": {
      "needs_background": "light"
     },
     "output_type": "display_data"
    }
   ],
   "source": [
    "undercomplete_rate.plot(kind='bar')"
   ]
  },
  {
   "cell_type": "code",
   "execution_count": 330,
   "metadata": {},
   "outputs": [
    {
     "data": {
      "text/plain": [
       "0-10% missing data      139\n",
       "10-50% missing data     374\n",
       "50-80% missing data     136\n",
       "80-100% missing data    124\n",
       "dtype: int64"
      ]
     },
     "execution_count": 330,
     "metadata": {},
     "output_type": "execute_result"
    }
   ],
   "source": [
    "incomplete_clasif = {}\n",
    "incomplete_clasif['0-10% missing data'] = len(undercomplete_rate[undercomplete_rate <= 0.1])\n",
    "incomplete_clasif['10-50% missing data'] = len(undercomplete_rate[(undercomplete_rate > 0.1) & (undercomplete_rate <= 0.5)])\n",
    "incomplete_clasif['50-80% missing data'] = len(undercomplete_rate[(undercomplete_rate > 0.5) & (undercomplete_rate <= 0.8)])\n",
    "incomplete_clasif['80-100% missing data'] = len(undercomplete_rate[undercomplete_rate > 0.8])\n",
    "incomplete_clasif = pd.Series(incomplete_clasif)\n",
    "incomplete_clasif"
   ]
  },
  {
   "cell_type": "code",
   "execution_count": 331,
   "metadata": {},
   "outputs": [
    {
     "data": {
      "text/plain": [
       "<AxesSubplot:>"
      ]
     },
     "execution_count": 331,
     "metadata": {},
     "output_type": "execute_result"
    },
    {
     "data": {
      "image/png": "[encoded data removed]",
      "text/plain": [
       "<Figure size 432x288 with 1 Axes>"
      ]
     },
     "metadata": {
      "needs_background": "light"
     },
     "output_type": "display_data"
    }
   ],
   "source": [
    "incomplete_clasif.plot(kind='bar')"
   ]
  },
  {
   "cell_type": "markdown",
   "metadata": {},
   "source": [
    "### Utilidades para analizar el tiempo entre medidas"
   ]
  },
  {
   "cell_type": "code",
   "execution_count": 254,
   "metadata": {},
   "outputs": [],
   "source": [
    "def average_period(df, i):\n",
    "    df_sampletimes = df[df['ID']==i]['SAMPLETIME']\n",
    "    return (df_sampletimes.diff().sum())/len(df_sampletimes)\n",
    "\n",
    "def num_anormal_gaps(df, i, min_gap=55, max_gap=65):\n",
    "    sampletimes_difs = df[df['ID']==i]['SAMPLETIME'].diff()\n",
    "    gaps = 0\n",
    "    for i,dif in enumerate(sampletimes_difs[1:]):\n",
    "        if dif < timedelta(minutes = min_gap) or dif > timedelta(minutes = max_gap):\n",
    "            gaps+=1\n",
    "    return gaps"
   ]
  },
  {
   "cell_type": "code",
   "execution_count": 255,
   "metadata": {},
   "outputs": [
    {
     "data": {
      "text/plain": [
       "Timedelta('0 days 00:59:59.898276058')"
      ]
     },
     "execution_count": 255,
     "metadata": {},
     "output_type": "execute_result"
    }
   ],
   "source": [
    "average_period(df, 0)"
   ]
  },
  {
   "cell_type": "code",
   "execution_count": 256,
   "metadata": {},
   "outputs": [
    {
     "data": {
      "text/plain": [
       "39"
      ]
     },
     "execution_count": 256,
     "metadata": {},
     "output_type": "execute_result"
    }
   ],
   "source": [
    "num_anormal_gaps(df,0)"
   ]
  },
  {
   "cell_type": "markdown",
   "metadata": {},
   "source": [
    "### Contadores \"sobrecompletos\" toman 4 medidas por hora"
   ]
  },
  {
   "cell_type": "code",
   "execution_count": 146,
   "metadata": {},
   "outputs": [
    {
     "data": {
      "text/plain": [
       "248    -26197\n",
       "292    -26295\n",
       "545    -26317\n",
       "1416   -26211\n",
       "dtype: int64"
      ]
     },
     "execution_count": 146,
     "metadata": {},
     "output_type": "execute_result"
    }
   ],
   "source": [
    "overcomplete = incompleteness_serie[incompleteness_serie<0]\n",
    "overcomplete"
   ]
  },
  {
   "cell_type": "code",
   "execution_count": 189,
   "metadata": {},
   "outputs": [
    {
     "data": {
      "text/plain": [
       "26277"
      ]
     },
     "execution_count": 189,
     "metadata": {},
     "output_type": "execute_result"
    }
   ],
   "source": [
    "df[df['ID']==0].shape[0]*3"
   ]
  },
  {
   "cell_type": "code",
   "execution_count": 195,
   "metadata": {},
   "outputs": [
    {
     "data": {
      "text/html": [
       "<div>\n",
       "<style scoped>\n",
       "    .dataframe tbody tr th:only-of-type {\n",
       "        vertical-align: middle;\n",
       "    }\n",
       "\n",
       "    .dataframe tbody tr th {\n",
       "        vertical-align: top;\n",
       "    }\n",
       "\n",
       "    .dataframe thead th {\n",
       "        text-align: right;\n",
       "    }\n",
       "</style>\n",
       "<table border=\"1\" class=\"dataframe\">\n",
       "  <thead>\n",
       "    <tr style=\"text-align: right;\">\n",
       "      <th></th>\n",
       "      <th>ID</th>\n",
       "      <th>SAMPLETIME</th>\n",
       "      <th>DELTA</th>\n",
       "      <th>READING</th>\n",
       "      <th>DATE</th>\n",
       "      <th>TIME</th>\n",
       "    </tr>\n",
       "  </thead>\n",
       "  <tbody>\n",
       "    <tr>\n",
       "      <th>2085142</th>\n",
       "      <td>248</td>\n",
       "      <td>2019-02-01 00:00:00</td>\n",
       "      <td>0.0</td>\n",
       "      <td>20519600.0</td>\n",
       "      <td>2019-02-01</td>\n",
       "      <td>00:00:00</td>\n",
       "    </tr>\n",
       "    <tr>\n",
       "      <th>2085143</th>\n",
       "      <td>248</td>\n",
       "      <td>2019-02-01 00:15:00</td>\n",
       "      <td>0.0</td>\n",
       "      <td>20519600.0</td>\n",
       "      <td>2019-02-01</td>\n",
       "      <td>00:15:00</td>\n",
       "    </tr>\n",
       "    <tr>\n",
       "      <th>2085144</th>\n",
       "      <td>248</td>\n",
       "      <td>2019-02-01 00:30:00</td>\n",
       "      <td>10.0</td>\n",
       "      <td>20519610.0</td>\n",
       "      <td>2019-02-01</td>\n",
       "      <td>00:30:00</td>\n",
       "    </tr>\n",
       "    <tr>\n",
       "      <th>2085145</th>\n",
       "      <td>248</td>\n",
       "      <td>2019-02-01 00:45:00</td>\n",
       "      <td>10.0</td>\n",
       "      <td>20519620.0</td>\n",
       "      <td>2019-02-01</td>\n",
       "      <td>00:45:00</td>\n",
       "    </tr>\n",
       "    <tr>\n",
       "      <th>2085146</th>\n",
       "      <td>248</td>\n",
       "      <td>2019-02-01 01:00:00</td>\n",
       "      <td>1500.0</td>\n",
       "      <td>20521120.0</td>\n",
       "      <td>2019-02-01</td>\n",
       "      <td>01:00:00</td>\n",
       "    </tr>\n",
       "  </tbody>\n",
       "</table>\n",
       "</div>"
      ],
      "text/plain": [
       "          ID          SAMPLETIME   DELTA     READING        DATE      TIME\n",
       "2085142  248 2019-02-01 00:00:00     0.0  20519600.0  2019-02-01  00:00:00\n",
       "2085143  248 2019-02-01 00:15:00     0.0  20519600.0  2019-02-01  00:15:00\n",
       "2085144  248 2019-02-01 00:30:00    10.0  20519610.0  2019-02-01  00:30:00\n",
       "2085145  248 2019-02-01 00:45:00    10.0  20519620.0  2019-02-01  00:45:00\n",
       "2085146  248 2019-02-01 01:00:00  1500.0  20521120.0  2019-02-01  01:00:00"
      ]
     },
     "execution_count": 195,
     "metadata": {},
     "output_type": "execute_result"
    }
   ],
   "source": [
    "df[df['ID']==248].head()"
   ]
  },
  {
   "cell_type": "markdown",
   "metadata": {},
   "source": [
    "### No tener en cuenta la hora de las medidas (mala idea porque para cada dia pueden no estar todas las medidas y eso hay que corregirlo)\n",
    "\n",
    "- Quitar hora\n",
    "- Agrupar por ID y DATE"
   ]
  },
  {
   "cell_type": "code",
   "execution_count": 21,
   "metadata": {},
   "outputs": [
    {
     "data": {
      "text/html": [
       "<div>\n",
       "<style scoped>\n",
       "    .dataframe tbody tr th:only-of-type {\n",
       "        vertical-align: middle;\n",
       "    }\n",
       "\n",
       "    .dataframe tbody tr th {\n",
       "        vertical-align: top;\n",
       "    }\n",
       "\n",
       "    .dataframe thead th {\n",
       "        text-align: right;\n",
       "    }\n",
       "</style>\n",
       "<table border=\"1\" class=\"dataframe\">\n",
       "  <thead>\n",
       "    <tr style=\"text-align: right;\">\n",
       "      <th></th>\n",
       "      <th>ID</th>\n",
       "      <th>DATE</th>\n",
       "      <th>DELTA</th>\n",
       "      <th>READING</th>\n",
       "    </tr>\n",
       "  </thead>\n",
       "  <tbody>\n",
       "    <tr>\n",
       "      <th>0</th>\n",
       "      <td>0</td>\n",
       "      <td>2019-02-01</td>\n",
       "      <td>243.0</td>\n",
       "      <td>7963359.0</td>\n",
       "    </tr>\n",
       "    <tr>\n",
       "      <th>1</th>\n",
       "      <td>0</td>\n",
       "      <td>2019-02-02</td>\n",
       "      <td>236.0</td>\n",
       "      <td>7969096.0</td>\n",
       "    </tr>\n",
       "    <tr>\n",
       "      <th>2</th>\n",
       "      <td>0</td>\n",
       "      <td>2019-02-03</td>\n",
       "      <td>335.0</td>\n",
       "      <td>7975263.0</td>\n",
       "    </tr>\n",
       "    <tr>\n",
       "      <th>3</th>\n",
       "      <td>0</td>\n",
       "      <td>2019-02-04</td>\n",
       "      <td>252.0</td>\n",
       "      <td>7982426.0</td>\n",
       "    </tr>\n",
       "    <tr>\n",
       "      <th>4</th>\n",
       "      <td>0</td>\n",
       "      <td>2019-02-05</td>\n",
       "      <td>220.0</td>\n",
       "      <td>7988972.0</td>\n",
       "    </tr>\n",
       "  </tbody>\n",
       "</table>\n",
       "</div>"
      ],
      "text/plain": [
       "   ID        DATE  DELTA    READING\n",
       "0   0  2019-02-01  243.0  7963359.0\n",
       "1   0  2019-02-02  236.0  7969096.0\n",
       "2   0  2019-02-03  335.0  7975263.0\n",
       "3   0  2019-02-04  252.0  7982426.0\n",
       "4   0  2019-02-05  220.0  7988972.0"
      ]
     },
     "execution_count": 21,
     "metadata": {},
     "output_type": "execute_result"
    }
   ],
   "source": [
    "df = df.drop(['SAMPLETIME','time'],axis=1)\n",
    "df = df.groupby(['ID','DATE']).sum().reset_index()\n",
    "df.head()"
   ]
  },
  {
   "cell_type": "markdown",
   "metadata": {},
   "source": [
    "### Breve análisis de los números de los IDs\n",
    "\n",
    "En efecto, hay 2747 pero sus IDs no son consecutivos sino que hay algunos que se saltan un número al final"
   ]
  },
  {
   "cell_type": "code",
   "execution_count": 32,
   "metadata": {},
   "outputs": [
    {
     "data": {
      "text/plain": [
       "2747"
      ]
     },
     "execution_count": 32,
     "metadata": {},
     "output_type": "execute_result"
    }
   ],
   "source": [
    "len(df['ID'].unique())"
   ]
  },
  {
   "cell_type": "code",
   "execution_count": 31,
   "metadata": {},
   "outputs": [
    {
     "data": {
      "text/plain": [
       "array([2720, 2721, 2722, 2723, 2724, 2725, 2727, 2728, 2729, 2730, 2731,\n",
       "       2732, 2733, 2734, 2735, 2736, 2737, 2739, 2742, 2743, 2744, 2745,\n",
       "       2746, 2747, 2748, 2749, 2756], dtype=int64)"
      ]
     },
     "execution_count": 31,
     "metadata": {},
     "output_type": "execute_result"
    }
   ],
   "source": [
    "df['ID'].unique()[-27:]"
   ]
  },
  {
   "cell_type": "markdown",
   "metadata": {},
   "source": [
    "Contadores que no están:\n",
    "\n",
    "- 2726\n",
    "- 2738\n",
    "- 2740\n",
    "- 2741\n",
    "- 2750\n",
    "- 2751\n",
    "- 2752\n",
    "- 2753\n",
    "- 2754\n",
    "- 2755"
   ]
  },
  {
   "cell_type": "markdown",
   "metadata": {},
   "source": [
    "### Análisis número de días sin ninguna medida por contador"
   ]
  },
  {
   "cell_type": "code",
   "execution_count": 65,
   "metadata": {},
   "outputs": [],
   "source": [
    "def num_days(df, i):\n",
    "    data_one_id = df[df['ID']==i]\n",
    "    return len(data_one_id['DATE'].unique())"
   ]
  },
  {
   "cell_type": "code",
   "execution_count": 66,
   "metadata": {},
   "outputs": [],
   "source": [
    "def missing_dates(df, i):\n",
    "    all_dates_list = df[df['ID']==0]['DATE'].unique()\n",
    "    one_id_dates_list = df[df['ID']==i]['DATE'].unique()\n",
    "    \n",
    "    missing_dates = []\n",
    "    for date in all_dates_list:\n",
    "        if date not in one_id_dates_list:\n",
    "            missing_dates.append(date)\n",
    "    return missing_dates"
   ]
  },
  {
   "cell_type": "code",
   "execution_count": 75,
   "metadata": {},
   "outputs": [],
   "source": [
    "missing={'ID':[],'DATE':[]}\n",
    "for i in df['ID'].unique():\n",
    "    if num_days(df, i) != 365:\n",
    "        missing['ID'].append(i)\n",
    "        missing['DATE'].append(missing_dates(df, i))"
   ]
  },
  {
   "cell_type": "code",
   "execution_count": 76,
   "metadata": {},
   "outputs": [],
   "source": [
    "missing_df = pd.DataFrame.from_dict(missing)"
   ]
  },
  {
   "cell_type": "code",
   "execution_count": 79,
   "metadata": {},
   "outputs": [],
   "source": [
    "missing_df['NUM_MISSINGS'] = missing_df['DATE'].apply(len)"
   ]
  },
  {
   "cell_type": "markdown",
   "metadata": {},
   "source": [
    "### Índice del contador frente a fechas que faltan para ese contador"
   ]
  },
  {
   "cell_type": "code",
   "execution_count": 85,
   "metadata": {},
   "outputs": [
    {
     "data": {
      "text/plain": [
       "<BarContainer object of 772 artists>"
      ]
     },
     "execution_count": 85,
     "metadata": {},
     "output_type": "execute_result"
    },
    {
     "data": {
      "image/png": "[encoded data removed]",
      "text/plain": [
       "<Figure size 432x288 with 1 Axes>"
      ]
     },
     "metadata": {
      "needs_background": "light"
     },
     "output_type": "display_data"
    }
   ],
   "source": [
    "from matplotlib import pyplot as plt\n",
    "\n",
    "plt.bar(missing_df['ID'], missing_df['NUM_MISSINGS'])"
   ]
  },
  {
   "cell_type": "code",
   "execution_count": 90,
   "metadata": {},
   "outputs": [
    {
     "data": {
      "text/html": [
       "<div>\n",
       "<style scoped>\n",
       "    .dataframe tbody tr th:only-of-type {\n",
       "        vertical-align: middle;\n",
       "    }\n",
       "\n",
       "    .dataframe tbody tr th {\n",
       "        vertical-align: top;\n",
       "    }\n",
       "\n",
       "    .dataframe thead th {\n",
       "        text-align: right;\n",
       "    }\n",
       "</style>\n",
       "<table border=\"1\" class=\"dataframe\">\n",
       "  <thead>\n",
       "    <tr style=\"text-align: right;\">\n",
       "      <th></th>\n",
       "      <th>ID</th>\n",
       "      <th>DATE</th>\n",
       "      <th>NUM_MISSINGS</th>\n",
       "    </tr>\n",
       "  </thead>\n",
       "  <tbody>\n",
       "    <tr>\n",
       "      <th>546</th>\n",
       "      <td>2521</td>\n",
       "      <td>[2019-02-01, 2019-02-02, 2019-02-03, 2019-02-0...</td>\n",
       "      <td>363</td>\n",
       "    </tr>\n",
       "    <tr>\n",
       "      <th>749</th>\n",
       "      <td>2724</td>\n",
       "      <td>[2019-02-01, 2019-02-02, 2019-02-03, 2019-02-0...</td>\n",
       "      <td>362</td>\n",
       "    </tr>\n",
       "    <tr>\n",
       "      <th>750</th>\n",
       "      <td>2725</td>\n",
       "      <td>[2019-02-01, 2019-02-02, 2019-02-03, 2019-02-0...</td>\n",
       "      <td>362</td>\n",
       "    </tr>\n",
       "    <tr>\n",
       "      <th>751</th>\n",
       "      <td>2727</td>\n",
       "      <td>[2019-02-01, 2019-02-02, 2019-02-03, 2019-02-0...</td>\n",
       "      <td>363</td>\n",
       "    </tr>\n",
       "    <tr>\n",
       "      <th>752</th>\n",
       "      <td>2728</td>\n",
       "      <td>[2019-02-01, 2019-02-02, 2019-02-03, 2019-02-0...</td>\n",
       "      <td>362</td>\n",
       "    </tr>\n",
       "    <tr>\n",
       "      <th>753</th>\n",
       "      <td>2729</td>\n",
       "      <td>[2019-02-01, 2019-02-02, 2019-02-03, 2019-02-0...</td>\n",
       "      <td>364</td>\n",
       "    </tr>\n",
       "    <tr>\n",
       "      <th>754</th>\n",
       "      <td>2730</td>\n",
       "      <td>[2019-02-01, 2019-02-02, 2019-02-03, 2019-02-0...</td>\n",
       "      <td>364</td>\n",
       "    </tr>\n",
       "    <tr>\n",
       "      <th>755</th>\n",
       "      <td>2731</td>\n",
       "      <td>[2019-02-01, 2019-02-02, 2019-02-03, 2019-02-0...</td>\n",
       "      <td>364</td>\n",
       "    </tr>\n",
       "    <tr>\n",
       "      <th>756</th>\n",
       "      <td>2732</td>\n",
       "      <td>[2019-02-01, 2019-02-02, 2019-02-03, 2019-02-0...</td>\n",
       "      <td>364</td>\n",
       "    </tr>\n",
       "    <tr>\n",
       "      <th>757</th>\n",
       "      <td>2733</td>\n",
       "      <td>[2019-02-01, 2019-02-02, 2019-02-03, 2019-02-0...</td>\n",
       "      <td>364</td>\n",
       "    </tr>\n",
       "    <tr>\n",
       "      <th>758</th>\n",
       "      <td>2734</td>\n",
       "      <td>[2019-02-01, 2019-02-02, 2019-02-03, 2019-02-0...</td>\n",
       "      <td>364</td>\n",
       "    </tr>\n",
       "    <tr>\n",
       "      <th>759</th>\n",
       "      <td>2735</td>\n",
       "      <td>[2019-02-01, 2019-02-02, 2019-02-03, 2019-02-0...</td>\n",
       "      <td>364</td>\n",
       "    </tr>\n",
       "    <tr>\n",
       "      <th>760</th>\n",
       "      <td>2736</td>\n",
       "      <td>[2019-02-01, 2019-02-02, 2019-02-03, 2019-02-0...</td>\n",
       "      <td>364</td>\n",
       "    </tr>\n",
       "    <tr>\n",
       "      <th>761</th>\n",
       "      <td>2737</td>\n",
       "      <td>[2019-02-01, 2019-02-02, 2019-02-03, 2019-02-0...</td>\n",
       "      <td>361</td>\n",
       "    </tr>\n",
       "    <tr>\n",
       "      <th>762</th>\n",
       "      <td>2739</td>\n",
       "      <td>[2019-02-01, 2019-02-02, 2019-02-03, 2019-02-0...</td>\n",
       "      <td>363</td>\n",
       "    </tr>\n",
       "    <tr>\n",
       "      <th>764</th>\n",
       "      <td>2743</td>\n",
       "      <td>[2019-02-01, 2019-02-02, 2019-02-03, 2019-02-0...</td>\n",
       "      <td>364</td>\n",
       "    </tr>\n",
       "    <tr>\n",
       "      <th>765</th>\n",
       "      <td>2744</td>\n",
       "      <td>[2019-02-01, 2019-02-02, 2019-02-03, 2019-02-0...</td>\n",
       "      <td>364</td>\n",
       "    </tr>\n",
       "    <tr>\n",
       "      <th>767</th>\n",
       "      <td>2746</td>\n",
       "      <td>[2019-02-01, 2019-02-02, 2019-02-03, 2019-02-0...</td>\n",
       "      <td>362</td>\n",
       "    </tr>\n",
       "    <tr>\n",
       "      <th>768</th>\n",
       "      <td>2747</td>\n",
       "      <td>[2019-02-01, 2019-02-02, 2019-02-03, 2019-02-0...</td>\n",
       "      <td>364</td>\n",
       "    </tr>\n",
       "    <tr>\n",
       "      <th>769</th>\n",
       "      <td>2748</td>\n",
       "      <td>[2019-02-01, 2019-02-02, 2019-02-03, 2019-02-0...</td>\n",
       "      <td>361</td>\n",
       "    </tr>\n",
       "    <tr>\n",
       "      <th>770</th>\n",
       "      <td>2749</td>\n",
       "      <td>[2019-02-01, 2019-02-02, 2019-02-03, 2019-02-0...</td>\n",
       "      <td>363</td>\n",
       "    </tr>\n",
       "    <tr>\n",
       "      <th>771</th>\n",
       "      <td>2756</td>\n",
       "      <td>[2019-02-01, 2019-02-02, 2019-02-03, 2019-02-0...</td>\n",
       "      <td>364</td>\n",
       "    </tr>\n",
       "  </tbody>\n",
       "</table>\n",
       "</div>"
      ],
      "text/plain": [
       "       ID                                               DATE  NUM_MISSINGS\n",
       "546  2521  [2019-02-01, 2019-02-02, 2019-02-03, 2019-02-0...           363\n",
       "749  2724  [2019-02-01, 2019-02-02, 2019-02-03, 2019-02-0...           362\n",
       "750  2725  [2019-02-01, 2019-02-02, 2019-02-03, 2019-02-0...           362\n",
       "751  2727  [2019-02-01, 2019-02-02, 2019-02-03, 2019-02-0...           363\n",
       "752  2728  [2019-02-01, 2019-02-02, 2019-02-03, 2019-02-0...           362\n",
       "753  2729  [2019-02-01, 2019-02-02, 2019-02-03, 2019-02-0...           364\n",
       "754  2730  [2019-02-01, 2019-02-02, 2019-02-03, 2019-02-0...           364\n",
       "755  2731  [2019-02-01, 2019-02-02, 2019-02-03, 2019-02-0...           364\n",
       "756  2732  [2019-02-01, 2019-02-02, 2019-02-03, 2019-02-0...           364\n",
       "757  2733  [2019-02-01, 2019-02-02, 2019-02-03, 2019-02-0...           364\n",
       "758  2734  [2019-02-01, 2019-02-02, 2019-02-03, 2019-02-0...           364\n",
       "759  2735  [2019-02-01, 2019-02-02, 2019-02-03, 2019-02-0...           364\n",
       "760  2736  [2019-02-01, 2019-02-02, 2019-02-03, 2019-02-0...           364\n",
       "761  2737  [2019-02-01, 2019-02-02, 2019-02-03, 2019-02-0...           361\n",
       "762  2739  [2019-02-01, 2019-02-02, 2019-02-03, 2019-02-0...           363\n",
       "764  2743  [2019-02-01, 2019-02-02, 2019-02-03, 2019-02-0...           364\n",
       "765  2744  [2019-02-01, 2019-02-02, 2019-02-03, 2019-02-0...           364\n",
       "767  2746  [2019-02-01, 2019-02-02, 2019-02-03, 2019-02-0...           362\n",
       "768  2747  [2019-02-01, 2019-02-02, 2019-02-03, 2019-02-0...           364\n",
       "769  2748  [2019-02-01, 2019-02-02, 2019-02-03, 2019-02-0...           361\n",
       "770  2749  [2019-02-01, 2019-02-02, 2019-02-03, 2019-02-0...           363\n",
       "771  2756  [2019-02-01, 2019-02-02, 2019-02-03, 2019-02-0...           364"
      ]
     },
     "execution_count": 90,
     "metadata": {},
     "output_type": "execute_result"
    }
   ],
   "source": [
    "missing_df[missing_df['NUM_MISSINGS'] > 360]"
   ]
  },
  {
   "cell_type": "code",
   "execution_count": null,
   "metadata": {},
   "outputs": [],
   "source": []
  }
 ],
 "metadata": {
  "interpreter": {
   "hash": "a69ea4cfb8306203f039115af0465b6153b9707b088c28cf8f65bbadd28ca25a"
  },
  "kernelspec": {
   "display_name": "Python 3 (ipykernel)",
   "language": "python",
   "name": "python3"
  },
  "language_info": {
   "codemirror_mode": {
    "name": "ipython",
    "version": 3
   },
   "file_extension": ".py",
   "mimetype": "text/x-python",
   "name": "python",
   "nbconvert_exporter": "python",
   "pygments_lexer": "ipython3",
   "version": "3.9.7"
  }
 },
 "nbformat": 4,
 "nbformat_minor": 2
}
