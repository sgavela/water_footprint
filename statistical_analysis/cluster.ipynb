{
 "cells": [
  {
   "cell_type": "code",
   "execution_count": 1,
   "metadata": {},
   "outputs": [],
   "source": [
    "##################### NO TERMINADO"
   ]
  },
  {
   "cell_type": "code",
   "execution_count": 7,
   "metadata": {},
   "outputs": [],
   "source": [
    "##################### NO TERMINADO"
   ]
  },
  {
   "cell_type": "code",
   "execution_count": 12,
   "metadata": {},
   "outputs": [],
   "source": [
    "import pandas as pd\n",
    "import matplotlib.pyplot as plt\n",
    "from kneed import KneeLocator\n",
    "from sklearn.datasets import make_blobs\n",
    "from sklearn.cluster import KMeans\n",
    "from sklearn.metrics import silhouette_score\n",
    "from sklearn.preprocessing import StandardScaler"
   ]
  },
  {
   "cell_type": "code",
   "execution_count": 14,
   "metadata": {},
   "outputs": [
    {
     "data": {
      "text/html": [
       "<div>\n",
       "<style scoped>\n",
       "    .dataframe tbody tr th:only-of-type {\n",
       "        vertical-align: middle;\n",
       "    }\n",
       "\n",
       "    .dataframe tbody tr th {\n",
       "        vertical-align: top;\n",
       "    }\n",
       "\n",
       "    .dataframe thead th {\n",
       "        text-align: right;\n",
       "    }\n",
       "</style>\n",
       "<table border=\"1\" class=\"dataframe\">\n",
       "  <thead>\n",
       "    <tr style=\"text-align: right;\">\n",
       "      <th></th>\n",
       "      <th>date_is_weekday</th>\n",
       "      <th>month_cos</th>\n",
       "      <th>month_sin</th>\n",
       "      <th>day_cos</th>\n",
       "      <th>day_sin</th>\n",
       "      <th>delta_norm_0-1</th>\n",
       "    </tr>\n",
       "  </thead>\n",
       "  <tbody>\n",
       "    <tr>\n",
       "      <th>0</th>\n",
       "      <td>1</td>\n",
       "      <td>-1.0</td>\n",
       "      <td>1.224647e-16</td>\n",
       "      <td>-0.874347</td>\n",
       "      <td>0.485302</td>\n",
       "      <td>0.400000</td>\n",
       "    </tr>\n",
       "    <tr>\n",
       "      <th>1</th>\n",
       "      <td>1</td>\n",
       "      <td>-1.0</td>\n",
       "      <td>1.224647e-16</td>\n",
       "      <td>-0.874347</td>\n",
       "      <td>0.485302</td>\n",
       "      <td>0.400000</td>\n",
       "    </tr>\n",
       "    <tr>\n",
       "      <th>2</th>\n",
       "      <td>1</td>\n",
       "      <td>-1.0</td>\n",
       "      <td>1.224647e-16</td>\n",
       "      <td>-0.874347</td>\n",
       "      <td>0.485302</td>\n",
       "      <td>0.400000</td>\n",
       "    </tr>\n",
       "    <tr>\n",
       "      <th>3</th>\n",
       "      <td>1</td>\n",
       "      <td>-1.0</td>\n",
       "      <td>1.224647e-16</td>\n",
       "      <td>-0.874347</td>\n",
       "      <td>0.485302</td>\n",
       "      <td>0.400000</td>\n",
       "    </tr>\n",
       "    <tr>\n",
       "      <th>4</th>\n",
       "      <td>1</td>\n",
       "      <td>-1.0</td>\n",
       "      <td>1.224647e-16</td>\n",
       "      <td>-0.874347</td>\n",
       "      <td>0.485302</td>\n",
       "      <td>0.400000</td>\n",
       "    </tr>\n",
       "    <tr>\n",
       "      <th>...</th>\n",
       "      <td>...</td>\n",
       "      <td>...</td>\n",
       "      <td>...</td>\n",
       "      <td>...</td>\n",
       "      <td>...</td>\n",
       "      <td>...</td>\n",
       "    </tr>\n",
       "    <tr>\n",
       "      <th>21404823</th>\n",
       "      <td>1</td>\n",
       "      <td>0.5</td>\n",
       "      <td>-8.660254e-01</td>\n",
       "      <td>-0.612106</td>\n",
       "      <td>0.790776</td>\n",
       "      <td>0.333333</td>\n",
       "    </tr>\n",
       "    <tr>\n",
       "      <th>21404824</th>\n",
       "      <td>1</td>\n",
       "      <td>-0.5</td>\n",
       "      <td>8.660254e-01</td>\n",
       "      <td>0.347305</td>\n",
       "      <td>0.937752</td>\n",
       "      <td>0.166667</td>\n",
       "    </tr>\n",
       "    <tr>\n",
       "      <th>21404825</th>\n",
       "      <td>1</td>\n",
       "      <td>-0.5</td>\n",
       "      <td>8.660254e-01</td>\n",
       "      <td>0.347305</td>\n",
       "      <td>0.937752</td>\n",
       "      <td>0.166667</td>\n",
       "    </tr>\n",
       "    <tr>\n",
       "      <th>21404826</th>\n",
       "      <td>1</td>\n",
       "      <td>-0.5</td>\n",
       "      <td>8.660254e-01</td>\n",
       "      <td>0.347305</td>\n",
       "      <td>0.937752</td>\n",
       "      <td>0.166667</td>\n",
       "    </tr>\n",
       "    <tr>\n",
       "      <th>21404827</th>\n",
       "      <td>1</td>\n",
       "      <td>-0.5</td>\n",
       "      <td>8.660254e-01</td>\n",
       "      <td>0.347305</td>\n",
       "      <td>0.937752</td>\n",
       "      <td>0.166667</td>\n",
       "    </tr>\n",
       "  </tbody>\n",
       "</table>\n",
       "<p>21404828 rows × 6 columns</p>\n",
       "</div>"
      ],
      "text/plain": [
       "          date_is_weekday  month_cos     month_sin   day_cos   day_sin  \\\n",
       "0                       1       -1.0  1.224647e-16 -0.874347  0.485302   \n",
       "1                       1       -1.0  1.224647e-16 -0.874347  0.485302   \n",
       "2                       1       -1.0  1.224647e-16 -0.874347  0.485302   \n",
       "3                       1       -1.0  1.224647e-16 -0.874347  0.485302   \n",
       "4                       1       -1.0  1.224647e-16 -0.874347  0.485302   \n",
       "...                   ...        ...           ...       ...       ...   \n",
       "21404823                1        0.5 -8.660254e-01 -0.612106  0.790776   \n",
       "21404824                1       -0.5  8.660254e-01  0.347305  0.937752   \n",
       "21404825                1       -0.5  8.660254e-01  0.347305  0.937752   \n",
       "21404826                1       -0.5  8.660254e-01  0.347305  0.937752   \n",
       "21404827                1       -0.5  8.660254e-01  0.347305  0.937752   \n",
       "\n",
       "          delta_norm_0-1  \n",
       "0               0.400000  \n",
       "1               0.400000  \n",
       "2               0.400000  \n",
       "3               0.400000  \n",
       "4               0.400000  \n",
       "...                  ...  \n",
       "21404823        0.333333  \n",
       "21404824        0.166667  \n",
       "21404825        0.166667  \n",
       "21404826        0.166667  \n",
       "21404827        0.166667  \n",
       "\n",
       "[21404828 rows x 6 columns]"
      ]
     },
     "execution_count": 14,
     "metadata": {},
     "output_type": "execute_result"
    }
   ],
   "source": [
    "df = pd.read_csv('../data/df_para_cluster.csv', sep = ',')\n",
    "df"
   ]
  },
  {
   "cell_type": "code",
   "execution_count": 13,
   "metadata": {},
   "outputs": [],
   "source": [
    "df = df.drop(labels = ['Unnamed: 0', 'ID'], axis=1)"
   ]
  },
  {
   "cell_type": "code",
   "execution_count": 18,
   "metadata": {},
   "outputs": [],
   "source": [
    "kmeans = KMeans(\n",
    "     init=\"random\",\n",
    "     n_clusters=4,\n",
    "     n_init=10,\n",
    "     max_iter=200,\n",
    "     random_state=42\n",
    " )"
   ]
  },
  {
   "cell_type": "code",
   "execution_count": 19,
   "metadata": {},
   "outputs": [
    {
     "data": {
      "text/plain": [
       "KMeans(init='random', max_iter=5, n_clusters=5, random_state=42)"
      ]
     },
     "execution_count": 19,
     "metadata": {},
     "output_type": "execute_result"
    }
   ],
   "source": []
  },
  {
   "cell_type": "code",
   "execution_count": 20,
   "metadata": {},
   "outputs": [],
   "source": []
  },
  {
   "cell_type": "code",
   "execution_count": 21,
   "metadata": {},
   "outputs": [
    {
     "data": {
      "text/plain": [
       "<matplotlib.collections.PathCollection at 0x21eb89ed4e0>"
      ]
     },
     "execution_count": 21,
     "metadata": {},
     "output_type": "execute_result"
    },
    {
     "data": {
      "image/png": "[encoded data removed]",
      "text/plain": [
       "<Figure size 432x288 with 1 Axes>"
      ]
     },
     "metadata": {
      "needs_background": "light"
     },
     "output_type": "display_data"
    }
   ],
   "source": [
    "\n"
   ]
  }
 ],
 "metadata": {
  "interpreter": {
   "hash": "955b5dbf1c9568fcdca6427b82ed9dd3b5652756bab72d537c2112a7dd2607f3"
  },
  "kernelspec": {
   "display_name": "Python 3.10.0 64-bit",
   "language": "python",
   "name": "python3"
  },
  "language_info": {
   "codemirror_mode": {
    "name": "ipython",
    "version": 3
   },
   "file_extension": ".py",
   "mimetype": "text/x-python",
   "name": "python",
   "nbconvert_exporter": "python",
   "pygments_lexer": "ipython3",
   "version": "3.10.0"
  },
  "orig_nbformat": 4
 },
 "nbformat": 4,
 "nbformat_minor": 2
}
