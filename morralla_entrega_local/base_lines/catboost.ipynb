{
 "cells": [
  {
   "cell_type": "code",
   "execution_count": 28,
   "id": "e424d9fe",
   "metadata": {},
   "outputs": [
    {
     "ename": "UnicodeDecodeError",
     "evalue": "'utf-8' codec can't decode byte 0x80 in position 0: invalid start byte",
     "output_type": "error",
     "traceback": [
      "\u001b[1;31m---------------------------------------------------------------------------\u001b[0m",
      "\u001b[1;31mUnicodeDecodeError\u001b[0m                        Traceback (most recent call last)",
      "\u001b[1;32m~\\AppData\\Local\\Temp/ipykernel_15836/3467524192.py\u001b[0m in \u001b[0;36m<module>\u001b[1;34m\u001b[0m\n\u001b[0;32m      1\u001b[0m \u001b[1;32mimport\u001b[0m \u001b[0mpandas\u001b[0m \u001b[1;32mas\u001b[0m \u001b[0mpd\u001b[0m\u001b[1;33m\u001b[0m\u001b[1;33m\u001b[0m\u001b[0m\n\u001b[0;32m      2\u001b[0m \u001b[1;33m\u001b[0m\u001b[0m\n\u001b[1;32m----> 3\u001b[1;33m \u001b[0mdata\u001b[0m \u001b[1;33m=\u001b[0m \u001b[0mpd\u001b[0m\u001b[1;33m.\u001b[0m\u001b[0mread_csv\u001b[0m\u001b[1;33m(\u001b[0m\u001b[1;34m'../data/df6.pkl'\u001b[0m\u001b[1;33m)\u001b[0m\u001b[1;33m\u001b[0m\u001b[1;33m\u001b[0m\u001b[0m\n\u001b[0m\u001b[0;32m      4\u001b[0m \u001b[0mdata\u001b[0m\u001b[1;33m.\u001b[0m\u001b[0mdrop\u001b[0m\u001b[1;33m(\u001b[0m\u001b[1;34m'Unnamed: 0'\u001b[0m\u001b[1;33m,\u001b[0m \u001b[0maxis\u001b[0m\u001b[1;33m=\u001b[0m\u001b[1;36m1\u001b[0m\u001b[1;33m,\u001b[0m \u001b[0minplace\u001b[0m\u001b[1;33m=\u001b[0m\u001b[1;32mTrue\u001b[0m\u001b[1;33m)\u001b[0m\u001b[1;33m\u001b[0m\u001b[1;33m\u001b[0m\u001b[0m\n\u001b[0;32m      5\u001b[0m \u001b[0mdata\u001b[0m\u001b[1;33m.\u001b[0m\u001b[0mhead\u001b[0m\u001b[1;33m(\u001b[0m\u001b[1;33m)\u001b[0m\u001b[1;33m\u001b[0m\u001b[1;33m\u001b[0m\u001b[0m\n",
      "\u001b[1;32mC:\\Python3.10\\lib\\site-packages\\pandas\\util\\_decorators.py\u001b[0m in \u001b[0;36mwrapper\u001b[1;34m(*args, **kwargs)\u001b[0m\n\u001b[0;32m    309\u001b[0m                     \u001b[0mstacklevel\u001b[0m\u001b[1;33m=\u001b[0m\u001b[0mstacklevel\u001b[0m\u001b[1;33m,\u001b[0m\u001b[1;33m\u001b[0m\u001b[1;33m\u001b[0m\u001b[0m\n\u001b[0;32m    310\u001b[0m                 )\n\u001b[1;32m--> 311\u001b[1;33m             \u001b[1;32mreturn\u001b[0m \u001b[0mfunc\u001b[0m\u001b[1;33m(\u001b[0m\u001b[1;33m*\u001b[0m\u001b[0margs\u001b[0m\u001b[1;33m,\u001b[0m \u001b[1;33m**\u001b[0m\u001b[0mkwargs\u001b[0m\u001b[1;33m)\u001b[0m\u001b[1;33m\u001b[0m\u001b[1;33m\u001b[0m\u001b[0m\n\u001b[0m\u001b[0;32m    312\u001b[0m \u001b[1;33m\u001b[0m\u001b[0m\n\u001b[0;32m    313\u001b[0m         \u001b[1;32mreturn\u001b[0m \u001b[0mwrapper\u001b[0m\u001b[1;33m\u001b[0m\u001b[1;33m\u001b[0m\u001b[0m\n",
      "\u001b[1;32mC:\\Python3.10\\lib\\site-packages\\pandas\\io\\parsers\\readers.py\u001b[0m in \u001b[0;36mread_csv\u001b[1;34m(filepath_or_buffer, sep, delimiter, header, names, index_col, usecols, squeeze, prefix, mangle_dupe_cols, dtype, engine, converters, true_values, false_values, skipinitialspace, skiprows, skipfooter, nrows, na_values, keep_default_na, na_filter, verbose, skip_blank_lines, parse_dates, infer_datetime_format, keep_date_col, date_parser, dayfirst, cache_dates, iterator, chunksize, compression, thousands, decimal, lineterminator, quotechar, quoting, doublequote, escapechar, comment, encoding, encoding_errors, dialect, error_bad_lines, warn_bad_lines, on_bad_lines, delim_whitespace, low_memory, memory_map, float_precision, storage_options)\u001b[0m\n\u001b[0;32m    678\u001b[0m     \u001b[0mkwds\u001b[0m\u001b[1;33m.\u001b[0m\u001b[0mupdate\u001b[0m\u001b[1;33m(\u001b[0m\u001b[0mkwds_defaults\u001b[0m\u001b[1;33m)\u001b[0m\u001b[1;33m\u001b[0m\u001b[1;33m\u001b[0m\u001b[0m\n\u001b[0;32m    679\u001b[0m \u001b[1;33m\u001b[0m\u001b[0m\n\u001b[1;32m--> 680\u001b[1;33m     \u001b[1;32mreturn\u001b[0m \u001b[0m_read\u001b[0m\u001b[1;33m(\u001b[0m\u001b[0mfilepath_or_buffer\u001b[0m\u001b[1;33m,\u001b[0m \u001b[0mkwds\u001b[0m\u001b[1;33m)\u001b[0m\u001b[1;33m\u001b[0m\u001b[1;33m\u001b[0m\u001b[0m\n\u001b[0m\u001b[0;32m    681\u001b[0m \u001b[1;33m\u001b[0m\u001b[0m\n\u001b[0;32m    682\u001b[0m \u001b[1;33m\u001b[0m\u001b[0m\n",
      "\u001b[1;32mC:\\Python3.10\\lib\\site-packages\\pandas\\io\\parsers\\readers.py\u001b[0m in \u001b[0;36m_read\u001b[1;34m(filepath_or_buffer, kwds)\u001b[0m\n\u001b[0;32m    573\u001b[0m \u001b[1;33m\u001b[0m\u001b[0m\n\u001b[0;32m    574\u001b[0m     \u001b[1;31m# Create the parser.\u001b[0m\u001b[1;33m\u001b[0m\u001b[1;33m\u001b[0m\u001b[0m\n\u001b[1;32m--> 575\u001b[1;33m     \u001b[0mparser\u001b[0m \u001b[1;33m=\u001b[0m \u001b[0mTextFileReader\u001b[0m\u001b[1;33m(\u001b[0m\u001b[0mfilepath_or_buffer\u001b[0m\u001b[1;33m,\u001b[0m \u001b[1;33m**\u001b[0m\u001b[0mkwds\u001b[0m\u001b[1;33m)\u001b[0m\u001b[1;33m\u001b[0m\u001b[1;33m\u001b[0m\u001b[0m\n\u001b[0m\u001b[0;32m    576\u001b[0m \u001b[1;33m\u001b[0m\u001b[0m\n\u001b[0;32m    577\u001b[0m     \u001b[1;32mif\u001b[0m \u001b[0mchunksize\u001b[0m \u001b[1;32mor\u001b[0m \u001b[0miterator\u001b[0m\u001b[1;33m:\u001b[0m\u001b[1;33m\u001b[0m\u001b[1;33m\u001b[0m\u001b[0m\n",
      "\u001b[1;32mC:\\Python3.10\\lib\\site-packages\\pandas\\io\\parsers\\readers.py\u001b[0m in \u001b[0;36m__init__\u001b[1;34m(self, f, engine, **kwds)\u001b[0m\n\u001b[0;32m    931\u001b[0m \u001b[1;33m\u001b[0m\u001b[0m\n\u001b[0;32m    932\u001b[0m         \u001b[0mself\u001b[0m\u001b[1;33m.\u001b[0m\u001b[0mhandles\u001b[0m\u001b[1;33m:\u001b[0m \u001b[0mIOHandles\u001b[0m \u001b[1;33m|\u001b[0m \u001b[1;32mNone\u001b[0m \u001b[1;33m=\u001b[0m \u001b[1;32mNone\u001b[0m\u001b[1;33m\u001b[0m\u001b[1;33m\u001b[0m\u001b[0m\n\u001b[1;32m--> 933\u001b[1;33m         \u001b[0mself\u001b[0m\u001b[1;33m.\u001b[0m\u001b[0m_engine\u001b[0m \u001b[1;33m=\u001b[0m \u001b[0mself\u001b[0m\u001b[1;33m.\u001b[0m\u001b[0m_make_engine\u001b[0m\u001b[1;33m(\u001b[0m\u001b[0mf\u001b[0m\u001b[1;33m,\u001b[0m \u001b[0mself\u001b[0m\u001b[1;33m.\u001b[0m\u001b[0mengine\u001b[0m\u001b[1;33m)\u001b[0m\u001b[1;33m\u001b[0m\u001b[1;33m\u001b[0m\u001b[0m\n\u001b[0m\u001b[0;32m    934\u001b[0m \u001b[1;33m\u001b[0m\u001b[0m\n\u001b[0;32m    935\u001b[0m     \u001b[1;32mdef\u001b[0m \u001b[0mclose\u001b[0m\u001b[1;33m(\u001b[0m\u001b[0mself\u001b[0m\u001b[1;33m)\u001b[0m\u001b[1;33m:\u001b[0m\u001b[1;33m\u001b[0m\u001b[1;33m\u001b[0m\u001b[0m\n",
      "\u001b[1;32mC:\\Python3.10\\lib\\site-packages\\pandas\\io\\parsers\\readers.py\u001b[0m in \u001b[0;36m_make_engine\u001b[1;34m(self, f, engine)\u001b[0m\n\u001b[0;32m   1229\u001b[0m \u001b[1;33m\u001b[0m\u001b[0m\n\u001b[0;32m   1230\u001b[0m         \u001b[1;32mtry\u001b[0m\u001b[1;33m:\u001b[0m\u001b[1;33m\u001b[0m\u001b[1;33m\u001b[0m\u001b[0m\n\u001b[1;32m-> 1231\u001b[1;33m             \u001b[1;32mreturn\u001b[0m \u001b[0mmapping\u001b[0m\u001b[1;33m[\u001b[0m\u001b[0mengine\u001b[0m\u001b[1;33m]\u001b[0m\u001b[1;33m(\u001b[0m\u001b[0mf\u001b[0m\u001b[1;33m,\u001b[0m \u001b[1;33m**\u001b[0m\u001b[0mself\u001b[0m\u001b[1;33m.\u001b[0m\u001b[0moptions\u001b[0m\u001b[1;33m)\u001b[0m\u001b[1;33m\u001b[0m\u001b[1;33m\u001b[0m\u001b[0m\n\u001b[0m\u001b[0;32m   1232\u001b[0m         \u001b[1;32mexcept\u001b[0m \u001b[0mException\u001b[0m\u001b[1;33m:\u001b[0m\u001b[1;33m\u001b[0m\u001b[1;33m\u001b[0m\u001b[0m\n\u001b[0;32m   1233\u001b[0m             \u001b[1;32mif\u001b[0m \u001b[0mself\u001b[0m\u001b[1;33m.\u001b[0m\u001b[0mhandles\u001b[0m \u001b[1;32mis\u001b[0m \u001b[1;32mnot\u001b[0m \u001b[1;32mNone\u001b[0m\u001b[1;33m:\u001b[0m\u001b[1;33m\u001b[0m\u001b[1;33m\u001b[0m\u001b[0m\n",
      "\u001b[1;32mC:\\Python3.10\\lib\\site-packages\\pandas\\io\\parsers\\c_parser_wrapper.py\u001b[0m in \u001b[0;36m__init__\u001b[1;34m(self, src, **kwds)\u001b[0m\n\u001b[0;32m     73\u001b[0m \u001b[1;33m\u001b[0m\u001b[0m\n\u001b[0;32m     74\u001b[0m         \u001b[0mkwds\u001b[0m\u001b[1;33m[\u001b[0m\u001b[1;34m\"dtype\"\u001b[0m\u001b[1;33m]\u001b[0m \u001b[1;33m=\u001b[0m \u001b[0mensure_dtype_objs\u001b[0m\u001b[1;33m(\u001b[0m\u001b[0mkwds\u001b[0m\u001b[1;33m.\u001b[0m\u001b[0mget\u001b[0m\u001b[1;33m(\u001b[0m\u001b[1;34m\"dtype\"\u001b[0m\u001b[1;33m,\u001b[0m \u001b[1;32mNone\u001b[0m\u001b[1;33m)\u001b[0m\u001b[1;33m)\u001b[0m\u001b[1;33m\u001b[0m\u001b[1;33m\u001b[0m\u001b[0m\n\u001b[1;32m---> 75\u001b[1;33m         \u001b[0mself\u001b[0m\u001b[1;33m.\u001b[0m\u001b[0m_reader\u001b[0m \u001b[1;33m=\u001b[0m \u001b[0mparsers\u001b[0m\u001b[1;33m.\u001b[0m\u001b[0mTextReader\u001b[0m\u001b[1;33m(\u001b[0m\u001b[0msrc\u001b[0m\u001b[1;33m,\u001b[0m \u001b[1;33m**\u001b[0m\u001b[0mkwds\u001b[0m\u001b[1;33m)\u001b[0m\u001b[1;33m\u001b[0m\u001b[1;33m\u001b[0m\u001b[0m\n\u001b[0m\u001b[0;32m     76\u001b[0m \u001b[1;33m\u001b[0m\u001b[0m\n\u001b[0;32m     77\u001b[0m         \u001b[0mself\u001b[0m\u001b[1;33m.\u001b[0m\u001b[0munnamed_cols\u001b[0m \u001b[1;33m=\u001b[0m \u001b[0mself\u001b[0m\u001b[1;33m.\u001b[0m\u001b[0m_reader\u001b[0m\u001b[1;33m.\u001b[0m\u001b[0munnamed_cols\u001b[0m\u001b[1;33m\u001b[0m\u001b[1;33m\u001b[0m\u001b[0m\n",
      "\u001b[1;32mC:\\Python3.10\\lib\\site-packages\\pandas\\_libs\\parsers.pyx\u001b[0m in \u001b[0;36mpandas._libs.parsers.TextReader.__cinit__\u001b[1;34m()\u001b[0m\n",
      "\u001b[1;32mC:\\Python3.10\\lib\\site-packages\\pandas\\_libs\\parsers.pyx\u001b[0m in \u001b[0;36mpandas._libs.parsers.TextReader._get_header\u001b[1;34m()\u001b[0m\n",
      "\u001b[1;32mC:\\Python3.10\\lib\\site-packages\\pandas\\_libs\\parsers.pyx\u001b[0m in \u001b[0;36mpandas._libs.parsers.TextReader._tokenize_rows\u001b[1;34m()\u001b[0m\n",
      "\u001b[1;32mC:\\Python3.10\\lib\\site-packages\\pandas\\_libs\\parsers.pyx\u001b[0m in \u001b[0;36mpandas._libs.parsers.raise_parser_error\u001b[1;34m()\u001b[0m\n",
      "\u001b[1;31mUnicodeDecodeError\u001b[0m: 'utf-8' codec can't decode byte 0x80 in position 0: invalid start byte"
     ]
    }
   ],
   "source": [
    "import pandas as pd\n",
    "\n",
    "#data = pd.read_csv('../data/enriquecidos-004.pkl')\n",
    "#data.drop('Unnamed: 0', axis=1, inplace=True)\n",
    "#data.head()"
   ]
  },
  {
   "cell_type": "code",
   "execution_count": 31,
   "id": "c37eab7a",
   "metadata": {},
   "outputs": [
    {
     "data": {
      "text/html": [
       "<div>\n",
       "<style scoped>\n",
       "    .dataframe tbody tr th:only-of-type {\n",
       "        vertical-align: middle;\n",
       "    }\n",
       "\n",
       "    .dataframe tbody tr th {\n",
       "        vertical-align: top;\n",
       "    }\n",
       "\n",
       "    .dataframe thead th {\n",
       "        text-align: right;\n",
       "    }\n",
       "</style>\n",
       "<table border=\"1\" class=\"dataframe\">\n",
       "  <thead>\n",
       "    <tr style=\"text-align: right;\">\n",
       "      <th></th>\n",
       "      <th>ID</th>\n",
       "      <th>DELTA</th>\n",
       "      <th>YEAR_DAY</th>\n",
       "      <th>DATE</th>\n",
       "      <th>MEAN_CONSUMPTION</th>\n",
       "      <th>VARIANCE_CONSUMPTION</th>\n",
       "      <th>WEEKDAY</th>\n",
       "      <th>IS_WEEKEND</th>\n",
       "      <th>sin_WEEKDAY</th>\n",
       "      <th>cos_WEEKDAY</th>\n",
       "      <th>sin_year_day</th>\n",
       "      <th>cos_year_day</th>\n",
       "      <th>PRECIPITATIONS</th>\n",
       "      <th>MIN_TEMP</th>\n",
       "      <th>MEAN_TEMP</th>\n",
       "      <th>MAX_TEMP</th>\n",
       "      <th>SUN</th>\n",
       "      <th>IS_GOOD</th>\n",
       "    </tr>\n",
       "  </thead>\n",
       "  <tbody>\n",
       "    <tr>\n",
       "      <th>0</th>\n",
       "      <td>0</td>\n",
       "      <td>243.0</td>\n",
       "      <td>0</td>\n",
       "      <td>2019-02-01</td>\n",
       "      <td>282.893151</td>\n",
       "      <td>11453.639651</td>\n",
       "      <td>4</td>\n",
       "      <td>0</td>\n",
       "      <td>-0.433884</td>\n",
       "      <td>-0.900969</td>\n",
       "      <td>0.000000</td>\n",
       "      <td>1.000000</td>\n",
       "      <td>0.0</td>\n",
       "      <td>16.5</td>\n",
       "      <td>17.6</td>\n",
       "      <td>18.7</td>\n",
       "      <td>7.1</td>\n",
       "      <td>1</td>\n",
       "    </tr>\n",
       "    <tr>\n",
       "      <th>1</th>\n",
       "      <td>0</td>\n",
       "      <td>236.0</td>\n",
       "      <td>1</td>\n",
       "      <td>2019-02-02</td>\n",
       "      <td>282.893151</td>\n",
       "      <td>11453.639651</td>\n",
       "      <td>5</td>\n",
       "      <td>1</td>\n",
       "      <td>-0.974928</td>\n",
       "      <td>-0.222521</td>\n",
       "      <td>0.017213</td>\n",
       "      <td>0.999852</td>\n",
       "      <td>0.0</td>\n",
       "      <td>9.8</td>\n",
       "      <td>13.4</td>\n",
       "      <td>17.1</td>\n",
       "      <td>6.1</td>\n",
       "      <td>1</td>\n",
       "    </tr>\n",
       "    <tr>\n",
       "      <th>2</th>\n",
       "      <td>0</td>\n",
       "      <td>335.0</td>\n",
       "      <td>2</td>\n",
       "      <td>2019-02-03</td>\n",
       "      <td>282.893151</td>\n",
       "      <td>11453.639651</td>\n",
       "      <td>6</td>\n",
       "      <td>1</td>\n",
       "      <td>-0.781831</td>\n",
       "      <td>0.623490</td>\n",
       "      <td>0.034422</td>\n",
       "      <td>0.999407</td>\n",
       "      <td>0.0</td>\n",
       "      <td>7.7</td>\n",
       "      <td>10.6</td>\n",
       "      <td>13.6</td>\n",
       "      <td>9.3</td>\n",
       "      <td>1</td>\n",
       "    </tr>\n",
       "    <tr>\n",
       "      <th>3</th>\n",
       "      <td>0</td>\n",
       "      <td>252.0</td>\n",
       "      <td>3</td>\n",
       "      <td>2019-02-04</td>\n",
       "      <td>282.893151</td>\n",
       "      <td>11453.639651</td>\n",
       "      <td>0</td>\n",
       "      <td>0</td>\n",
       "      <td>0.000000</td>\n",
       "      <td>1.000000</td>\n",
       "      <td>0.051620</td>\n",
       "      <td>0.998667</td>\n",
       "      <td>0.0</td>\n",
       "      <td>4.1</td>\n",
       "      <td>10.6</td>\n",
       "      <td>17.2</td>\n",
       "      <td>9.3</td>\n",
       "      <td>1</td>\n",
       "    </tr>\n",
       "    <tr>\n",
       "      <th>4</th>\n",
       "      <td>0</td>\n",
       "      <td>220.0</td>\n",
       "      <td>4</td>\n",
       "      <td>2019-02-05</td>\n",
       "      <td>282.893151</td>\n",
       "      <td>11453.639651</td>\n",
       "      <td>1</td>\n",
       "      <td>0</td>\n",
       "      <td>0.781831</td>\n",
       "      <td>0.623490</td>\n",
       "      <td>0.068802</td>\n",
       "      <td>0.997630</td>\n",
       "      <td>0.0</td>\n",
       "      <td>7.5</td>\n",
       "      <td>14.6</td>\n",
       "      <td>21.6</td>\n",
       "      <td>9.2</td>\n",
       "      <td>1</td>\n",
       "    </tr>\n",
       "    <tr>\n",
       "      <th>...</th>\n",
       "      <td>...</td>\n",
       "      <td>...</td>\n",
       "      <td>...</td>\n",
       "      <td>...</td>\n",
       "      <td>...</td>\n",
       "      <td>...</td>\n",
       "      <td>...</td>\n",
       "      <td>...</td>\n",
       "      <td>...</td>\n",
       "      <td>...</td>\n",
       "      <td>...</td>\n",
       "      <td>...</td>\n",
       "      <td>...</td>\n",
       "      <td>...</td>\n",
       "      <td>...</td>\n",
       "      <td>...</td>\n",
       "      <td>...</td>\n",
       "      <td>...</td>\n",
       "    </tr>\n",
       "    <tr>\n",
       "      <th>133220</th>\n",
       "      <td>364</td>\n",
       "      <td>97.0</td>\n",
       "      <td>360</td>\n",
       "      <td>2020-01-27</td>\n",
       "      <td>90.783562</td>\n",
       "      <td>964.541936</td>\n",
       "      <td>0</td>\n",
       "      <td>0</td>\n",
       "      <td>0.000000</td>\n",
       "      <td>1.000000</td>\n",
       "      <td>-0.085965</td>\n",
       "      <td>0.996298</td>\n",
       "      <td>0.0</td>\n",
       "      <td>7.6</td>\n",
       "      <td>13.0</td>\n",
       "      <td>18.4</td>\n",
       "      <td>7.6</td>\n",
       "      <td>1</td>\n",
       "    </tr>\n",
       "    <tr>\n",
       "      <th>133221</th>\n",
       "      <td>364</td>\n",
       "      <td>139.0</td>\n",
       "      <td>361</td>\n",
       "      <td>2020-01-28</td>\n",
       "      <td>90.783562</td>\n",
       "      <td>964.541936</td>\n",
       "      <td>1</td>\n",
       "      <td>0</td>\n",
       "      <td>0.781831</td>\n",
       "      <td>0.623490</td>\n",
       "      <td>-0.068802</td>\n",
       "      <td>0.997630</td>\n",
       "      <td>0.0</td>\n",
       "      <td>13.8</td>\n",
       "      <td>15.8</td>\n",
       "      <td>17.9</td>\n",
       "      <td>0.4</td>\n",
       "      <td>1</td>\n",
       "    </tr>\n",
       "    <tr>\n",
       "      <th>133222</th>\n",
       "      <td>364</td>\n",
       "      <td>65.0</td>\n",
       "      <td>362</td>\n",
       "      <td>2020-01-29</td>\n",
       "      <td>90.783562</td>\n",
       "      <td>964.541936</td>\n",
       "      <td>2</td>\n",
       "      <td>0</td>\n",
       "      <td>0.974928</td>\n",
       "      <td>-0.222521</td>\n",
       "      <td>-0.051620</td>\n",
       "      <td>0.998667</td>\n",
       "      <td>0.0</td>\n",
       "      <td>14.7</td>\n",
       "      <td>18.6</td>\n",
       "      <td>22.4</td>\n",
       "      <td>2.4</td>\n",
       "      <td>1</td>\n",
       "    </tr>\n",
       "    <tr>\n",
       "      <th>133223</th>\n",
       "      <td>364</td>\n",
       "      <td>49.0</td>\n",
       "      <td>363</td>\n",
       "      <td>2020-01-30</td>\n",
       "      <td>90.783562</td>\n",
       "      <td>964.541936</td>\n",
       "      <td>3</td>\n",
       "      <td>0</td>\n",
       "      <td>0.433884</td>\n",
       "      <td>-0.900969</td>\n",
       "      <td>-0.034422</td>\n",
       "      <td>0.999407</td>\n",
       "      <td>0.0</td>\n",
       "      <td>13.0</td>\n",
       "      <td>17.6</td>\n",
       "      <td>22.2</td>\n",
       "      <td>5.3</td>\n",
       "      <td>1</td>\n",
       "    </tr>\n",
       "    <tr>\n",
       "      <th>133224</th>\n",
       "      <td>364</td>\n",
       "      <td>100.0</td>\n",
       "      <td>364</td>\n",
       "      <td>2020-01-31</td>\n",
       "      <td>90.783562</td>\n",
       "      <td>964.541936</td>\n",
       "      <td>4</td>\n",
       "      <td>0</td>\n",
       "      <td>-0.433884</td>\n",
       "      <td>-0.900969</td>\n",
       "      <td>-0.017213</td>\n",
       "      <td>0.999852</td>\n",
       "      <td>0.0</td>\n",
       "      <td>14.5</td>\n",
       "      <td>19.1</td>\n",
       "      <td>23.7</td>\n",
       "      <td>9.2</td>\n",
       "      <td>1</td>\n",
       "    </tr>\n",
       "  </tbody>\n",
       "</table>\n",
       "<p>133225 rows × 18 columns</p>\n",
       "</div>"
      ],
      "text/plain": [
       "         ID  DELTA  YEAR_DAY       DATE  MEAN_CONSUMPTION  \\\n",
       "0         0  243.0         0 2019-02-01        282.893151   \n",
       "1         0  236.0         1 2019-02-02        282.893151   \n",
       "2         0  335.0         2 2019-02-03        282.893151   \n",
       "3         0  252.0         3 2019-02-04        282.893151   \n",
       "4         0  220.0         4 2019-02-05        282.893151   \n",
       "...     ...    ...       ...        ...               ...   \n",
       "133220  364   97.0       360 2020-01-27         90.783562   \n",
       "133221  364  139.0       361 2020-01-28         90.783562   \n",
       "133222  364   65.0       362 2020-01-29         90.783562   \n",
       "133223  364   49.0       363 2020-01-30         90.783562   \n",
       "133224  364  100.0       364 2020-01-31         90.783562   \n",
       "\n",
       "        VARIANCE_CONSUMPTION  WEEKDAY  IS_WEEKEND  sin_WEEKDAY  cos_WEEKDAY  \\\n",
       "0               11453.639651        4           0    -0.433884    -0.900969   \n",
       "1               11453.639651        5           1    -0.974928    -0.222521   \n",
       "2               11453.639651        6           1    -0.781831     0.623490   \n",
       "3               11453.639651        0           0     0.000000     1.000000   \n",
       "4               11453.639651        1           0     0.781831     0.623490   \n",
       "...                      ...      ...         ...          ...          ...   \n",
       "133220            964.541936        0           0     0.000000     1.000000   \n",
       "133221            964.541936        1           0     0.781831     0.623490   \n",
       "133222            964.541936        2           0     0.974928    -0.222521   \n",
       "133223            964.541936        3           0     0.433884    -0.900969   \n",
       "133224            964.541936        4           0    -0.433884    -0.900969   \n",
       "\n",
       "        sin_year_day  cos_year_day  PRECIPITATIONS  MIN_TEMP  MEAN_TEMP  \\\n",
       "0           0.000000      1.000000             0.0      16.5       17.6   \n",
       "1           0.017213      0.999852             0.0       9.8       13.4   \n",
       "2           0.034422      0.999407             0.0       7.7       10.6   \n",
       "3           0.051620      0.998667             0.0       4.1       10.6   \n",
       "4           0.068802      0.997630             0.0       7.5       14.6   \n",
       "...              ...           ...             ...       ...        ...   \n",
       "133220     -0.085965      0.996298             0.0       7.6       13.0   \n",
       "133221     -0.068802      0.997630             0.0      13.8       15.8   \n",
       "133222     -0.051620      0.998667             0.0      14.7       18.6   \n",
       "133223     -0.034422      0.999407             0.0      13.0       17.6   \n",
       "133224     -0.017213      0.999852             0.0      14.5       19.1   \n",
       "\n",
       "        MAX_TEMP  SUN  IS_GOOD  \n",
       "0           18.7  7.1        1  \n",
       "1           17.1  6.1        1  \n",
       "2           13.6  9.3        1  \n",
       "3           17.2  9.3        1  \n",
       "4           21.6  9.2        1  \n",
       "...          ...  ...      ...  \n",
       "133220      18.4  7.6        1  \n",
       "133221      17.9  0.4        1  \n",
       "133222      22.4  2.4        1  \n",
       "133223      22.2  5.3        1  \n",
       "133224      23.7  9.2        1  \n",
       "\n",
       "[133225 rows x 18 columns]"
      ]
     },
     "execution_count": 31,
     "metadata": {},
     "output_type": "execute_result"
    }
   ],
   "source": [
    "data = pd.read_pickle('../data/df6.pkl')\n",
    "data"
   ]
  },
  {
   "cell_type": "code",
   "execution_count": 3,
   "id": "78183781",
   "metadata": {},
   "outputs": [],
   "source": [
    "import numpy as np"
   ]
  },
  {
   "cell_type": "code",
   "execution_count": 4,
   "id": "61fa6953",
   "metadata": {},
   "outputs": [],
   "source": [
    "#Devuelve numero de dias que existen registro para un contador i\n",
    "\n",
    "def num_days(df, i):\n",
    "    data_one_id = df[df['ID']==i]\n",
    "    return len(data_one_id['DATE'].unique())"
   ]
  },
  {
   "cell_type": "code",
   "execution_count": 5,
   "id": "2617353b",
   "metadata": {},
   "outputs": [
    {
     "data": {
      "text/plain": [
       "1975"
      ]
     },
     "execution_count": 5,
     "metadata": {},
     "output_type": "execute_result"
    }
   ],
   "source": [
    "#Cálculo de contadores de los que se tiene toda la información\n",
    "\n",
    "contadores_completos = []\n",
    "for i in data['ID'].unique():\n",
    "    if num_days(data, i) == 365:\n",
    "        contadores_completos.append(i)\n",
    "\n",
    "len(contadores_completos) "
   ]
  },
  {
   "cell_type": "code",
   "execution_count": 6,
   "id": "6a80b460",
   "metadata": {},
   "outputs": [],
   "source": [
    "#Nos quedamos con los contadores completos 100%\n",
    "\n",
    "data = data[data['ID'].isin(contadores_completos)]"
   ]
  },
  {
   "cell_type": "code",
   "execution_count": 7,
   "id": "42a2ea50",
   "metadata": {},
   "outputs": [],
   "source": [
    "#Cuántas veces el siguiente reading es decreciente\n",
    "\n",
    "def num_decreasing_reading(data, contador):\n",
    "    rdif0 = data[data['ID']==contador]['READING'].diff().fillna(0).round(4)\n",
    "    errores = 0\n",
    "    for (i, rdif) in enumerate(rdif0):\n",
    "        if rdif < 0:\n",
    "            errores += 1\n",
    "    return errores\n",
    "\n",
    "#Diferencia entre dos readings debe ser delta. Chekeo de que se cumple\n",
    "\n",
    "def num_readingdiff_not_eq_delta(df, contador):\n",
    "    rdif0 = df[df['ID']==contador]['READING'].diff().fillna(0).round(4)\n",
    "    delta0 = df[df['ID']==contador]['DELTA']\n",
    "    errores = 0\n",
    "    for (i, (rdif, delta)) in enumerate(zip(rdif0, delta0)):\n",
    "        if rdif!=delta:\n",
    "            errores += 1\n",
    "    return errores"
   ]
  },
  {
   "cell_type": "markdown",
   "id": "56096e70",
   "metadata": {},
   "source": [
    "### Contadores con READING decreasing\n",
    "Como son pocos y en muy poca proporción voy a ignorar este error"
   ]
  },
  {
   "cell_type": "code",
   "execution_count": 8,
   "id": "99c1035c",
   "metadata": {},
   "outputs": [
    {
     "name": "stderr",
     "output_type": "stream",
     "text": [
      "100%|██████████| 1975/1975 [00:03<00:00, 543.74it/s]\n"
     ]
    }
   ],
   "source": [
    "from tqdm import tqdm\n",
    "\n",
    "bondad_contadores = {}\n",
    "for contador in tqdm(data['ID'].unique()):\n",
    "    rdif0 = data[data['ID']==contador]['READING'].diff().fillna(0).round(4)\n",
    "    errores = 0\n",
    "    for (i, rdif) in enumerate(rdif0):\n",
    "        if rdif < 0:\n",
    "            errores += 1\n",
    "    bondad_contadores[contador] = errores/len(rdif0)"
   ]
  },
  {
   "cell_type": "code",
   "execution_count": 9,
   "id": "89082e1f",
   "metadata": {},
   "outputs": [
    {
     "data": {
      "text/plain": [
       "58"
      ]
     },
     "execution_count": 9,
     "metadata": {},
     "output_type": "execute_result"
    }
   ],
   "source": [
    "sum([1 if i!=0 else 0 for i in bondad_contadores.values()])"
   ]
  },
  {
   "cell_type": "markdown",
   "id": "839438a4",
   "metadata": {},
   "source": [
    "### Meter nueva variable consumo total del contador al cabo del año"
   ]
  },
  {
   "cell_type": "code",
   "execution_count": 10,
   "id": "a0b2918e",
   "metadata": {},
   "outputs": [],
   "source": [
    "def consumo_total(df, i):\n",
    "    df0=df[df['ID']==i]\n",
    "    initial_reading = df0[df0['DATE']==\"2019-02-01\"].READING.values[0]\n",
    "    final_reading = df0[df0['DATE']==\"2020-01-31\"].READING.values[0]\n",
    "    return final_reading-initial_reading"
   ]
  },
  {
   "cell_type": "code",
   "execution_count": 11,
   "id": "3572af63",
   "metadata": {},
   "outputs": [],
   "source": [
    "def consumo_total2(i):\n",
    "    return consumo_total(data, i)"
   ]
  },
  {
   "cell_type": "code",
   "execution_count": 12,
   "id": "99ec15d0",
   "metadata": {},
   "outputs": [
    {
     "name": "stderr",
     "output_type": "stream",
     "text": [
      "100%|██████████| 720875/720875 [24:58<00:00, 480.91it/s]\n"
     ]
    }
   ],
   "source": [
    "from tqdm import tqdm\n",
    "\n",
    "tqdm.pandas()\n",
    "\n",
    "data['TOTAL_CONSUMPTION'] = data['ID'].progress_apply(consumo_total2)"
   ]
  },
  {
   "cell_type": "markdown",
   "id": "5debf918",
   "metadata": {},
   "source": [
    "### Dividir en train y test\n",
    "Tomo para test las dos últimas semanas de Enero"
   ]
  },
  {
   "cell_type": "code",
   "execution_count": 13,
   "id": "bc982c0e",
   "metadata": {},
   "outputs": [],
   "source": [
    "import datetime\n",
    "from tqdm import tqdm\n",
    "\n",
    "'''\n",
    "given a start date in datetime format \"start_date\" and an \"end_date\" returns a list of strings with the dates from\n",
    "\"start_date\" to \"end_date\".\n",
    "\n",
    "Example:\n",
    "\n",
    "start_date = datetime.date(2019, 9 , 30)\n",
    "end_date = datetime.date(2019, 10, 7)\n",
    "get_date_range(start_date, end_date)\n",
    "'''\n",
    "\n",
    "def get_date_range(start_date, end_date):\n",
    "    number_of_days = (end_date-start_date).days\n",
    "    return [(start_date + datetime.timedelta(days = day)).isoformat() for day in range(number_of_days+1)]"
   ]
  },
  {
   "cell_type": "code",
   "execution_count": 14,
   "id": "ff6cd797",
   "metadata": {},
   "outputs": [],
   "source": [
    "start_date = datetime.date(2020, 1 , 18)\n",
    "end_date = datetime.date(2020, 1, 31)\n",
    "test = data[data['DATE'].isin(get_date_range(start_date, end_date))]\n",
    "\n",
    "start_date = datetime.date(2019, 2 , 1)\n",
    "end_date = datetime.date(2020, 1, 17)\n",
    "train = data[data['DATE'].isin(get_date_range(start_date, end_date))]"
   ]
  },
  {
   "cell_type": "code",
   "execution_count": 15,
   "id": "18832f81",
   "metadata": {},
   "outputs": [],
   "source": [
    "X_train = train.drop(['READING','DELTA','DATE','WEEK_DAY'], axis=1)\n",
    "y_train = train['DELTA']\n",
    "X_test = test.drop(['READING','DELTA','DATE','WEEK_DAY'], axis=1)\n",
    "y_test = test['DELTA']"
   ]
  },
  {
   "cell_type": "code",
   "execution_count": null,
   "id": "9199df74",
   "metadata": {},
   "outputs": [],
   "source": []
  },
  {
   "cell_type": "markdown",
   "id": "614c10c6",
   "metadata": {},
   "source": [
    "# Implementación de CatBoost en Python"
   ]
  },
  {
   "cell_type": "code",
   "execution_count": 16,
   "id": "5a25fba4",
   "metadata": {},
   "outputs": [],
   "source": [
    "from catboost import Pool, CatBoostRegressor\n",
    "import math\n",
    "from sklearn.metrics import mean_squared_error, r2_score"
   ]
  },
  {
   "cell_type": "code",
   "execution_count": 17,
   "id": "35dc045a",
   "metadata": {},
   "outputs": [
    {
     "name": "stdout",
     "output_type": "stream",
     "text": [
      "<class 'pandas.core.frame.DataFrame'>\n",
      "Int64Index: 693225 entries, 0 to 846732\n",
      "Data columns (total 11 columns):\n",
      " #   Column             Non-Null Count   Dtype  \n",
      "---  ------             --------------   -----  \n",
      " 0   ID                 693225 non-null  int64  \n",
      " 1   PRECIPITATIONS     693225 non-null  float64\n",
      " 2   MIN_TEMP           693225 non-null  float64\n",
      " 3   MEAN_TEMP          693225 non-null  float64\n",
      " 4   MAX_TEMP           693225 non-null  float64\n",
      " 5   SUN                693225 non-null  float64\n",
      " 6   IS_WEEKEND         693225 non-null  int64  \n",
      " 7   sin_WEEK_DAY       693225 non-null  float64\n",
      " 8   cos_WEEK_DAY       693225 non-null  float64\n",
      " 9   IS_PUBLIC_HOLIDAY  693225 non-null  int64  \n",
      " 10  TOTAL_CONSUMPTION  693225 non-null  float64\n",
      "dtypes: float64(8), int64(3)\n",
      "memory usage: 63.5 MB\n"
     ]
    }
   ],
   "source": [
    "X_train.info()"
   ]
  },
  {
   "cell_type": "code",
   "execution_count": 18,
   "id": "ac67168f",
   "metadata": {},
   "outputs": [
    {
     "data": {
      "text/plain": [
       "ID                   1975\n",
       "PRECIPITATIONS         37\n",
       "MIN_TEMP              173\n",
       "MEAN_TEMP             151\n",
       "MAX_TEMP              160\n",
       "SUN                    94\n",
       "IS_WEEKEND              2\n",
       "sin_WEEK_DAY            7\n",
       "cos_WEEK_DAY            7\n",
       "IS_PUBLIC_HOLIDAY       2\n",
       "TOTAL_CONSUMPTION    1925\n",
       "dtype: int64"
      ]
     },
     "execution_count": 18,
     "metadata": {},
     "output_type": "execute_result"
    }
   ],
   "source": [
    "X_train.nunique()"
   ]
  },
  {
   "cell_type": "markdown",
   "id": "b29248c0",
   "metadata": {},
   "source": [
    "If the categorical features have a lot of unique values, we won't use one hot encoding, but depending on the dataset it may be a good idea to adjust one_hot_max_size.\n",
    "\n",
    "Vbles categóricas con pocos valores únicos ¿qué hacemos?"
   ]
  },
  {
   "cell_type": "code",
   "execution_count": 19,
   "id": "046c9b52",
   "metadata": {},
   "outputs": [
    {
     "data": {
      "text/html": [
       "<div>\n",
       "<style scoped>\n",
       "    .dataframe tbody tr th:only-of-type {\n",
       "        vertical-align: middle;\n",
       "    }\n",
       "\n",
       "    .dataframe tbody tr th {\n",
       "        vertical-align: top;\n",
       "    }\n",
       "\n",
       "    .dataframe thead th {\n",
       "        text-align: right;\n",
       "    }\n",
       "</style>\n",
       "<table border=\"1\" class=\"dataframe\">\n",
       "  <thead>\n",
       "    <tr style=\"text-align: right;\">\n",
       "      <th></th>\n",
       "      <th>ID</th>\n",
       "      <th>PRECIPITATIONS</th>\n",
       "      <th>MIN_TEMP</th>\n",
       "      <th>MEAN_TEMP</th>\n",
       "      <th>MAX_TEMP</th>\n",
       "      <th>SUN</th>\n",
       "      <th>IS_WEEKEND</th>\n",
       "      <th>sin_WEEK_DAY</th>\n",
       "      <th>cos_WEEK_DAY</th>\n",
       "      <th>IS_PUBLIC_HOLIDAY</th>\n",
       "      <th>TOTAL_CONSUMPTION</th>\n",
       "    </tr>\n",
       "  </thead>\n",
       "  <tbody>\n",
       "    <tr>\n",
       "      <th>0</th>\n",
       "      <td>0</td>\n",
       "      <td>0.0</td>\n",
       "      <td>16.5</td>\n",
       "      <td>17.6</td>\n",
       "      <td>18.7</td>\n",
       "      <td>7.1</td>\n",
       "      <td>0</td>\n",
       "      <td>-0.433884</td>\n",
       "      <td>-0.900969</td>\n",
       "      <td>0</td>\n",
       "      <td>103013.0</td>\n",
       "    </tr>\n",
       "  </tbody>\n",
       "</table>\n",
       "</div>"
      ],
      "text/plain": [
       "   ID  PRECIPITATIONS  MIN_TEMP  MEAN_TEMP  MAX_TEMP  SUN  IS_WEEKEND  \\\n",
       "0   0             0.0      16.5       17.6      18.7  7.1           0   \n",
       "\n",
       "   sin_WEEK_DAY  cos_WEEK_DAY  IS_PUBLIC_HOLIDAY  TOTAL_CONSUMPTION  \n",
       "0     -0.433884     -0.900969                  0           103013.0  "
      ]
     },
     "execution_count": 19,
     "metadata": {},
     "output_type": "execute_result"
    }
   ],
   "source": [
    "X_train.head(1)"
   ]
  },
  {
   "cell_type": "code",
   "execution_count": 20,
   "id": "7277c26b",
   "metadata": {},
   "outputs": [],
   "source": [
    "train_1 = Pool(X_train, \n",
    "                  y_train, \n",
    "                  cat_features=[0,6,9])"
   ]
  },
  {
   "cell_type": "code",
   "execution_count": 21,
   "id": "6306087e",
   "metadata": {},
   "outputs": [],
   "source": [
    "test_1 = Pool(X_test, \n",
    "                  cat_features=[0,6,9])"
   ]
  },
  {
   "cell_type": "code",
   "execution_count": 22,
   "id": "a93c1da8",
   "metadata": {},
   "outputs": [],
   "source": [
    "model = CatBoostRegressor(iterations=2, \n",
    "                          depth=2, \n",
    "                          learning_rate=1, \n",
    "                          loss_function='RMSE'\n",
    "                          )"
   ]
  },
  {
   "cell_type": "code",
   "execution_count": 23,
   "id": "b349e8a9",
   "metadata": {},
   "outputs": [
    {
     "name": "stdout",
     "output_type": "stream",
     "text": [
      "0:\tlearn: 2570.8293764\ttotal: 217ms\tremaining: 217ms\n",
      "1:\tlearn: 2548.6948751\ttotal: 291ms\tremaining: 0us\n"
     ]
    },
    {
     "data": {
      "text/plain": [
       "<catboost.core.CatBoostRegressor at 0x1dbeee3e050>"
      ]
     },
     "execution_count": 23,
     "metadata": {},
     "output_type": "execute_result"
    }
   ],
   "source": [
    "model.fit(train_1)"
   ]
  },
  {
   "cell_type": "code",
   "execution_count": 24,
   "id": "75d7da58",
   "metadata": {},
   "outputs": [
    {
     "name": "stdout",
     "output_type": "stream",
     "text": [
      "[197.00158798 197.00158798 201.05650976 ... 201.05650976 201.05650976\n",
      " 201.05650976]\n"
     ]
    }
   ],
   "source": [
    "y_pred = model.predict(test_1)\n",
    "print(y_pred)"
   ]
  },
  {
   "cell_type": "code",
   "execution_count": 25,
   "id": "0f3f9d80",
   "metadata": {},
   "outputs": [
    {
     "data": {
      "text/plain": [
       "1798.7960366452714"
      ]
     },
     "execution_count": 25,
     "metadata": {},
     "output_type": "execute_result"
    }
   ],
   "source": [
    "#RMSE\n",
    "Rmse_test = math.sqrt(mean_squared_error(y_test, y_pred))\n",
    "Rmse_test"
   ]
  },
  {
   "cell_type": "code",
   "execution_count": 26,
   "id": "fb3e59ce",
   "metadata": {},
   "outputs": [
    {
     "data": {
      "text/plain": [
       "0.05400181331719478"
      ]
     },
     "execution_count": 26,
     "metadata": {},
     "output_type": "execute_result"
    }
   ],
   "source": [
    "#R2 Score\n",
    "r2_test = r2_score(y_test, y_pred)\n",
    "r2_test"
   ]
  }
 ],
 "metadata": {
  "kernelspec": {
   "display_name": "Python 3 (ipykernel)",
   "language": "python",
   "name": "python3"
  },
  "language_info": {
   "codemirror_mode": {
    "name": "ipython",
    "version": 3
   },
   "file_extension": ".py",
   "mimetype": "text/x-python",
   "name": "python",
   "nbconvert_exporter": "python",
   "pygments_lexer": "ipython3",
   "version": "3.10.0"
  }
 },
 "nbformat": 4,
 "nbformat_minor": 5
}
