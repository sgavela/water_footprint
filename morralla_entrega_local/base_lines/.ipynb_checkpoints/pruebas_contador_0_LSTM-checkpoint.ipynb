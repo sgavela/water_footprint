{
 "cells": [
  {
   "cell_type": "code",
   "execution_count": 16,
   "id": "135147fa",
   "metadata": {},
   "outputs": [],
   "source": [
    "from datetime import datetime, timedelta\n",
    "\n",
    "def str2date(string):\n",
    "    return datetime.strptime(string, '%Y-%m-%d')\n",
    "\n",
    "def get_month(string):\n",
    "    return str2date(string).month"
   ]
  },
  {
   "cell_type": "markdown",
   "id": "2377ce00",
   "metadata": {},
   "source": [
    "#### Variantes\n",
    "- Mezclar IS_PUBLIC_HOLIDAY con IS_WEEKEND"
   ]
  },
  {
   "cell_type": "code",
   "execution_count": 31,
   "id": "333fc7d2",
   "metadata": {},
   "outputs": [
    {
     "data": {
      "text/html": [
       "<div>\n",
       "<style scoped>\n",
       "    .dataframe tbody tr th:only-of-type {\n",
       "        vertical-align: middle;\n",
       "    }\n",
       "\n",
       "    .dataframe tbody tr th {\n",
       "        vertical-align: top;\n",
       "    }\n",
       "\n",
       "    .dataframe thead th {\n",
       "        text-align: right;\n",
       "    }\n",
       "</style>\n",
       "<table border=\"1\" class=\"dataframe\">\n",
       "  <thead>\n",
       "    <tr style=\"text-align: right;\">\n",
       "      <th></th>\n",
       "      <th>DELTA</th>\n",
       "      <th>PRECIPITATIONS</th>\n",
       "      <th>MIN_TEMP</th>\n",
       "      <th>MEAN_TEMP</th>\n",
       "      <th>MAX_TEMP</th>\n",
       "      <th>SUN</th>\n",
       "      <th>WEEK_DAY</th>\n",
       "      <th>IS_WEEKEND</th>\n",
       "      <th>sin_WEEK_DAY</th>\n",
       "      <th>cos_WEEK_DAY</th>\n",
       "      <th>DATE2</th>\n",
       "      <th>sin_MONTH</th>\n",
       "      <th>cos_MONTH</th>\n",
       "      <th>LAG_7</th>\n",
       "      <th>LAG_14</th>\n",
       "    </tr>\n",
       "    <tr>\n",
       "      <th>DATE</th>\n",
       "      <th></th>\n",
       "      <th></th>\n",
       "      <th></th>\n",
       "      <th></th>\n",
       "      <th></th>\n",
       "      <th></th>\n",
       "      <th></th>\n",
       "      <th></th>\n",
       "      <th></th>\n",
       "      <th></th>\n",
       "      <th></th>\n",
       "      <th></th>\n",
       "      <th></th>\n",
       "      <th></th>\n",
       "      <th></th>\n",
       "    </tr>\n",
       "  </thead>\n",
       "  <tbody>\n",
       "    <tr>\n",
       "      <th>2019-02-01</th>\n",
       "      <td>243.0</td>\n",
       "      <td>0.0</td>\n",
       "      <td>16.5</td>\n",
       "      <td>17.6</td>\n",
       "      <td>18.7</td>\n",
       "      <td>7.1</td>\n",
       "      <td>4</td>\n",
       "      <td>0</td>\n",
       "      <td>-0.433884</td>\n",
       "      <td>-0.900969</td>\n",
       "      <td>2019-02-01</td>\n",
       "      <td>0.866025</td>\n",
       "      <td>0.5</td>\n",
       "      <td>0.0</td>\n",
       "      <td>0.0</td>\n",
       "    </tr>\n",
       "    <tr>\n",
       "      <th>2019-02-02</th>\n",
       "      <td>236.0</td>\n",
       "      <td>0.0</td>\n",
       "      <td>9.8</td>\n",
       "      <td>13.4</td>\n",
       "      <td>17.1</td>\n",
       "      <td>6.1</td>\n",
       "      <td>5</td>\n",
       "      <td>1</td>\n",
       "      <td>-0.974928</td>\n",
       "      <td>-0.222521</td>\n",
       "      <td>2019-02-02</td>\n",
       "      <td>0.866025</td>\n",
       "      <td>0.5</td>\n",
       "      <td>0.0</td>\n",
       "      <td>0.0</td>\n",
       "    </tr>\n",
       "    <tr>\n",
       "      <th>2019-02-03</th>\n",
       "      <td>335.0</td>\n",
       "      <td>0.0</td>\n",
       "      <td>7.7</td>\n",
       "      <td>10.6</td>\n",
       "      <td>13.6</td>\n",
       "      <td>9.3</td>\n",
       "      <td>6</td>\n",
       "      <td>1</td>\n",
       "      <td>-0.781831</td>\n",
       "      <td>0.623490</td>\n",
       "      <td>2019-02-03</td>\n",
       "      <td>0.866025</td>\n",
       "      <td>0.5</td>\n",
       "      <td>0.0</td>\n",
       "      <td>0.0</td>\n",
       "    </tr>\n",
       "    <tr>\n",
       "      <th>2019-02-04</th>\n",
       "      <td>252.0</td>\n",
       "      <td>0.0</td>\n",
       "      <td>4.1</td>\n",
       "      <td>10.6</td>\n",
       "      <td>17.2</td>\n",
       "      <td>9.3</td>\n",
       "      <td>0</td>\n",
       "      <td>0</td>\n",
       "      <td>0.000000</td>\n",
       "      <td>1.000000</td>\n",
       "      <td>2019-02-04</td>\n",
       "      <td>0.866025</td>\n",
       "      <td>0.5</td>\n",
       "      <td>0.0</td>\n",
       "      <td>0.0</td>\n",
       "    </tr>\n",
       "    <tr>\n",
       "      <th>2019-02-05</th>\n",
       "      <td>220.0</td>\n",
       "      <td>0.0</td>\n",
       "      <td>7.5</td>\n",
       "      <td>14.6</td>\n",
       "      <td>21.6</td>\n",
       "      <td>9.2</td>\n",
       "      <td>1</td>\n",
       "      <td>0</td>\n",
       "      <td>0.781831</td>\n",
       "      <td>0.623490</td>\n",
       "      <td>2019-02-05</td>\n",
       "      <td>0.866025</td>\n",
       "      <td>0.5</td>\n",
       "      <td>0.0</td>\n",
       "      <td>0.0</td>\n",
       "    </tr>\n",
       "  </tbody>\n",
       "</table>\n",
       "</div>"
      ],
      "text/plain": [
       "            DELTA  PRECIPITATIONS  MIN_TEMP  MEAN_TEMP  MAX_TEMP  SUN  \\\n",
       "DATE                                                                    \n",
       "2019-02-01  243.0             0.0      16.5       17.6      18.7  7.1   \n",
       "2019-02-02  236.0             0.0       9.8       13.4      17.1  6.1   \n",
       "2019-02-03  335.0             0.0       7.7       10.6      13.6  9.3   \n",
       "2019-02-04  252.0             0.0       4.1       10.6      17.2  9.3   \n",
       "2019-02-05  220.0             0.0       7.5       14.6      21.6  9.2   \n",
       "\n",
       "            WEEK_DAY  IS_WEEKEND  sin_WEEK_DAY  cos_WEEK_DAY      DATE2  \\\n",
       "DATE                                                                      \n",
       "2019-02-01         4           0     -0.433884     -0.900969 2019-02-01   \n",
       "2019-02-02         5           1     -0.974928     -0.222521 2019-02-02   \n",
       "2019-02-03         6           1     -0.781831      0.623490 2019-02-03   \n",
       "2019-02-04         0           0      0.000000      1.000000 2019-02-04   \n",
       "2019-02-05         1           0      0.781831      0.623490 2019-02-05   \n",
       "\n",
       "            sin_MONTH  cos_MONTH  LAG_7  LAG_14  \n",
       "DATE                                             \n",
       "2019-02-01   0.866025        0.5    0.0     0.0  \n",
       "2019-02-02   0.866025        0.5    0.0     0.0  \n",
       "2019-02-03   0.866025        0.5    0.0     0.0  \n",
       "2019-02-04   0.866025        0.5    0.0     0.0  \n",
       "2019-02-05   0.866025        0.5    0.0     0.0  "
      ]
     },
     "execution_count": 31,
     "metadata": {},
     "output_type": "execute_result"
    }
   ],
   "source": [
    "import pandas as pd\n",
    "import numpy as np\n",
    "\n",
    "data = pd.read_csv('../data/enriquecidos-004.pkl')\n",
    "data.drop('Unnamed: 0', axis=1, inplace=True)\n",
    "data=data[data['ID']==0]\n",
    "data['DATE'] = data['DATE'].apply(str2date)\n",
    "data = data.set_index('DATE')\n",
    "delta0=data['DELTA'].values[0]\n",
    "data['DELTA']=data['READING'].diff().fillna(delta0)\n",
    "data.drop(['ID','READING','IS_PUBLIC_HOLIDAY'], axis = 1, inplace=True)\n",
    "data['DATE2']=data.index\n",
    "data['MONTH']=[d.month for d in data['DATE2']]\n",
    "data['sin_MONTH'] = np.sin(2*np.pi*data['MONTH']/12)\n",
    "data['cos_MONTH'] = np.cos(2*np.pi*data['MONTH']/12)\n",
    "data.drop(['MONTH'], axis = 1, inplace=True)\n",
    "data['LAG_7'] = data['DELTA'].shift(7, fill_value=0)\n",
    "data['LAG_14'] = data['DELTA'].shift(14, fill_value=0)\n",
    "data.head()"
   ]
  },
  {
   "cell_type": "markdown",
   "id": "ef13b169",
   "metadata": {},
   "source": [
    "### Train/test split"
   ]
  },
  {
   "cell_type": "code",
   "execution_count": 34,
   "id": "35a98678",
   "metadata": {},
   "outputs": [],
   "source": [
    "import datetime\n",
    "from tqdm import tqdm\n",
    "\n",
    "'''\n",
    "given a start date in datetime format \"start_date\" and an \"end_date\" returns a list of strings with the dates from\n",
    "\"start_date\" to \"end_date\".\n",
    "\n",
    "Example:\n",
    "\n",
    "start_date = datetime.date(2019, 9 , 30)\n",
    "end_date = datetime.date(2019, 10, 7)\n",
    "get_date_range(start_date, end_date)\n",
    "'''\n",
    "def get_date_range(start_date, end_date):\n",
    "    number_of_days = (end_date-start_date).days\n",
    "    return [(start_date + datetime.timedelta(days = day)).isoformat() for day in range(number_of_days+1)]"
   ]
  },
  {
   "cell_type": "code",
   "execution_count": 35,
   "id": "a452f33b",
   "metadata": {},
   "outputs": [],
   "source": [
    "#train\n",
    "start_date = datetime.date(2019, 2 , 1)\n",
    "end_date = datetime.date(2020, 1, 24)\n",
    "train = data[data['DATE2'].isin(get_date_range(start_date, end_date))]\n",
    "\n",
    "#test\n",
    "start_date = datetime.date(2020, 1 , 25)\n",
    "end_date = datetime.date(2020, 1, 31)\n",
    "test = data[data['DATE2'].isin(get_date_range(start_date, end_date))]"
   ]
  },
  {
   "cell_type": "code",
   "execution_count": 37,
   "id": "e496bca3",
   "metadata": {},
   "outputs": [],
   "source": [
    "X_train = train.drop(['DATE2'], axis=1)\n",
    "y_train = train['DELTA']\n",
    "X_test = test.drop(['DATE2'], axis=1)\n",
    "y_test = test['DELTA']"
   ]
  },
  {
   "cell_type": "markdown",
   "id": "05be3d45",
   "metadata": {},
   "source": [
    "### Training and scoring "
   ]
  },
  {
   "cell_type": "code",
   "execution_count": 68,
   "id": "93537926",
   "metadata": {},
   "outputs": [],
   "source": [
    "import xgboost as xgb\n",
    "\n",
    "model = xgb.XGBRegressor(\n",
    "    n_estimators=1000,\n",
    "    reg_lambda=1,\n",
    "    gamma=0,\n",
    "    max_depth=10\n",
    ")"
   ]
  },
  {
   "cell_type": "code",
   "execution_count": 69,
   "id": "934f18f5",
   "metadata": {},
   "outputs": [
    {
     "name": "stderr",
     "output_type": "stream",
     "text": [
      "C:\\Users\\sergi\\Anaconda3\\envs\\cajamar\\lib\\site-packages\\xgboost\\data.py:262: FutureWarning: pandas.Int64Index is deprecated and will be removed from pandas in a future version. Use pandas.Index with the appropriate dtype instead.\n",
      "  elif isinstance(data.columns, (pd.Int64Index, pd.RangeIndex)):\n"
     ]
    },
    {
     "data": {
      "text/plain": [
       "XGBRegressor(base_score=0.5, booster='gbtree', colsample_bylevel=1,\n",
       "             colsample_bynode=1, colsample_bytree=1, enable_categorical=False,\n",
       "             gamma=0, gpu_id=-1, importance_type=None,\n",
       "             interaction_constraints='', learning_rate=0.300000012,\n",
       "             max_delta_step=0, max_depth=10, min_child_weight=1, missing=nan,\n",
       "             monotone_constraints='()', n_estimators=1000, n_jobs=8,\n",
       "             num_parallel_tree=1, predictor='auto', random_state=0, reg_alpha=0,\n",
       "             reg_lambda=1, scale_pos_weight=1, subsample=1, tree_method='exact',\n",
       "             validate_parameters=1, verbosity=None)"
      ]
     },
     "execution_count": 69,
     "metadata": {},
     "output_type": "execute_result"
    }
   ],
   "source": [
    "model.fit(X_train, y_train)"
   ]
  },
  {
   "cell_type": "code",
   "execution_count": 70,
   "id": "35dc045a",
   "metadata": {},
   "outputs": [
    {
     "name": "stdout",
     "output_type": "stream",
     "text": [
      "MSE: 6.712768585221576\n"
     ]
    }
   ],
   "source": [
    "from sklearn.metrics import mean_squared_error\n",
    "\n",
    "y_pred = model.predict(X_test)\n",
    "y_real = y_test\n",
    "\n",
    "print('MSE:', mean_squared_error(y_real, y_pred))"
   ]
  },
  {
   "cell_type": "code",
   "execution_count": null,
   "id": "d0765190",
   "metadata": {},
   "outputs": [],
   "source": []
  }
 ],
 "metadata": {
  "kernelspec": {
   "display_name": "Python 3 (ipykernel)",
   "language": "python",
   "name": "python3"
  },
  "language_info": {
   "codemirror_mode": {
    "name": "ipython",
    "version": 3
   },
   "file_extension": ".py",
   "mimetype": "text/x-python",
   "name": "python",
   "nbconvert_exporter": "python",
   "pygments_lexer": "ipython3",
   "version": "3.9.7"
  }
 },
 "nbformat": 4,
 "nbformat_minor": 5
}
