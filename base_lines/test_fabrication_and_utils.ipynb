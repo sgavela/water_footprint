{
 "cells": [
  {
   "cell_type": "markdown",
   "metadata": {},
   "source": [
    "En este notebook se construye un conjunto de test (básicamente este conjunto será la última semana de enero) y se proporcionan algunas utilidades:\n",
    "\n",
    "- Una función que dada una predicción la pase al formato apropiado para la entrega\n",
    "- Una función que dada una predicción devuelva la métrica sobre el conjunto empleado como test (que en este caso será la última semana de Enero)"
   ]
  },
  {
   "cell_type": "code",
   "execution_count": 32,
   "metadata": {},
   "outputs": [
    {
     "data": {
      "text/html": [
       "<div>\n",
       "<style scoped>\n",
       "    .dataframe tbody tr th:only-of-type {\n",
       "        vertical-align: middle;\n",
       "    }\n",
       "\n",
       "    .dataframe tbody tr th {\n",
       "        vertical-align: top;\n",
       "    }\n",
       "\n",
       "    .dataframe thead th {\n",
       "        text-align: right;\n",
       "    }\n",
       "</style>\n",
       "<table border=\"1\" class=\"dataframe\">\n",
       "  <thead>\n",
       "    <tr style=\"text-align: right;\">\n",
       "      <th></th>\n",
       "      <th>ID</th>\n",
       "      <th>SAMPLETIME</th>\n",
       "      <th>DELTA</th>\n",
       "      <th>READING</th>\n",
       "      <th>DATE</th>\n",
       "      <th>TIME</th>\n",
       "    </tr>\n",
       "  </thead>\n",
       "  <tbody>\n",
       "    <tr>\n",
       "      <th>0</th>\n",
       "      <td>0</td>\n",
       "      <td>2019-06-13 08:34:09</td>\n",
       "      <td>17.0</td>\n",
       "      <td>369320.0</td>\n",
       "      <td>2019-06-13</td>\n",
       "      <td>08:34:09</td>\n",
       "    </tr>\n",
       "    <tr>\n",
       "      <th>1</th>\n",
       "      <td>0</td>\n",
       "      <td>2019-06-13 17:34:10</td>\n",
       "      <td>2.0</td>\n",
       "      <td>369403.0</td>\n",
       "      <td>2019-06-13</td>\n",
       "      <td>17:34:10</td>\n",
       "    </tr>\n",
       "    <tr>\n",
       "      <th>2</th>\n",
       "      <td>0</td>\n",
       "      <td>2019-06-13 18:34:10</td>\n",
       "      <td>0.0</td>\n",
       "      <td>369403.0</td>\n",
       "      <td>2019-06-13</td>\n",
       "      <td>18:34:10</td>\n",
       "    </tr>\n",
       "    <tr>\n",
       "      <th>3</th>\n",
       "      <td>0</td>\n",
       "      <td>2019-06-13 04:34:10</td>\n",
       "      <td>1.0</td>\n",
       "      <td>369284.0</td>\n",
       "      <td>2019-06-13</td>\n",
       "      <td>04:34:10</td>\n",
       "    </tr>\n",
       "    <tr>\n",
       "      <th>4</th>\n",
       "      <td>0</td>\n",
       "      <td>2019-06-13 14:34:10</td>\n",
       "      <td>28.0</td>\n",
       "      <td>369356.0</td>\n",
       "      <td>2019-06-13</td>\n",
       "      <td>14:34:10</td>\n",
       "    </tr>\n",
       "  </tbody>\n",
       "</table>\n",
       "</div>"
      ],
      "text/plain": [
       "   ID           SAMPLETIME  DELTA   READING        DATE      TIME\n",
       "0   0  2019-06-13 08:34:09   17.0  369320.0  2019-06-13  08:34:09\n",
       "1   0  2019-06-13 17:34:10    2.0  369403.0  2019-06-13  17:34:10\n",
       "2   0  2019-06-13 18:34:10    0.0  369403.0  2019-06-13  18:34:10\n",
       "3   0  2019-06-13 04:34:10    1.0  369284.0  2019-06-13  04:34:10\n",
       "4   0  2019-06-13 14:34:10   28.0  369356.0  2019-06-13  14:34:10"
      ]
     },
     "execution_count": 32,
     "metadata": {},
     "output_type": "execute_result"
    }
   ],
   "source": [
    "import pandas as pd\n",
    "\n",
    "df = pd.read_pickle('../data/data_v1.pkl') \n",
    "df.head()"
   ]
  },
  {
   "cell_type": "code",
   "execution_count": 33,
   "metadata": {},
   "outputs": [
    {
     "data": {
      "text/html": [
       "<div>\n",
       "<style scoped>\n",
       "    .dataframe tbody tr th:only-of-type {\n",
       "        vertical-align: middle;\n",
       "    }\n",
       "\n",
       "    .dataframe tbody tr th {\n",
       "        vertical-align: top;\n",
       "    }\n",
       "\n",
       "    .dataframe thead th {\n",
       "        text-align: right;\n",
       "    }\n",
       "</style>\n",
       "<table border=\"1\" class=\"dataframe\">\n",
       "  <thead>\n",
       "    <tr style=\"text-align: right;\">\n",
       "      <th></th>\n",
       "      <th>ID</th>\n",
       "      <th>DATE</th>\n",
       "      <th>DELTA</th>\n",
       "    </tr>\n",
       "  </thead>\n",
       "  <tbody>\n",
       "    <tr>\n",
       "      <th>0</th>\n",
       "      <td>0</td>\n",
       "      <td>2019-02-01</td>\n",
       "      <td>243.0</td>\n",
       "    </tr>\n",
       "    <tr>\n",
       "      <th>1</th>\n",
       "      <td>0</td>\n",
       "      <td>2019-02-02</td>\n",
       "      <td>236.0</td>\n",
       "    </tr>\n",
       "    <tr>\n",
       "      <th>2</th>\n",
       "      <td>0</td>\n",
       "      <td>2019-02-03</td>\n",
       "      <td>335.0</td>\n",
       "    </tr>\n",
       "    <tr>\n",
       "      <th>3</th>\n",
       "      <td>0</td>\n",
       "      <td>2019-02-04</td>\n",
       "      <td>252.0</td>\n",
       "    </tr>\n",
       "    <tr>\n",
       "      <th>4</th>\n",
       "      <td>0</td>\n",
       "      <td>2019-02-05</td>\n",
       "      <td>220.0</td>\n",
       "    </tr>\n",
       "  </tbody>\n",
       "</table>\n",
       "</div>"
      ],
      "text/plain": [
       "   ID        DATE  DELTA\n",
       "0   0  2019-02-01  243.0\n",
       "1   0  2019-02-02  236.0\n",
       "2   0  2019-02-03  335.0\n",
       "3   0  2019-02-04  252.0\n",
       "4   0  2019-02-05  220.0"
      ]
     },
     "execution_count": 33,
     "metadata": {},
     "output_type": "execute_result"
    }
   ],
   "source": [
    "df = df.drop(['SAMPLETIME','TIME','READING'],axis=1)\n",
    "df = df.groupby(['ID','DATE']).sum().reset_index()\n",
    "df.head()"
   ]
  },
  {
   "cell_type": "code",
   "execution_count": 83,
   "metadata": {},
   "outputs": [],
   "source": [
    "import datetime\n",
    "from tqdm import tqdm\n",
    "\n",
    "'''\n",
    "given a start date in datetime format \"start_date\" and an \"end_date\" returns a list of strings with the dates from\n",
    "\"start_date\" to \"end_date\".\n",
    "\n",
    "Example:\n",
    "\n",
    "start_date = datetime.date(2019, 9 , 30)\n",
    "end_date = datetime.date(2019, 10, 7)\n",
    "get_date_range(start_date, end_date)\n",
    "'''\n",
    "def get_date_range(start_date, end_date):\n",
    "    number_of_days = (end_date-start_date).days\n",
    "    return [(start_date + datetime.timedelta(days = day)).isoformat() for day in range(number_of_days+1)]\n",
    "\n",
    "'''\n",
    "given a df in which there is one or zero entries per ID and DATE, a start_date and an end date, returns a dictionary whose\n",
    "keys are ID and the days between start_date and end_date and whose values are a list of IDs for 'ID' key and a list of\n",
    "the DELTA values for each ID and DATE for the keys corresponding to the days between start_date and end_date. If for some \n",
    "ID and DATE there is no such DELTA, then we take DELTA=0. The execution takes so long due to the df filtering. \n",
    "\n",
    "Example:\n",
    "\n",
    "start_date = datetime.date(2019, 9 , 30)\n",
    "end_date = datetime.date(2019, 10, 7)\n",
    "get_set_by_days(df, start_date, end_date)\n",
    "'''\n",
    "def get_set_by_days(df, start_date, end_date):\n",
    "    list_of_days = get_date_range(start_date, end_date)\n",
    "    test_dict = {'ID':[]}\n",
    "    for i in tqdm(df['ID'].unique()):\n",
    "        test_dict['ID'].append(i)\n",
    "        for day in list_of_days:\n",
    "            filtered_df = df[(df['ID']==i) & (df['DATE']==day)]\n",
    "            #comprobar que no haya mas de una entrada por ID y DATE\n",
    "            if len(filtered_df)>1:\n",
    "                raise Exception(\"More than one delta value per ID and DATE\")\n",
    "            #si hay una entrada, añadimos el valor de delta\n",
    "            elif len(filtered_df)==1:\n",
    "                delta = filtered_df.iloc[0]['DELTA']\n",
    "                if day not in list(test_dict.keys()):\n",
    "                    test_dict[day] = [delta]\n",
    "                else:\n",
    "                    test_dict[day].append(delta)\n",
    "            #si no hay entrada añadimos 0 \n",
    "            else:\n",
    "                if day not in test_dict.keys():\n",
    "                    test_dict[day] = [None]\n",
    "                else:\n",
    "                    test_dict[day].append(None)\n",
    "    return test_dict"
   ]
  },
  {
   "cell_type": "code",
   "execution_count": 84,
   "metadata": {},
   "outputs": [
    {
     "name": "stderr",
     "output_type": "stream",
     "text": [
      "100%|███████████████████████████████████████████████████████████████████████████| 2747/2747 [16:11:46<00:00, 21.23s/it]\n"
     ]
    }
   ],
   "source": [
    "start_date = datetime.date(2019, 2 , 1)\n",
    "end_date = datetime.date(2020, 1, 31)\n",
    "training_dict = get_set_by_days(df, start_date, end_date)"
   ]
  },
  {
   "cell_type": "code",
   "execution_count": 85,
   "metadata": {},
   "outputs": [],
   "source": [
    "all_formated = pd.DataFrame.from_dict(training_dict)"
   ]
  },
  {
   "cell_type": "code",
   "execution_count": 86,
   "metadata": {},
   "outputs": [],
   "source": [
    "all_formated.to_pickle(\"../data/counters_in_rows.pkl\")"
   ]
  },
  {
   "cell_type": "code",
   "execution_count": null,
   "metadata": {},
   "outputs": [],
   "source": []
  },
  {
   "cell_type": "code",
   "execution_count": null,
   "metadata": {},
   "outputs": [],
   "source": []
  },
  {
   "cell_type": "code",
   "execution_count": null,
   "metadata": {},
   "outputs": [],
   "source": []
  },
  {
   "cell_type": "code",
   "execution_count": null,
   "metadata": {},
   "outputs": [],
   "source": []
  },
  {
   "cell_type": "code",
   "execution_count": null,
   "metadata": {},
   "outputs": [],
   "source": []
  }
 ],
 "metadata": {
  "interpreter": {
   "hash": "a69ea4cfb8306203f039115af0465b6153b9707b088c28cf8f65bbadd28ca25a"
  },
  "kernelspec": {
   "display_name": "Python 3 (ipykernel)",
   "language": "python",
   "name": "python3"
  },
  "language_info": {
   "codemirror_mode": {
    "name": "ipython",
    "version": 3
   },
   "file_extension": ".py",
   "mimetype": "text/x-python",
   "name": "python",
   "nbconvert_exporter": "python",
   "pygments_lexer": "ipython3",
   "version": "3.9.7"
  }
 },
 "nbformat": 4,
 "nbformat_minor": 2
}
