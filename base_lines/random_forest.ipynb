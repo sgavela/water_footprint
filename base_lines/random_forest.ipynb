{
 "cells": [
  {
   "cell_type": "code",
   "execution_count": 74,
   "metadata": {},
   "outputs": [],
   "source": [
    "import pandas as pd\n",
    "import datetime\n",
    "import numpy as np\n",
    "from sklearn.ensemble import RandomForestRegressor\n",
    "from sklearn.metrics import classification_report, confusion_matrix, accuracy_score\n",
    "from sklearn.metrics import mean_squared_error"
   ]
  },
  {
   "cell_type": "code",
   "execution_count": 2,
   "metadata": {},
   "outputs": [
    {
     "data": {
      "text/html": [
       "<div>\n",
       "<style scoped>\n",
       "    .dataframe tbody tr th:only-of-type {\n",
       "        vertical-align: middle;\n",
       "    }\n",
       "\n",
       "    .dataframe tbody tr th {\n",
       "        vertical-align: top;\n",
       "    }\n",
       "\n",
       "    .dataframe thead th {\n",
       "        text-align: right;\n",
       "    }\n",
       "</style>\n",
       "<table border=\"1\" class=\"dataframe\">\n",
       "  <thead>\n",
       "    <tr style=\"text-align: right;\">\n",
       "      <th></th>\n",
       "      <th>ID</th>\n",
       "      <th>DELTA</th>\n",
       "      <th>YEAR_DAY</th>\n",
       "      <th>DATE</th>\n",
       "      <th>MEAN_CONSUMPTION</th>\n",
       "      <th>VARIANCE_CONSUMPTION</th>\n",
       "      <th>WEEKDAY</th>\n",
       "      <th>IS_WEEKEND</th>\n",
       "      <th>sin_WEEKDAY</th>\n",
       "      <th>cos_WEEKDAY</th>\n",
       "      <th>sin_year_day</th>\n",
       "      <th>cos_year_day</th>\n",
       "      <th>PRECIPITATIONS</th>\n",
       "      <th>MIN_TEMP</th>\n",
       "      <th>MEAN_TEMP</th>\n",
       "      <th>MAX_TEMP</th>\n",
       "      <th>SUN</th>\n",
       "      <th>IS_GOOD</th>\n",
       "    </tr>\n",
       "  </thead>\n",
       "  <tbody>\n",
       "    <tr>\n",
       "      <th>0</th>\n",
       "      <td>0</td>\n",
       "      <td>243.0</td>\n",
       "      <td>0</td>\n",
       "      <td>2019-02-01</td>\n",
       "      <td>282.893151</td>\n",
       "      <td>11453.639651</td>\n",
       "      <td>4</td>\n",
       "      <td>0</td>\n",
       "      <td>-0.433884</td>\n",
       "      <td>-0.900969</td>\n",
       "      <td>0.000000</td>\n",
       "      <td>1.000000</td>\n",
       "      <td>0.0</td>\n",
       "      <td>16.5</td>\n",
       "      <td>17.6</td>\n",
       "      <td>18.7</td>\n",
       "      <td>7.1</td>\n",
       "      <td>1</td>\n",
       "    </tr>\n",
       "    <tr>\n",
       "      <th>1</th>\n",
       "      <td>0</td>\n",
       "      <td>236.0</td>\n",
       "      <td>1</td>\n",
       "      <td>2019-02-02</td>\n",
       "      <td>282.893151</td>\n",
       "      <td>11453.639651</td>\n",
       "      <td>5</td>\n",
       "      <td>1</td>\n",
       "      <td>-0.974928</td>\n",
       "      <td>-0.222521</td>\n",
       "      <td>0.017213</td>\n",
       "      <td>0.999852</td>\n",
       "      <td>0.0</td>\n",
       "      <td>9.8</td>\n",
       "      <td>13.4</td>\n",
       "      <td>17.1</td>\n",
       "      <td>6.1</td>\n",
       "      <td>1</td>\n",
       "    </tr>\n",
       "    <tr>\n",
       "      <th>2</th>\n",
       "      <td>0</td>\n",
       "      <td>335.0</td>\n",
       "      <td>2</td>\n",
       "      <td>2019-02-03</td>\n",
       "      <td>282.893151</td>\n",
       "      <td>11453.639651</td>\n",
       "      <td>6</td>\n",
       "      <td>1</td>\n",
       "      <td>-0.781831</td>\n",
       "      <td>0.623490</td>\n",
       "      <td>0.034422</td>\n",
       "      <td>0.999407</td>\n",
       "      <td>0.0</td>\n",
       "      <td>7.7</td>\n",
       "      <td>10.6</td>\n",
       "      <td>13.6</td>\n",
       "      <td>9.3</td>\n",
       "      <td>1</td>\n",
       "    </tr>\n",
       "    <tr>\n",
       "      <th>3</th>\n",
       "      <td>0</td>\n",
       "      <td>252.0</td>\n",
       "      <td>3</td>\n",
       "      <td>2019-02-04</td>\n",
       "      <td>282.893151</td>\n",
       "      <td>11453.639651</td>\n",
       "      <td>0</td>\n",
       "      <td>0</td>\n",
       "      <td>0.000000</td>\n",
       "      <td>1.000000</td>\n",
       "      <td>0.051620</td>\n",
       "      <td>0.998667</td>\n",
       "      <td>0.0</td>\n",
       "      <td>4.1</td>\n",
       "      <td>10.6</td>\n",
       "      <td>17.2</td>\n",
       "      <td>9.3</td>\n",
       "      <td>1</td>\n",
       "    </tr>\n",
       "    <tr>\n",
       "      <th>4</th>\n",
       "      <td>0</td>\n",
       "      <td>220.0</td>\n",
       "      <td>4</td>\n",
       "      <td>2019-02-05</td>\n",
       "      <td>282.893151</td>\n",
       "      <td>11453.639651</td>\n",
       "      <td>1</td>\n",
       "      <td>0</td>\n",
       "      <td>0.781831</td>\n",
       "      <td>0.623490</td>\n",
       "      <td>0.068802</td>\n",
       "      <td>0.997630</td>\n",
       "      <td>0.0</td>\n",
       "      <td>7.5</td>\n",
       "      <td>14.6</td>\n",
       "      <td>21.6</td>\n",
       "      <td>9.2</td>\n",
       "      <td>1</td>\n",
       "    </tr>\n",
       "  </tbody>\n",
       "</table>\n",
       "</div>"
      ],
      "text/plain": [
       "   ID  DELTA  YEAR_DAY       DATE  MEAN_CONSUMPTION  VARIANCE_CONSUMPTION  \\\n",
       "0   0  243.0         0 2019-02-01        282.893151          11453.639651   \n",
       "1   0  236.0         1 2019-02-02        282.893151          11453.639651   \n",
       "2   0  335.0         2 2019-02-03        282.893151          11453.639651   \n",
       "3   0  252.0         3 2019-02-04        282.893151          11453.639651   \n",
       "4   0  220.0         4 2019-02-05        282.893151          11453.639651   \n",
       "\n",
       "   WEEKDAY  IS_WEEKEND  sin_WEEKDAY  cos_WEEKDAY  sin_year_day  cos_year_day  \\\n",
       "0        4           0    -0.433884    -0.900969      0.000000      1.000000   \n",
       "1        5           1    -0.974928    -0.222521      0.017213      0.999852   \n",
       "2        6           1    -0.781831     0.623490      0.034422      0.999407   \n",
       "3        0           0     0.000000     1.000000      0.051620      0.998667   \n",
       "4        1           0     0.781831     0.623490      0.068802      0.997630   \n",
       "\n",
       "   PRECIPITATIONS  MIN_TEMP  MEAN_TEMP  MAX_TEMP  SUN  IS_GOOD  \n",
       "0             0.0      16.5       17.6      18.7  7.1        1  \n",
       "1             0.0       9.8       13.4      17.1  6.1        1  \n",
       "2             0.0       7.7       10.6      13.6  9.3        1  \n",
       "3             0.0       4.1       10.6      17.2  9.3        1  \n",
       "4             0.0       7.5       14.6      21.6  9.2        1  "
      ]
     },
     "execution_count": 2,
     "metadata": {},
     "output_type": "execute_result"
    }
   ],
   "source": [
    "data = pd.read_pickle('../data/df6.pkl')\n",
    "data.head(5)"
   ]
  },
  {
   "cell_type": "code",
   "execution_count": 3,
   "metadata": {},
   "outputs": [],
   "source": [
    "data = data.dropna()"
   ]
  },
  {
   "cell_type": "code",
   "execution_count": 4,
   "metadata": {},
   "outputs": [],
   "source": [
    "'''\n",
    "given a start date in datetime format \"start_date\" and an \"end_date\" returns a list of strings with the dates from\n",
    "\"start_date\" to \"end_date\".\n",
    "\n",
    "Example:\n",
    "\n",
    "start_date = datetime.date(2019, 9 , 30)\n",
    "end_date = datetime.date(2019, 10, 7)\n",
    "get_date_range(start_date, end_date)\n",
    "'''\n",
    "\n",
    "def get_date_range(start_date, end_date):\n",
    "    number_of_days = (end_date-start_date).days\n",
    "    return [(start_date + datetime.timedelta(days = day)).isoformat() for day in range(number_of_days+1)]"
   ]
  },
  {
   "cell_type": "code",
   "execution_count": 5,
   "metadata": {},
   "outputs": [],
   "source": [
    "start_date = datetime.date(2020, 1 , 18)\n",
    "end_date = datetime.date(2020, 1, 31)\n",
    "test = data[data['DATE'].isin(get_date_range(start_date, end_date))]\n",
    "\n",
    "start_date = datetime.date(2019, 2 , 1)\n",
    "end_date = datetime.date(2020, 1, 17)\n",
    "train = data[data['DATE'].isin(get_date_range(start_date, end_date))]"
   ]
  },
  {
   "cell_type": "code",
   "execution_count": 6,
   "metadata": {},
   "outputs": [],
   "source": [
    "X_train = train.drop(['DELTA', 'DATE', 'YEAR_DAY', 'WEEKDAY', 'ID', 'IS_GOOD'], axis=1)\n",
    "y_train = train['DELTA']"
   ]
  },
  {
   "cell_type": "code",
   "execution_count": 7,
   "metadata": {},
   "outputs": [],
   "source": [
    "X_test = test.drop(['DELTA', 'DATE', 'YEAR_DAY', 'WEEKDAY', 'ID', 'IS_GOOD'], axis=1)\n",
    "y_test = test['DELTA']"
   ]
  },
  {
   "cell_type": "code",
   "execution_count": 8,
   "metadata": {},
   "outputs": [],
   "source": [
    "rf = RandomForestRegressor(n_estimators= 1000, random_state=42)"
   ]
  },
  {
   "cell_type": "code",
   "execution_count": 10,
   "metadata": {},
   "outputs": [
    {
     "data": {
      "text/plain": [
       "RandomForestRegressor(n_estimators=1000, random_state=42)"
      ]
     },
     "execution_count": 10,
     "metadata": {},
     "output_type": "execute_result"
    }
   ],
   "source": [
    "rf.fit(X_train, y_train)"
   ]
  },
  {
   "cell_type": "code",
   "execution_count": 11,
   "metadata": {},
   "outputs": [],
   "source": [
    "predictions = rf.predict(X_test)"
   ]
  },
  {
   "cell_type": "code",
   "execution_count": 87,
   "metadata": {},
   "outputs": [
    {
     "data": {
      "text/plain": [
       "36462269.66557666"
      ]
     },
     "execution_count": 87,
     "metadata": {},
     "output_type": "execute_result"
    }
   ],
   "source": [
    "mean_squared_error(y_test, predictions)"
   ]
  }
 ],
 "metadata": {
  "interpreter": {
   "hash": "955b5dbf1c9568fcdca6427b82ed9dd3b5652756bab72d537c2112a7dd2607f3"
  },
  "kernelspec": {
   "display_name": "Python 3.10.0 64-bit",
   "language": "python",
   "name": "python3"
  },
  "language_info": {
   "codemirror_mode": {
    "name": "ipython",
    "version": 3
   },
   "file_extension": ".py",
   "mimetype": "text/x-python",
   "name": "python",
   "nbconvert_exporter": "python",
   "pygments_lexer": "ipython3",
   "version": "3.10.0"
  },
  "orig_nbformat": 4
 },
 "nbformat": 4,
 "nbformat_minor": 2
}
