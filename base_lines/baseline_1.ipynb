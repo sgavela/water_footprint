{
 "cells": [
  {
   "cell_type": "markdown",
   "metadata": {},
   "source": [
    "Como primera baseline predecimos para cada contador y cada día el mismo consumo de agua que tuvo ese mismo contador ese mismo día del año pero el año pasado.\n",
    "\n",
    "Vamos a utilizar como test la última semana de Enero"
   ]
  },
  {
   "cell_type": "code",
   "execution_count": 105,
   "metadata": {},
   "outputs": [
    {
     "data": {
      "text/html": [
       "<div>\n",
       "<style scoped>\n",
       "    .dataframe tbody tr th:only-of-type {\n",
       "        vertical-align: middle;\n",
       "    }\n",
       "\n",
       "    .dataframe tbody tr th {\n",
       "        vertical-align: top;\n",
       "    }\n",
       "\n",
       "    .dataframe thead th {\n",
       "        text-align: right;\n",
       "    }\n",
       "</style>\n",
       "<table border=\"1\" class=\"dataframe\">\n",
       "  <thead>\n",
       "    <tr style=\"text-align: right;\">\n",
       "      <th></th>\n",
       "      <th>DATE</th>\n",
       "      <th>ID</th>\n",
       "      <th>READINGINTEGER</th>\n",
       "      <th>READINGTHOUSANDTH</th>\n",
       "      <th>DELTAINTEGER</th>\n",
       "      <th>DELTATHOUSANDTH</th>\n",
       "      <th>YEAR</th>\n",
       "      <th>MONTH</th>\n",
       "      <th>DAY</th>\n",
       "      <th>WEEK_DAY</th>\n",
       "      <th>...</th>\n",
       "      <th>YEAR_DAY</th>\n",
       "      <th>sin_WEEK_DAY</th>\n",
       "      <th>cos_WEEK_DAY</th>\n",
       "      <th>sin_YEAR_DAY</th>\n",
       "      <th>cos_YEAR_DAY</th>\n",
       "      <th>MIN_TEMP</th>\n",
       "      <th>MEAN_TEMP</th>\n",
       "      <th>MAX_TEMP</th>\n",
       "      <th>SUN</th>\n",
       "      <th>PRECIPITATIONS</th>\n",
       "    </tr>\n",
       "  </thead>\n",
       "  <tbody>\n",
       "    <tr>\n",
       "      <th>0</th>\n",
       "      <td>2019-02-01</td>\n",
       "      <td>0</td>\n",
       "      <td>7963359</td>\n",
       "      <td>0.0</td>\n",
       "      <td>243</td>\n",
       "      <td>0.0</td>\n",
       "      <td>2019.0</td>\n",
       "      <td>2.0</td>\n",
       "      <td>1.0</td>\n",
       "      <td>4</td>\n",
       "      <td>...</td>\n",
       "      <td>32</td>\n",
       "      <td>-0.433884</td>\n",
       "      <td>-0.900969</td>\n",
       "      <td>0.523416</td>\n",
       "      <td>0.852078</td>\n",
       "      <td>16.5</td>\n",
       "      <td>17.6</td>\n",
       "      <td>18.7</td>\n",
       "      <td>7.1</td>\n",
       "      <td>0.0</td>\n",
       "    </tr>\n",
       "    <tr>\n",
       "      <th>1</th>\n",
       "      <td>2019-02-01</td>\n",
       "      <td>1</td>\n",
       "      <td>139882</td>\n",
       "      <td>0.0</td>\n",
       "      <td>8</td>\n",
       "      <td>0.0</td>\n",
       "      <td>2019.0</td>\n",
       "      <td>2.0</td>\n",
       "      <td>1.0</td>\n",
       "      <td>4</td>\n",
       "      <td>...</td>\n",
       "      <td>32</td>\n",
       "      <td>-0.433884</td>\n",
       "      <td>-0.900969</td>\n",
       "      <td>0.523416</td>\n",
       "      <td>0.852078</td>\n",
       "      <td>16.5</td>\n",
       "      <td>17.6</td>\n",
       "      <td>18.7</td>\n",
       "      <td>7.1</td>\n",
       "      <td>0.0</td>\n",
       "    </tr>\n",
       "    <tr>\n",
       "      <th>2</th>\n",
       "      <td>2019-02-01</td>\n",
       "      <td>2</td>\n",
       "      <td>190824</td>\n",
       "      <td>0.0</td>\n",
       "      <td>0</td>\n",
       "      <td>0.0</td>\n",
       "      <td>2019.0</td>\n",
       "      <td>2.0</td>\n",
       "      <td>1.0</td>\n",
       "      <td>4</td>\n",
       "      <td>...</td>\n",
       "      <td>32</td>\n",
       "      <td>-0.433884</td>\n",
       "      <td>-0.900969</td>\n",
       "      <td>0.523416</td>\n",
       "      <td>0.852078</td>\n",
       "      <td>16.5</td>\n",
       "      <td>17.6</td>\n",
       "      <td>18.7</td>\n",
       "      <td>7.1</td>\n",
       "      <td>0.0</td>\n",
       "    </tr>\n",
       "    <tr>\n",
       "      <th>3</th>\n",
       "      <td>2019-02-01</td>\n",
       "      <td>3</td>\n",
       "      <td>3611828</td>\n",
       "      <td>0.0</td>\n",
       "      <td>492</td>\n",
       "      <td>0.0</td>\n",
       "      <td>2019.0</td>\n",
       "      <td>2.0</td>\n",
       "      <td>1.0</td>\n",
       "      <td>4</td>\n",
       "      <td>...</td>\n",
       "      <td>32</td>\n",
       "      <td>-0.433884</td>\n",
       "      <td>-0.900969</td>\n",
       "      <td>0.523416</td>\n",
       "      <td>0.852078</td>\n",
       "      <td>16.5</td>\n",
       "      <td>17.6</td>\n",
       "      <td>18.7</td>\n",
       "      <td>7.1</td>\n",
       "      <td>0.0</td>\n",
       "    </tr>\n",
       "    <tr>\n",
       "      <th>4</th>\n",
       "      <td>2019-02-01</td>\n",
       "      <td>4</td>\n",
       "      <td>2723035</td>\n",
       "      <td>0.0</td>\n",
       "      <td>247</td>\n",
       "      <td>56.0</td>\n",
       "      <td>2019.0</td>\n",
       "      <td>2.0</td>\n",
       "      <td>1.0</td>\n",
       "      <td>4</td>\n",
       "      <td>...</td>\n",
       "      <td>32</td>\n",
       "      <td>-0.433884</td>\n",
       "      <td>-0.900969</td>\n",
       "      <td>0.523416</td>\n",
       "      <td>0.852078</td>\n",
       "      <td>16.5</td>\n",
       "      <td>17.6</td>\n",
       "      <td>18.7</td>\n",
       "      <td>7.1</td>\n",
       "      <td>0.0</td>\n",
       "    </tr>\n",
       "  </tbody>\n",
       "</table>\n",
       "<p>5 rows × 22 columns</p>\n",
       "</div>"
      ],
      "text/plain": [
       "         DATE  ID  READINGINTEGER  READINGTHOUSANDTH  DELTAINTEGER  \\\n",
       "0  2019-02-01   0         7963359                0.0           243   \n",
       "1  2019-02-01   1          139882                0.0             8   \n",
       "2  2019-02-01   2          190824                0.0             0   \n",
       "3  2019-02-01   3         3611828                0.0           492   \n",
       "4  2019-02-01   4         2723035                0.0           247   \n",
       "\n",
       "   DELTATHOUSANDTH    YEAR  MONTH  DAY  WEEK_DAY  ...  YEAR_DAY  sin_WEEK_DAY  \\\n",
       "0              0.0  2019.0    2.0  1.0         4  ...        32     -0.433884   \n",
       "1              0.0  2019.0    2.0  1.0         4  ...        32     -0.433884   \n",
       "2              0.0  2019.0    2.0  1.0         4  ...        32     -0.433884   \n",
       "3              0.0  2019.0    2.0  1.0         4  ...        32     -0.433884   \n",
       "4             56.0  2019.0    2.0  1.0         4  ...        32     -0.433884   \n",
       "\n",
       "   cos_WEEK_DAY  sin_YEAR_DAY  cos_YEAR_DAY  MIN_TEMP  MEAN_TEMP  MAX_TEMP  \\\n",
       "0     -0.900969      0.523416      0.852078      16.5       17.6      18.7   \n",
       "1     -0.900969      0.523416      0.852078      16.5       17.6      18.7   \n",
       "2     -0.900969      0.523416      0.852078      16.5       17.6      18.7   \n",
       "3     -0.900969      0.523416      0.852078      16.5       17.6      18.7   \n",
       "4     -0.900969      0.523416      0.852078      16.5       17.6      18.7   \n",
       "\n",
       "   SUN  PRECIPITATIONS  \n",
       "0  7.1             0.0  \n",
       "1  7.1             0.0  \n",
       "2  7.1             0.0  \n",
       "3  7.1             0.0  \n",
       "4  7.1             0.0  \n",
       "\n",
       "[5 rows x 22 columns]"
      ]
     },
     "execution_count": 105,
     "metadata": {},
     "output_type": "execute_result"
    }
   ],
   "source": [
    "import pandas as pd\n",
    "\n",
    "data = pd.read_csv('../data/enriquecidos-003.csv', index_col=False)\n",
    "data = data.drop('Unnamed: 0',axis=1)\n",
    "data.head()"
   ]
  },
  {
   "cell_type": "code",
   "execution_count": 106,
   "metadata": {},
   "outputs": [
    {
     "data": {
      "text/plain": [
       "2747"
      ]
     },
     "execution_count": 106,
     "metadata": {},
     "output_type": "execute_result"
    }
   ],
   "source": [
    "len(data['ID'].unique())"
   ]
  },
  {
   "cell_type": "code",
   "execution_count": 107,
   "metadata": {},
   "outputs": [
    {
     "data": {
      "text/plain": [
       "DATE\n",
       "2019-02-01    2248\n",
       "2019-02-02    2247\n",
       "2019-02-03    2245\n",
       "2019-02-04    2252\n",
       "2019-02-05    2261\n",
       "              ... \n",
       "2020-01-27    2596\n",
       "2020-01-28    2598\n",
       "2020-01-29    2607\n",
       "2020-01-30    2618\n",
       "2020-01-31    2632\n",
       "Name: ID, Length: 365, dtype: int64"
      ]
     },
     "execution_count": 107,
     "metadata": {},
     "output_type": "execute_result"
    }
   ],
   "source": [
    "data[data['DATE']]"
   ]
  },
  {
   "cell_type": "code",
   "execution_count": 102,
   "metadata": {},
   "outputs": [
    {
     "data": {
      "text/plain": [
       "array([2700, 2701, 2702, 2703, 2704, 2705, 2706, 2707, 2708, 2709, 2710,\n",
       "       2711, 2712, 2713, 2714, 2715, 2716, 2717, 2718, 2719, 2720, 2721,\n",
       "       2722, 2723, 2724, 2725, 2727, 2728, 2729, 2730, 2731, 2732, 2733,\n",
       "       2734, 2735, 2736, 2737, 2739, 2742, 2743, 2744, 2745, 2746, 2747,\n",
       "       2748, 2749, 2756], dtype=int64)"
      ]
     },
     "execution_count": 102,
     "metadata": {},
     "output_type": "execute_result"
    }
   ],
   "source": [
    "data['ID'].unique()[-47:]"
   ]
  },
  {
   "cell_type": "markdown",
   "metadata": {},
   "source": [
    "Contadores que no están:\n",
    "\n",
    "- 2726\n",
    "- 2738\n",
    "- 2740\n",
    "- 2741\n",
    "- 2750\n",
    "- 2751\n",
    "- 2752\n",
    "- 2753\n",
    "- 2754\n",
    "- 2755"
   ]
  },
  {
   "cell_type": "code",
   "execution_count": 59,
   "metadata": {},
   "outputs": [],
   "source": [
    "def num_digitos_parte_entera(n):\n",
    "    if n == 0:\n",
    "        return 1\n",
    "    i=0\n",
    "    while n > 0:\n",
    "        n//=10\n",
    "        i+=1\n",
    "    return i"
   ]
  },
  {
   "cell_type": "code",
   "execution_count": 75,
   "metadata": {},
   "outputs": [
    {
     "name": "stdout",
     "output_type": "stream",
     "text": [
      "(18280, 3)\n"
     ]
    },
    {
     "name": "stderr",
     "output_type": "stream",
     "text": [
      "C:\\Users\\sergi\\AppData\\Local\\Temp\\ipykernel_18520\\4101534024.py:5: SettingWithCopyWarning: \n",
      "A value is trying to be set on a copy of a slice from a DataFrame.\n",
      "Try using .loc[row_indexer,col_indexer] = value instead\n",
      "\n",
      "See the caveats in the documentation: https://pandas.pydata.org/pandas-docs/stable/user_guide/indexing.html#returning-a-view-versus-a-copy\n",
      "  real['DELTA'] = [j+(i/10**(num_digitos_parte_entera(i))) for (j,i) in zip(real['DELTAINTEGER'].values, real['DELTATHOUSANDTH'].values)]\n"
     ]
    },
    {
     "data": {
      "text/html": [
       "<div>\n",
       "<style scoped>\n",
       "    .dataframe tbody tr th:only-of-type {\n",
       "        vertical-align: middle;\n",
       "    }\n",
       "\n",
       "    .dataframe tbody tr th {\n",
       "        vertical-align: top;\n",
       "    }\n",
       "\n",
       "    .dataframe thead th {\n",
       "        text-align: right;\n",
       "    }\n",
       "</style>\n",
       "<table border=\"1\" class=\"dataframe\">\n",
       "  <thead>\n",
       "    <tr style=\"text-align: right;\">\n",
       "      <th></th>\n",
       "      <th>DATE</th>\n",
       "      <th>ID</th>\n",
       "      <th>DELTA</th>\n",
       "    </tr>\n",
       "  </thead>\n",
       "  <tbody>\n",
       "    <tr>\n",
       "      <th>872557</th>\n",
       "      <td>2020-01-25</td>\n",
       "      <td>0</td>\n",
       "      <td>390.000</td>\n",
       "    </tr>\n",
       "    <tr>\n",
       "      <th>872558</th>\n",
       "      <td>2020-01-25</td>\n",
       "      <td>1</td>\n",
       "      <td>0.132</td>\n",
       "    </tr>\n",
       "    <tr>\n",
       "      <th>872559</th>\n",
       "      <td>2020-01-25</td>\n",
       "      <td>2</td>\n",
       "      <td>30.000</td>\n",
       "    </tr>\n",
       "    <tr>\n",
       "      <th>872560</th>\n",
       "      <td>2020-01-25</td>\n",
       "      <td>3</td>\n",
       "      <td>639.000</td>\n",
       "    </tr>\n",
       "    <tr>\n",
       "      <th>872561</th>\n",
       "      <td>2020-01-25</td>\n",
       "      <td>4</td>\n",
       "      <td>266.514</td>\n",
       "    </tr>\n",
       "    <tr>\n",
       "      <th>...</th>\n",
       "      <td>...</td>\n",
       "      <td>...</td>\n",
       "      <td>...</td>\n",
       "    </tr>\n",
       "    <tr>\n",
       "      <th>890832</th>\n",
       "      <td>2020-01-31</td>\n",
       "      <td>2734</td>\n",
       "      <td>0.000</td>\n",
       "    </tr>\n",
       "    <tr>\n",
       "      <th>890833</th>\n",
       "      <td>2020-01-31</td>\n",
       "      <td>2735</td>\n",
       "      <td>69.000</td>\n",
       "    </tr>\n",
       "    <tr>\n",
       "      <th>890834</th>\n",
       "      <td>2020-01-31</td>\n",
       "      <td>2736</td>\n",
       "      <td>52.000</td>\n",
       "    </tr>\n",
       "    <tr>\n",
       "      <th>890835</th>\n",
       "      <td>2020-01-31</td>\n",
       "      <td>2737</td>\n",
       "      <td>0.000</td>\n",
       "    </tr>\n",
       "    <tr>\n",
       "      <th>890836</th>\n",
       "      <td>2020-01-31</td>\n",
       "      <td>2739</td>\n",
       "      <td>15.000</td>\n",
       "    </tr>\n",
       "  </tbody>\n",
       "</table>\n",
       "<p>18280 rows × 3 columns</p>\n",
       "</div>"
      ],
      "text/plain": [
       "              DATE    ID    DELTA\n",
       "872557  2020-01-25     0  390.000\n",
       "872558  2020-01-25     1    0.132\n",
       "872559  2020-01-25     2   30.000\n",
       "872560  2020-01-25     3  639.000\n",
       "872561  2020-01-25     4  266.514\n",
       "...            ...   ...      ...\n",
       "890832  2020-01-31  2734    0.000\n",
       "890833  2020-01-31  2735   69.000\n",
       "890834  2020-01-31  2736   52.000\n",
       "890835  2020-01-31  2737    0.000\n",
       "890836  2020-01-31  2739   15.000\n",
       "\n",
       "[18280 rows x 3 columns]"
      ]
     },
     "execution_count": 75,
     "metadata": {},
     "output_type": "execute_result"
    }
   ],
   "source": [
    "january_last_week = [\"2020-01-25\",\"2020-01-26\",\"2020-01-27\",\"2020-01-28\",\"2020-01-29\",\n",
    "                                                       \"2020-01-30\",\"2020-01-31\"]\n",
    "aux = [i in january_last_week for i in data['DATE'].values]\n",
    "real = data[pd.Series(aux)]\n",
    "real['DELTA'] = [j+(i/10**(num_digitos_parte_entera(i))) for (j,i) in zip(real['DELTAINTEGER'].values, real['DELTATHOUSANDTH'].values)]\n",
    "real = real[['DATE','ID','DELTA']]\n",
    "print(real.shape)\n",
    "real"
   ]
  },
  {
   "cell_type": "code",
   "execution_count": 79,
   "metadata": {},
   "outputs": [
    {
     "data": {
      "text/plain": [
       "2671"
      ]
     },
     "execution_count": 79,
     "metadata": {},
     "output_type": "execute_result"
    }
   ],
   "source": [
    "len(real['ID'].value_counts())"
   ]
  },
  {
   "cell_type": "code",
   "execution_count": 78,
   "metadata": {},
   "outputs": [
    {
     "data": {
      "text/html": [
       "<div>\n",
       "<style scoped>\n",
       "    .dataframe tbody tr th:only-of-type {\n",
       "        vertical-align: middle;\n",
       "    }\n",
       "\n",
       "    .dataframe tbody tr th {\n",
       "        vertical-align: top;\n",
       "    }\n",
       "\n",
       "    .dataframe thead th {\n",
       "        text-align: right;\n",
       "    }\n",
       "</style>\n",
       "<table border=\"1\" class=\"dataframe\">\n",
       "  <thead>\n",
       "    <tr style=\"text-align: right;\">\n",
       "      <th>DATE</th>\n",
       "      <th>2020-01-25</th>\n",
       "      <th>2020-01-26</th>\n",
       "      <th>2020-01-27</th>\n",
       "      <th>2020-01-28</th>\n",
       "      <th>2020-01-29</th>\n",
       "      <th>2020-01-30</th>\n",
       "      <th>2020-01-31</th>\n",
       "    </tr>\n",
       "    <tr>\n",
       "      <th>ID</th>\n",
       "      <th></th>\n",
       "      <th></th>\n",
       "      <th></th>\n",
       "      <th></th>\n",
       "      <th></th>\n",
       "      <th></th>\n",
       "      <th></th>\n",
       "    </tr>\n",
       "  </thead>\n",
       "  <tbody>\n",
       "    <tr>\n",
       "      <th>0</th>\n",
       "      <td>390.000</td>\n",
       "      <td>304.000</td>\n",
       "      <td>213.00</td>\n",
       "      <td>232.00</td>\n",
       "      <td>403.000</td>\n",
       "      <td>425.0</td>\n",
       "      <td>255.000</td>\n",
       "    </tr>\n",
       "    <tr>\n",
       "      <th>1</th>\n",
       "      <td>0.132</td>\n",
       "      <td>0.297</td>\n",
       "      <td>4.00</td>\n",
       "      <td>1.00</td>\n",
       "      <td>0.198</td>\n",
       "      <td>10.0</td>\n",
       "      <td>28.495</td>\n",
       "    </tr>\n",
       "    <tr>\n",
       "      <th>2</th>\n",
       "      <td>30.000</td>\n",
       "      <td>32.000</td>\n",
       "      <td>39.00</td>\n",
       "      <td>40.00</td>\n",
       "      <td>45.000</td>\n",
       "      <td>27.0</td>\n",
       "      <td>59.000</td>\n",
       "    </tr>\n",
       "    <tr>\n",
       "      <th>3</th>\n",
       "      <td>639.000</td>\n",
       "      <td>350.000</td>\n",
       "      <td>289.00</td>\n",
       "      <td>380.00</td>\n",
       "      <td>404.000</td>\n",
       "      <td>339.0</td>\n",
       "      <td>391.000</td>\n",
       "    </tr>\n",
       "    <tr>\n",
       "      <th>4</th>\n",
       "      <td>266.514</td>\n",
       "      <td>280.198</td>\n",
       "      <td>260.36</td>\n",
       "      <td>299.44</td>\n",
       "      <td>420.100</td>\n",
       "      <td>417.3</td>\n",
       "      <td>252.198</td>\n",
       "    </tr>\n",
       "    <tr>\n",
       "      <th>...</th>\n",
       "      <td>...</td>\n",
       "      <td>...</td>\n",
       "      <td>...</td>\n",
       "      <td>...</td>\n",
       "      <td>...</td>\n",
       "      <td>...</td>\n",
       "      <td>...</td>\n",
       "    </tr>\n",
       "    <tr>\n",
       "      <th>2734</th>\n",
       "      <td>NaN</td>\n",
       "      <td>NaN</td>\n",
       "      <td>NaN</td>\n",
       "      <td>NaN</td>\n",
       "      <td>NaN</td>\n",
       "      <td>NaN</td>\n",
       "      <td>0.000</td>\n",
       "    </tr>\n",
       "    <tr>\n",
       "      <th>2735</th>\n",
       "      <td>NaN</td>\n",
       "      <td>NaN</td>\n",
       "      <td>NaN</td>\n",
       "      <td>NaN</td>\n",
       "      <td>NaN</td>\n",
       "      <td>NaN</td>\n",
       "      <td>69.000</td>\n",
       "    </tr>\n",
       "    <tr>\n",
       "      <th>2736</th>\n",
       "      <td>NaN</td>\n",
       "      <td>NaN</td>\n",
       "      <td>NaN</td>\n",
       "      <td>NaN</td>\n",
       "      <td>NaN</td>\n",
       "      <td>NaN</td>\n",
       "      <td>52.000</td>\n",
       "    </tr>\n",
       "    <tr>\n",
       "      <th>2737</th>\n",
       "      <td>NaN</td>\n",
       "      <td>NaN</td>\n",
       "      <td>NaN</td>\n",
       "      <td>9.00</td>\n",
       "      <td>0.000</td>\n",
       "      <td>0.0</td>\n",
       "      <td>0.000</td>\n",
       "    </tr>\n",
       "    <tr>\n",
       "      <th>2739</th>\n",
       "      <td>NaN</td>\n",
       "      <td>NaN</td>\n",
       "      <td>NaN</td>\n",
       "      <td>NaN</td>\n",
       "      <td>NaN</td>\n",
       "      <td>1.0</td>\n",
       "      <td>15.000</td>\n",
       "    </tr>\n",
       "  </tbody>\n",
       "</table>\n",
       "<p>2671 rows × 7 columns</p>\n",
       "</div>"
      ],
      "text/plain": [
       "DATE  2020-01-25  2020-01-26  2020-01-27  2020-01-28  2020-01-29  2020-01-30  \\\n",
       "ID                                                                             \n",
       "0        390.000     304.000      213.00      232.00     403.000       425.0   \n",
       "1          0.132       0.297        4.00        1.00       0.198        10.0   \n",
       "2         30.000      32.000       39.00       40.00      45.000        27.0   \n",
       "3        639.000     350.000      289.00      380.00     404.000       339.0   \n",
       "4        266.514     280.198      260.36      299.44     420.100       417.3   \n",
       "...          ...         ...         ...         ...         ...         ...   \n",
       "2734         NaN         NaN         NaN         NaN         NaN         NaN   \n",
       "2735         NaN         NaN         NaN         NaN         NaN         NaN   \n",
       "2736         NaN         NaN         NaN         NaN         NaN         NaN   \n",
       "2737         NaN         NaN         NaN        9.00       0.000         0.0   \n",
       "2739         NaN         NaN         NaN         NaN         NaN         1.0   \n",
       "\n",
       "DATE  2020-01-31  \n",
       "ID                \n",
       "0        255.000  \n",
       "1         28.495  \n",
       "2         59.000  \n",
       "3        391.000  \n",
       "4        252.198  \n",
       "...          ...  \n",
       "2734       0.000  \n",
       "2735      69.000  \n",
       "2736      52.000  \n",
       "2737       0.000  \n",
       "2739      15.000  \n",
       "\n",
       "[2671 rows x 7 columns]"
      ]
     },
     "execution_count": 78,
     "metadata": {},
     "output_type": "execute_result"
    }
   ],
   "source": [
    "real.pivot(index='ID', columns='DATE', values='DELTA')"
   ]
  },
  {
   "cell_type": "code",
   "execution_count": null,
   "metadata": {},
   "outputs": [],
   "source": []
  },
  {
   "cell_type": "code",
   "execution_count": 42,
   "metadata": {},
   "outputs": [],
   "source": [
    "from datetime import datetime\n",
    "\n",
    "def str2date2(string):\n",
    "    return datetime.strptime(string, '%Y-%m-%d')"
   ]
  },
  {
   "cell_type": "code",
   "execution_count": 32,
   "metadata": {},
   "outputs": [
    {
     "ename": "IndentationError",
     "evalue": "expected an indented block (3082681418.py, line 2)",
     "output_type": "error",
     "traceback": [
      "\u001b[1;36m  Input \u001b[1;32mIn [32]\u001b[1;36m\u001b[0m\n\u001b[1;33m    \u001b[0m\n\u001b[1;37m    ^\u001b[0m\n\u001b[1;31mIndentationError\u001b[0m\u001b[1;31m:\u001b[0m expected an indented block\n"
     ]
    }
   ],
   "source": [
    "def mse(real, prediction):\n",
    "    "
   ]
  },
  {
   "cell_type": "code",
   "execution_count": 33,
   "metadata": {},
   "outputs": [
    {
     "data": {
      "text/plain": [
       "(890837, 23)"
      ]
     },
     "execution_count": 33,
     "metadata": {},
     "output_type": "execute_result"
    }
   ],
   "source": [
    "data.shape"
   ]
  },
  {
   "cell_type": "code",
   "execution_count": 44,
   "metadata": {},
   "outputs": [
    {
     "data": {
      "text/plain": [
       "str"
      ]
     },
     "execution_count": 44,
     "metadata": {},
     "output_type": "execute_result"
    }
   ],
   "source": [
    "type(data['DATE'][0])"
   ]
  },
  {
   "cell_type": "code",
   "execution_count": 49,
   "metadata": {},
   "outputs": [
    {
     "data": {
      "text/plain": [
       "(18280, 23)"
      ]
     },
     "execution_count": 49,
     "metadata": {},
     "output_type": "execute_result"
    }
   ],
   "source": [
    "\n",
    "\n",
    "\n"
   ]
  },
  {
   "cell_type": "code",
   "execution_count": 36,
   "metadata": {},
   "outputs": [
    {
     "data": {
      "text/html": [
       "<div>\n",
       "<style scoped>\n",
       "    .dataframe tbody tr th:only-of-type {\n",
       "        vertical-align: middle;\n",
       "    }\n",
       "\n",
       "    .dataframe tbody tr th {\n",
       "        vertical-align: top;\n",
       "    }\n",
       "\n",
       "    .dataframe thead th {\n",
       "        text-align: right;\n",
       "    }\n",
       "</style>\n",
       "<table border=\"1\" class=\"dataframe\">\n",
       "  <thead>\n",
       "    <tr style=\"text-align: right;\">\n",
       "      <th></th>\n",
       "      <th>Unnamed: 0</th>\n",
       "      <th>DATE</th>\n",
       "      <th>ID</th>\n",
       "      <th>READINGINTEGER</th>\n",
       "      <th>READINGTHOUSANDTH</th>\n",
       "      <th>DELTAINTEGER</th>\n",
       "      <th>DELTATHOUSANDTH</th>\n",
       "      <th>YEAR</th>\n",
       "      <th>MONTH</th>\n",
       "      <th>DAY</th>\n",
       "      <th>...</th>\n",
       "      <th>YEAR_DAY</th>\n",
       "      <th>sin_WEEK_DAY</th>\n",
       "      <th>cos_WEEK_DAY</th>\n",
       "      <th>sin_YEAR_DAY</th>\n",
       "      <th>cos_YEAR_DAY</th>\n",
       "      <th>MIN_TEMP</th>\n",
       "      <th>MEAN_TEMP</th>\n",
       "      <th>MAX_TEMP</th>\n",
       "      <th>SUN</th>\n",
       "      <th>PRECIPITATIONS</th>\n",
       "    </tr>\n",
       "  </thead>\n",
       "  <tbody>\n",
       "  </tbody>\n",
       "</table>\n",
       "<p>0 rows × 23 columns</p>\n",
       "</div>"
      ],
      "text/plain": [
       "Empty DataFrame\n",
       "Columns: [Unnamed: 0, DATE, ID, READINGINTEGER, READINGTHOUSANDTH, DELTAINTEGER, DELTATHOUSANDTH, YEAR, MONTH, DAY, WEEK_DAY, IS_WEEKEND, IS_PUBLIC_HOLIDAY, YEAR_DAY, sin_WEEK_DAY, cos_WEEK_DAY, sin_YEAR_DAY, cos_YEAR_DAY, MIN_TEMP, MEAN_TEMP, MAX_TEMP, SUN, PRECIPITATIONS]\n",
       "Index: []\n",
       "\n",
       "[0 rows x 23 columns]"
      ]
     },
     "execution_count": 36,
     "metadata": {},
     "output_type": "execute_result"
    }
   ],
   "source": [
    "real"
   ]
  },
  {
   "cell_type": "code",
   "execution_count": null,
   "metadata": {},
   "outputs": [],
   "source": []
  }
 ],
 "metadata": {
  "interpreter": {
   "hash": "a69ea4cfb8306203f039115af0465b6153b9707b088c28cf8f65bbadd28ca25a"
  },
  "kernelspec": {
   "display_name": "Python 3 (ipykernel)",
   "language": "python",
   "name": "python3"
  },
  "language_info": {
   "codemirror_mode": {
    "name": "ipython",
    "version": 3
   },
   "file_extension": ".py",
   "mimetype": "text/x-python",
   "name": "python",
   "nbconvert_exporter": "python",
   "pygments_lexer": "ipython3",
   "version": "3.9.7"
  }
 },
 "nbformat": 4,
 "nbformat_minor": 2
}
