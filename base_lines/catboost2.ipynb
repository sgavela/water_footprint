{
 "cells": [
  {
   "cell_type": "code",
   "execution_count": 1,
   "id": "e424d9fe",
   "metadata": {},
   "outputs": [
    {
     "data": {
      "text/html": [
       "<div>\n",
       "<style scoped>\n",
       "    .dataframe tbody tr th:only-of-type {\n",
       "        vertical-align: middle;\n",
       "    }\n",
       "\n",
       "    .dataframe tbody tr th {\n",
       "        vertical-align: top;\n",
       "    }\n",
       "\n",
       "    .dataframe thead th {\n",
       "        text-align: right;\n",
       "    }\n",
       "</style>\n",
       "<table border=\"1\" class=\"dataframe\">\n",
       "  <thead>\n",
       "    <tr style=\"text-align: right;\">\n",
       "      <th></th>\n",
       "      <th>ID</th>\n",
       "      <th>DATE</th>\n",
       "      <th>DELTA</th>\n",
       "      <th>READING</th>\n",
       "      <th>PRECIPITATIONS</th>\n",
       "      <th>MIN_TEMP</th>\n",
       "      <th>MEAN_TEMP</th>\n",
       "      <th>MAX_TEMP</th>\n",
       "      <th>SUN</th>\n",
       "      <th>WEEK_DAY</th>\n",
       "      <th>IS_WEEKEND</th>\n",
       "      <th>sin_WEEK_DAY</th>\n",
       "      <th>cos_WEEK_DAY</th>\n",
       "      <th>IS_PUBLIC_HOLIDAY</th>\n",
       "    </tr>\n",
       "  </thead>\n",
       "  <tbody>\n",
       "    <tr>\n",
       "      <th>0</th>\n",
       "      <td>0</td>\n",
       "      <td>2019-02-01</td>\n",
       "      <td>243.0</td>\n",
       "      <td>331953.0</td>\n",
       "      <td>0.0</td>\n",
       "      <td>16.5</td>\n",
       "      <td>17.6</td>\n",
       "      <td>18.7</td>\n",
       "      <td>7.1</td>\n",
       "      <td>4</td>\n",
       "      <td>0</td>\n",
       "      <td>-0.433884</td>\n",
       "      <td>-0.900969</td>\n",
       "      <td>0</td>\n",
       "    </tr>\n",
       "    <tr>\n",
       "      <th>1</th>\n",
       "      <td>0</td>\n",
       "      <td>2019-02-02</td>\n",
       "      <td>236.0</td>\n",
       "      <td>332189.0</td>\n",
       "      <td>0.0</td>\n",
       "      <td>9.8</td>\n",
       "      <td>13.4</td>\n",
       "      <td>17.1</td>\n",
       "      <td>6.1</td>\n",
       "      <td>5</td>\n",
       "      <td>1</td>\n",
       "      <td>-0.974928</td>\n",
       "      <td>-0.222521</td>\n",
       "      <td>0</td>\n",
       "    </tr>\n",
       "    <tr>\n",
       "      <th>2</th>\n",
       "      <td>0</td>\n",
       "      <td>2019-02-03</td>\n",
       "      <td>335.0</td>\n",
       "      <td>332524.0</td>\n",
       "      <td>0.0</td>\n",
       "      <td>7.7</td>\n",
       "      <td>10.6</td>\n",
       "      <td>13.6</td>\n",
       "      <td>9.3</td>\n",
       "      <td>6</td>\n",
       "      <td>1</td>\n",
       "      <td>-0.781831</td>\n",
       "      <td>0.623490</td>\n",
       "      <td>0</td>\n",
       "    </tr>\n",
       "    <tr>\n",
       "      <th>3</th>\n",
       "      <td>0</td>\n",
       "      <td>2019-02-04</td>\n",
       "      <td>252.0</td>\n",
       "      <td>332776.0</td>\n",
       "      <td>0.0</td>\n",
       "      <td>4.1</td>\n",
       "      <td>10.6</td>\n",
       "      <td>17.2</td>\n",
       "      <td>9.3</td>\n",
       "      <td>0</td>\n",
       "      <td>0</td>\n",
       "      <td>0.000000</td>\n",
       "      <td>1.000000</td>\n",
       "      <td>0</td>\n",
       "    </tr>\n",
       "    <tr>\n",
       "      <th>4</th>\n",
       "      <td>0</td>\n",
       "      <td>2019-02-05</td>\n",
       "      <td>220.0</td>\n",
       "      <td>332996.0</td>\n",
       "      <td>0.0</td>\n",
       "      <td>7.5</td>\n",
       "      <td>14.6</td>\n",
       "      <td>21.6</td>\n",
       "      <td>9.2</td>\n",
       "      <td>1</td>\n",
       "      <td>0</td>\n",
       "      <td>0.781831</td>\n",
       "      <td>0.623490</td>\n",
       "      <td>0</td>\n",
       "    </tr>\n",
       "  </tbody>\n",
       "</table>\n",
       "</div>"
      ],
      "text/plain": [
       "   ID        DATE  DELTA   READING  PRECIPITATIONS  MIN_TEMP  MEAN_TEMP  \\\n",
       "0   0  2019-02-01  243.0  331953.0             0.0      16.5       17.6   \n",
       "1   0  2019-02-02  236.0  332189.0             0.0       9.8       13.4   \n",
       "2   0  2019-02-03  335.0  332524.0             0.0       7.7       10.6   \n",
       "3   0  2019-02-04  252.0  332776.0             0.0       4.1       10.6   \n",
       "4   0  2019-02-05  220.0  332996.0             0.0       7.5       14.6   \n",
       "\n",
       "   MAX_TEMP  SUN  WEEK_DAY  IS_WEEKEND  sin_WEEK_DAY  cos_WEEK_DAY  \\\n",
       "0      18.7  7.1         4           0     -0.433884     -0.900969   \n",
       "1      17.1  6.1         5           1     -0.974928     -0.222521   \n",
       "2      13.6  9.3         6           1     -0.781831      0.623490   \n",
       "3      17.2  9.3         0           0      0.000000      1.000000   \n",
       "4      21.6  9.2         1           0      0.781831      0.623490   \n",
       "\n",
       "   IS_PUBLIC_HOLIDAY  \n",
       "0                  0  \n",
       "1                  0  \n",
       "2                  0  \n",
       "3                  0  \n",
       "4                  0  "
      ]
     },
     "execution_count": 1,
     "metadata": {},
     "output_type": "execute_result"
    }
   ],
   "source": [
    "import pandas as pd\n",
    "\n",
    "data = pd.read_csv('../data/enriquecidos-004.pkl')\n",
    "data.drop('Unnamed: 0', axis=1, inplace=True)\n",
    "data.head()"
   ]
  },
  {
   "cell_type": "code",
   "execution_count": 2,
   "id": "61fa6953",
   "metadata": {},
   "outputs": [],
   "source": [
    "#Devuelve numero de dias que existen registro para un contador i\n",
    "\n",
    "def num_days(df, i):\n",
    "    data_one_id = df[df['ID']==i]\n",
    "    return len(data_one_id['DATE'].unique())"
   ]
  },
  {
   "cell_type": "code",
   "execution_count": 5,
   "id": "2617353b",
   "metadata": {},
   "outputs": [
    {
     "data": {
      "text/plain": [
       "1975"
      ]
     },
     "execution_count": 5,
     "metadata": {},
     "output_type": "execute_result"
    }
   ],
   "source": [
    "#Cálculo de contadores de los que se tiene toda la información\n",
    "\n",
    "contadores_completos = []\n",
    "for i in data['ID'].unique():\n",
    "    if num_days(data, i) == 365:\n",
    "        contadores_completos.append(i)\n",
    "\n",
    "len(contadores_completos) "
   ]
  },
  {
   "cell_type": "code",
   "execution_count": 6,
   "id": "6a80b460",
   "metadata": {},
   "outputs": [],
   "source": [
    "#Nos quedamos con los contadores completos 100%\n",
    "\n",
    "data = data[data['ID'].isin(contadores_completos)]"
   ]
  },
  {
   "cell_type": "code",
   "execution_count": 7,
   "id": "42a2ea50",
   "metadata": {},
   "outputs": [],
   "source": [
    "#Cuántas veces el siguiente reading es decreciente\n",
    "\n",
    "def num_decreasing_reading(data, contador):\n",
    "    rdif0 = data[data['ID']==contador]['READING'].diff().fillna(0).round(4)\n",
    "    errores = 0\n",
    "    for (i, rdif) in enumerate(rdif0):\n",
    "        if rdif < 0:\n",
    "            errores += 1\n",
    "    return errores\n",
    "\n",
    "#Diferencia entre dos readings debe ser delta. Chekeo de que se cumple\n",
    "\n",
    "def num_readingdiff_not_eq_delta(df, contador):\n",
    "    rdif0 = df[df['ID']==contador]['READING'].diff().fillna(0).round(4)\n",
    "    delta0 = df[df['ID']==contador]['DELTA']\n",
    "    errores = 0\n",
    "    for (i, (rdif, delta)) in enumerate(zip(rdif0, delta0)):\n",
    "        if rdif!=delta:\n",
    "            errores += 1\n",
    "    return errores"
   ]
  },
  {
   "cell_type": "markdown",
   "id": "56096e70",
   "metadata": {},
   "source": [
    "### Contadores con READING decreasing\n",
    "Como son pocos y en muy poca proporción voy a ignorar este error"
   ]
  },
  {
   "cell_type": "code",
   "execution_count": 8,
   "id": "99c1035c",
   "metadata": {},
   "outputs": [
    {
     "name": "stderr",
     "output_type": "stream",
     "text": [
      "100%|██████████| 1975/1975 [00:03<00:00, 546.49it/s]\n"
     ]
    }
   ],
   "source": [
    "from tqdm import tqdm\n",
    "\n",
    "bondad_contadores = {}\n",
    "for contador in tqdm(data['ID'].unique()):\n",
    "    rdif0 = data[data['ID']==contador]['READING'].diff().fillna(0).round(4)\n",
    "    errores = 0\n",
    "    for (i, rdif) in enumerate(rdif0):\n",
    "        if rdif < 0:\n",
    "            errores += 1\n",
    "    bondad_contadores[contador] = errores/len(rdif0)"
   ]
  },
  {
   "cell_type": "code",
   "execution_count": 9,
   "id": "89082e1f",
   "metadata": {},
   "outputs": [
    {
     "data": {
      "text/plain": [
       "58"
      ]
     },
     "execution_count": 9,
     "metadata": {},
     "output_type": "execute_result"
    }
   ],
   "source": [
    "sum([1 if i!=0 else 0 for i in bondad_contadores.values()])"
   ]
  },
  {
   "cell_type": "markdown",
   "id": "839438a4",
   "metadata": {},
   "source": [
    "### Meter nueva variable consumo total del contador al cabo del año"
   ]
  },
  {
   "cell_type": "code",
   "execution_count": 10,
   "id": "a0b2918e",
   "metadata": {},
   "outputs": [],
   "source": [
    "def consumo_total(df, i):\n",
    "    df0=df[df['ID']==i]\n",
    "    initial_reading = df0[df0['DATE']==\"2019-02-01\"].READING.values[0]\n",
    "    final_reading = df0[df0['DATE']==\"2020-01-31\"].READING.values[0]\n",
    "    return final_reading-initial_reading"
   ]
  },
  {
   "cell_type": "code",
   "execution_count": 11,
   "id": "3572af63",
   "metadata": {},
   "outputs": [],
   "source": [
    "def consumo_total2(i):\n",
    "    return consumo_total(data, i)"
   ]
  },
  {
   "cell_type": "code",
   "execution_count": 12,
   "id": "99ec15d0",
   "metadata": {},
   "outputs": [
    {
     "name": "stderr",
     "output_type": "stream",
     "text": [
      "100%|██████████| 720875/720875 [25:04<00:00, 479.30it/s]\n"
     ]
    }
   ],
   "source": [
    "from tqdm import tqdm\n",
    "\n",
    "tqdm.pandas()\n",
    "\n",
    "data['TOTAL_CONSUMPTION'] = data['ID'].progress_apply(consumo_total2)"
   ]
  },
  {
   "cell_type": "markdown",
   "id": "5debf918",
   "metadata": {},
   "source": [
    "### Dividir en train y test\n",
    "Tomo para test las dos últimas semanas de Enero"
   ]
  },
  {
   "cell_type": "code",
   "execution_count": 14,
   "id": "bc982c0e",
   "metadata": {},
   "outputs": [],
   "source": [
    "import datetime\n",
    "from tqdm import tqdm\n",
    "\n",
    "'''\n",
    "given a start date in datetime format \"start_date\" and an \"end_date\" returns a list of strings with the dates from\n",
    "\"start_date\" to \"end_date\".\n",
    "\n",
    "Example:\n",
    "\n",
    "start_date = datetime.date(2019, 9 , 30)\n",
    "end_date = datetime.date(2019, 10, 7)\n",
    "get_date_range(start_date, end_date)\n",
    "'''\n",
    "\n",
    "def get_date_range(start_date, end_date):\n",
    "    number_of_days = (end_date-start_date).days\n",
    "    return [(start_date + datetime.timedelta(days = day)).isoformat() for day in range(number_of_days+1)]"
   ]
  },
  {
   "cell_type": "code",
   "execution_count": 15,
   "id": "ff6cd797",
   "metadata": {},
   "outputs": [],
   "source": [
    "start_date = datetime.date(2020, 1 , 18)\n",
    "end_date = datetime.date(2020, 1, 31)\n",
    "test = data[data['DATE'].isin(get_date_range(start_date, end_date))]\n",
    "\n",
    "start_date = datetime.date(2019, 2 , 1)\n",
    "end_date = datetime.date(2020, 1, 17)\n",
    "train = data[data['DATE'].isin(get_date_range(start_date, end_date))]"
   ]
  },
  {
   "cell_type": "code",
   "execution_count": 17,
   "id": "18832f81",
   "metadata": {},
   "outputs": [],
   "source": [
    "X_train = train.drop(['READING','DELTA','DATE','WEEK_DAY'], axis=1)\n",
    "y_train = train['DELTA']\n",
    "X_test = test.drop(['READING','DELTA','DATE','WEEK_DAY'], axis=1)\n",
    "y_test = test['DELTA']"
   ]
  },
  {
   "cell_type": "code",
   "execution_count": null,
   "id": "9199df74",
   "metadata": {},
   "outputs": [],
   "source": []
  },
  {
   "cell_type": "markdown",
   "id": "614c10c6",
   "metadata": {},
   "source": [
    "# Implementación de CatBoost en Python"
   ]
  },
  {
   "cell_type": "code",
   "execution_count": 19,
   "id": "35dc045a",
   "metadata": {},
   "outputs": [
    {
     "name": "stdout",
     "output_type": "stream",
     "text": [
      "<class 'pandas.core.frame.DataFrame'>\n",
      "Int64Index: 693225 entries, 0 to 846732\n",
      "Data columns (total 11 columns):\n",
      " #   Column             Non-Null Count   Dtype  \n",
      "---  ------             --------------   -----  \n",
      " 0   ID                 693225 non-null  int64  \n",
      " 1   PRECIPITATIONS     693225 non-null  float64\n",
      " 2   MIN_TEMP           693225 non-null  float64\n",
      " 3   MEAN_TEMP          693225 non-null  float64\n",
      " 4   MAX_TEMP           693225 non-null  float64\n",
      " 5   SUN                693225 non-null  float64\n",
      " 6   IS_WEEKEND         693225 non-null  int64  \n",
      " 7   sin_WEEK_DAY       693225 non-null  float64\n",
      " 8   cos_WEEK_DAY       693225 non-null  float64\n",
      " 9   IS_PUBLIC_HOLIDAY  693225 non-null  int64  \n",
      " 10  TOTAL_CONSUMPTION  693225 non-null  float64\n",
      "dtypes: float64(8), int64(3)\n",
      "memory usage: 63.5 MB\n"
     ]
    }
   ],
   "source": [
    "X_train.info()"
   ]
  },
  {
   "cell_type": "code",
   "execution_count": 21,
   "id": "ac67168f",
   "metadata": {},
   "outputs": [
    {
     "data": {
      "text/plain": [
       "ID                   1975\n",
       "PRECIPITATIONS         37\n",
       "MIN_TEMP              173\n",
       "MEAN_TEMP             151\n",
       "MAX_TEMP              160\n",
       "SUN                    94\n",
       "IS_WEEKEND              2\n",
       "sin_WEEK_DAY            7\n",
       "cos_WEEK_DAY            7\n",
       "IS_PUBLIC_HOLIDAY       2\n",
       "TOTAL_CONSUMPTION    1925\n",
       "dtype: int64"
      ]
     },
     "execution_count": 21,
     "metadata": {},
     "output_type": "execute_result"
    }
   ],
   "source": [
    "X_train.nunique()"
   ]
  },
  {
   "cell_type": "markdown",
   "id": "b29248c0",
   "metadata": {},
   "source": [
    "If the categorical features have a lot of unique values, we won't use one hot encoding, but depending on the dataset it may be a good idea to adjust one_hot_max_size.\n",
    "\n",
    "Vbles categóricas con pocos valores únicos ¿qué hacemos?"
   ]
  },
  {
   "cell_type": "code",
   "execution_count": 24,
   "id": "046c9b52",
   "metadata": {},
   "outputs": [
    {
     "data": {
      "text/html": [
       "<div>\n",
       "<style scoped>\n",
       "    .dataframe tbody tr th:only-of-type {\n",
       "        vertical-align: middle;\n",
       "    }\n",
       "\n",
       "    .dataframe tbody tr th {\n",
       "        vertical-align: top;\n",
       "    }\n",
       "\n",
       "    .dataframe thead th {\n",
       "        text-align: right;\n",
       "    }\n",
       "</style>\n",
       "<table border=\"1\" class=\"dataframe\">\n",
       "  <thead>\n",
       "    <tr style=\"text-align: right;\">\n",
       "      <th></th>\n",
       "      <th>ID</th>\n",
       "      <th>PRECIPITATIONS</th>\n",
       "      <th>MIN_TEMP</th>\n",
       "      <th>MEAN_TEMP</th>\n",
       "      <th>MAX_TEMP</th>\n",
       "      <th>SUN</th>\n",
       "      <th>IS_WEEKEND</th>\n",
       "      <th>sin_WEEK_DAY</th>\n",
       "      <th>cos_WEEK_DAY</th>\n",
       "      <th>IS_PUBLIC_HOLIDAY</th>\n",
       "      <th>TOTAL_CONSUMPTION</th>\n",
       "    </tr>\n",
       "  </thead>\n",
       "  <tbody>\n",
       "    <tr>\n",
       "      <th>0</th>\n",
       "      <td>0</td>\n",
       "      <td>0.0</td>\n",
       "      <td>16.5</td>\n",
       "      <td>17.6</td>\n",
       "      <td>18.7</td>\n",
       "      <td>7.1</td>\n",
       "      <td>0</td>\n",
       "      <td>-0.433884</td>\n",
       "      <td>-0.900969</td>\n",
       "      <td>0</td>\n",
       "      <td>103013.0</td>\n",
       "    </tr>\n",
       "    <tr>\n",
       "      <th>1</th>\n",
       "      <td>0</td>\n",
       "      <td>0.0</td>\n",
       "      <td>9.8</td>\n",
       "      <td>13.4</td>\n",
       "      <td>17.1</td>\n",
       "      <td>6.1</td>\n",
       "      <td>1</td>\n",
       "      <td>-0.974928</td>\n",
       "      <td>-0.222521</td>\n",
       "      <td>0</td>\n",
       "      <td>103013.0</td>\n",
       "    </tr>\n",
       "    <tr>\n",
       "      <th>2</th>\n",
       "      <td>0</td>\n",
       "      <td>0.0</td>\n",
       "      <td>7.7</td>\n",
       "      <td>10.6</td>\n",
       "      <td>13.6</td>\n",
       "      <td>9.3</td>\n",
       "      <td>1</td>\n",
       "      <td>-0.781831</td>\n",
       "      <td>0.623490</td>\n",
       "      <td>0</td>\n",
       "      <td>103013.0</td>\n",
       "    </tr>\n",
       "    <tr>\n",
       "      <th>3</th>\n",
       "      <td>0</td>\n",
       "      <td>0.0</td>\n",
       "      <td>4.1</td>\n",
       "      <td>10.6</td>\n",
       "      <td>17.2</td>\n",
       "      <td>9.3</td>\n",
       "      <td>0</td>\n",
       "      <td>0.000000</td>\n",
       "      <td>1.000000</td>\n",
       "      <td>0</td>\n",
       "      <td>103013.0</td>\n",
       "    </tr>\n",
       "    <tr>\n",
       "      <th>4</th>\n",
       "      <td>0</td>\n",
       "      <td>0.0</td>\n",
       "      <td>7.5</td>\n",
       "      <td>14.6</td>\n",
       "      <td>21.6</td>\n",
       "      <td>9.2</td>\n",
       "      <td>0</td>\n",
       "      <td>0.781831</td>\n",
       "      <td>0.623490</td>\n",
       "      <td>0</td>\n",
       "      <td>103013.0</td>\n",
       "    </tr>\n",
       "  </tbody>\n",
       "</table>\n",
       "</div>"
      ],
      "text/plain": [
       "   ID  PRECIPITATIONS  MIN_TEMP  MEAN_TEMP  MAX_TEMP  SUN  IS_WEEKEND  \\\n",
       "0   0             0.0      16.5       17.6      18.7  7.1           0   \n",
       "1   0             0.0       9.8       13.4      17.1  6.1           1   \n",
       "2   0             0.0       7.7       10.6      13.6  9.3           1   \n",
       "3   0             0.0       4.1       10.6      17.2  9.3           0   \n",
       "4   0             0.0       7.5       14.6      21.6  9.2           0   \n",
       "\n",
       "   sin_WEEK_DAY  cos_WEEK_DAY  IS_PUBLIC_HOLIDAY  TOTAL_CONSUMPTION  \n",
       "0     -0.433884     -0.900969                  0           103013.0  \n",
       "1     -0.974928     -0.222521                  0           103013.0  \n",
       "2     -0.781831      0.623490                  0           103013.0  \n",
       "3      0.000000      1.000000                  0           103013.0  \n",
       "4      0.781831      0.623490                  0           103013.0  "
      ]
     },
     "execution_count": 24,
     "metadata": {},
     "output_type": "execute_result"
    }
   ],
   "source": [
    "X_train.head(5)"
   ]
  },
  {
   "cell_type": "code",
   "execution_count": 29,
   "id": "ed183b3d",
   "metadata": {},
   "outputs": [
    {
     "name": "stdout",
     "output_type": "stream",
     "text": [
      "[0, 6, 9]\n"
     ]
    }
   ],
   "source": [
    "#Se guarda en una lista las columnas con variables categóricas\n",
    "\n",
    "cat_features = [0, 6, 9]\n",
    "print(cat_features)"
   ]
  },
  {
   "cell_type": "code",
   "execution_count": 31,
   "id": "2b36bddb",
   "metadata": {},
   "outputs": [],
   "source": [
    "from catboost import CatBoostClassifier"
   ]
  },
  {
   "cell_type": "code",
   "execution_count": 43,
   "id": "a93c1da8",
   "metadata": {},
   "outputs": [],
   "source": [
    "catboost1 = CatBoostClassifier(\n",
    "    iterations=10\n",
    ")"
   ]
  },
  {
   "cell_type": "code",
   "execution_count": 46,
   "id": "b349e8a9",
   "metadata": {},
   "outputs": [
    {
     "name": "stderr",
     "output_type": "stream",
     "text": [
      "Custom logger is already specified. Specify more than one logger at same time is not thread safe."
     ]
    },
    {
     "ename": "CatBoostError",
     "evalue": "C:/Program Files (x86)/Go Agent/pipelines/BuildMaster/catboost.git/catboost/private/libs/target/target_converter.cpp:226: Unknown class label: \"408.9\"",
     "output_type": "error",
     "traceback": [
      "\u001b[1;31m---------------------------------------------------------------------------\u001b[0m",
      "\u001b[1;31mCatBoostError\u001b[0m                             Traceback (most recent call last)",
      "\u001b[1;32m~\\AppData\\Local\\Temp/ipykernel_3716/3031768373.py\u001b[0m in \u001b[0;36m<module>\u001b[1;34m\u001b[0m\n\u001b[1;32m----> 1\u001b[1;33m catboost1.fit(\n\u001b[0m\u001b[0;32m      2\u001b[0m     \u001b[0mX_train\u001b[0m\u001b[1;33m,\u001b[0m \u001b[0my_train\u001b[0m\u001b[1;33m,\u001b[0m\u001b[1;33m\u001b[0m\u001b[1;33m\u001b[0m\u001b[0m\n\u001b[0;32m      3\u001b[0m     \u001b[0mcat_features\u001b[0m\u001b[1;33m=\u001b[0m\u001b[0mcat_features\u001b[0m\u001b[1;33m,\u001b[0m\u001b[1;33m\u001b[0m\u001b[1;33m\u001b[0m\u001b[0m\n\u001b[0;32m      4\u001b[0m     \u001b[0meval_set\u001b[0m\u001b[1;33m=\u001b[0m\u001b[1;33m(\u001b[0m\u001b[0mX_test\u001b[0m\u001b[1;33m,\u001b[0m \u001b[0my_test\u001b[0m\u001b[1;33m)\u001b[0m\u001b[1;33m,\u001b[0m\u001b[1;33m\u001b[0m\u001b[1;33m\u001b[0m\u001b[0m\n\u001b[0;32m      5\u001b[0m     \u001b[0mverbose\u001b[0m\u001b[1;33m=\u001b[0m\u001b[1;32mFalse\u001b[0m\u001b[1;33m\u001b[0m\u001b[1;33m\u001b[0m\u001b[0m\n",
      "\u001b[1;32mC:\\Python3.10\\lib\\site-packages\\catboost\\core.py\u001b[0m in \u001b[0;36mfit\u001b[1;34m(self, X, y, cat_features, text_features, embedding_features, sample_weight, baseline, use_best_model, eval_set, verbose, logging_level, plot, column_description, verbose_eval, metric_period, silent, early_stopping_rounds, save_snapshot, snapshot_file, snapshot_interval, init_model, callbacks, log_cout, log_cerr)\u001b[0m\n\u001b[0;32m   4766\u001b[0m             \u001b[0mCatBoostClassifier\u001b[0m\u001b[1;33m.\u001b[0m\u001b[0m_check_is_compatible_loss\u001b[0m\u001b[1;33m(\u001b[0m\u001b[0mparams\u001b[0m\u001b[1;33m[\u001b[0m\u001b[1;34m'loss_function'\u001b[0m\u001b[1;33m]\u001b[0m\u001b[1;33m)\u001b[0m\u001b[1;33m\u001b[0m\u001b[1;33m\u001b[0m\u001b[0m\n\u001b[0;32m   4767\u001b[0m \u001b[1;33m\u001b[0m\u001b[0m\n\u001b[1;32m-> 4768\u001b[1;33m         self._fit(X, y, cat_features, text_features, embedding_features, None, sample_weight, None, None, None, None, baseline, use_best_model,\n\u001b[0m\u001b[0;32m   4769\u001b[0m                   \u001b[0meval_set\u001b[0m\u001b[1;33m,\u001b[0m \u001b[0mverbose\u001b[0m\u001b[1;33m,\u001b[0m \u001b[0mlogging_level\u001b[0m\u001b[1;33m,\u001b[0m \u001b[0mplot\u001b[0m\u001b[1;33m,\u001b[0m \u001b[0mcolumn_description\u001b[0m\u001b[1;33m,\u001b[0m \u001b[0mverbose_eval\u001b[0m\u001b[1;33m,\u001b[0m \u001b[0mmetric_period\u001b[0m\u001b[1;33m,\u001b[0m\u001b[1;33m\u001b[0m\u001b[1;33m\u001b[0m\u001b[0m\n\u001b[0;32m   4770\u001b[0m                   silent, early_stopping_rounds, save_snapshot, snapshot_file, snapshot_interval, init_model, callbacks, log_cout, log_cerr)\n",
      "\u001b[1;32mC:\\Python3.10\\lib\\site-packages\\catboost\\core.py\u001b[0m in \u001b[0;36m_fit\u001b[1;34m(self, X, y, cat_features, text_features, embedding_features, pairs, sample_weight, group_id, group_weight, subgroup_id, pairs_weight, baseline, use_best_model, eval_set, verbose, logging_level, plot, column_description, verbose_eval, metric_period, silent, early_stopping_rounds, save_snapshot, snapshot_file, snapshot_interval, init_model, callbacks, log_cout, log_cerr)\u001b[0m\n\u001b[0;32m   2087\u001b[0m         \u001b[1;32mwith\u001b[0m \u001b[0mlog_fixup\u001b[0m\u001b[1;33m(\u001b[0m\u001b[0mlog_cout\u001b[0m\u001b[1;33m,\u001b[0m \u001b[0mlog_cerr\u001b[0m\u001b[1;33m)\u001b[0m\u001b[1;33m,\u001b[0m\u001b[0;31m \u001b[0m\u001b[0;31m\\\u001b[0m\u001b[1;33m\u001b[0m\u001b[1;33m\u001b[0m\u001b[0m\n\u001b[0;32m   2088\u001b[0m             \u001b[0mplot_wrapper\u001b[0m\u001b[1;33m(\u001b[0m\u001b[0mplot\u001b[0m\u001b[1;33m,\u001b[0m \u001b[1;33m[\u001b[0m\u001b[0m_get_train_dir\u001b[0m\u001b[1;33m(\u001b[0m\u001b[0mself\u001b[0m\u001b[1;33m.\u001b[0m\u001b[0mget_params\u001b[0m\u001b[1;33m(\u001b[0m\u001b[1;33m)\u001b[0m\u001b[1;33m)\u001b[0m\u001b[1;33m]\u001b[0m\u001b[1;33m)\u001b[0m\u001b[1;33m:\u001b[0m\u001b[1;33m\u001b[0m\u001b[1;33m\u001b[0m\u001b[0m\n\u001b[1;32m-> 2089\u001b[1;33m             self._train(\n\u001b[0m\u001b[0;32m   2090\u001b[0m                 \u001b[0mtrain_pool\u001b[0m\u001b[1;33m,\u001b[0m\u001b[1;33m\u001b[0m\u001b[1;33m\u001b[0m\u001b[0m\n\u001b[0;32m   2091\u001b[0m                 \u001b[0mtrain_params\u001b[0m\u001b[1;33m[\u001b[0m\u001b[1;34m\"eval_sets\"\u001b[0m\u001b[1;33m]\u001b[0m\u001b[1;33m,\u001b[0m\u001b[1;33m\u001b[0m\u001b[1;33m\u001b[0m\u001b[0m\n",
      "\u001b[1;32mC:\\Python3.10\\lib\\site-packages\\catboost\\core.py\u001b[0m in \u001b[0;36m_train\u001b[1;34m(self, train_pool, test_pool, params, allow_clear_pool, init_model)\u001b[0m\n\u001b[0;32m   1514\u001b[0m \u001b[1;33m\u001b[0m\u001b[0m\n\u001b[0;32m   1515\u001b[0m     \u001b[1;32mdef\u001b[0m \u001b[0m_train\u001b[0m\u001b[1;33m(\u001b[0m\u001b[0mself\u001b[0m\u001b[1;33m,\u001b[0m \u001b[0mtrain_pool\u001b[0m\u001b[1;33m,\u001b[0m \u001b[0mtest_pool\u001b[0m\u001b[1;33m,\u001b[0m \u001b[0mparams\u001b[0m\u001b[1;33m,\u001b[0m \u001b[0mallow_clear_pool\u001b[0m\u001b[1;33m,\u001b[0m \u001b[0minit_model\u001b[0m\u001b[1;33m)\u001b[0m\u001b[1;33m:\u001b[0m\u001b[1;33m\u001b[0m\u001b[1;33m\u001b[0m\u001b[0m\n\u001b[1;32m-> 1516\u001b[1;33m         \u001b[0mself\u001b[0m\u001b[1;33m.\u001b[0m\u001b[0m_object\u001b[0m\u001b[1;33m.\u001b[0m\u001b[0m_train\u001b[0m\u001b[1;33m(\u001b[0m\u001b[0mtrain_pool\u001b[0m\u001b[1;33m,\u001b[0m \u001b[0mtest_pool\u001b[0m\u001b[1;33m,\u001b[0m \u001b[0mparams\u001b[0m\u001b[1;33m,\u001b[0m \u001b[0mallow_clear_pool\u001b[0m\u001b[1;33m,\u001b[0m \u001b[0minit_model\u001b[0m\u001b[1;33m.\u001b[0m\u001b[0m_object\u001b[0m \u001b[1;32mif\u001b[0m \u001b[0minit_model\u001b[0m \u001b[1;32melse\u001b[0m \u001b[1;32mNone\u001b[0m\u001b[1;33m)\u001b[0m\u001b[1;33m\u001b[0m\u001b[1;33m\u001b[0m\u001b[0m\n\u001b[0m\u001b[0;32m   1517\u001b[0m         \u001b[0mself\u001b[0m\u001b[1;33m.\u001b[0m\u001b[0m_set_trained_model_attributes\u001b[0m\u001b[1;33m(\u001b[0m\u001b[1;33m)\u001b[0m\u001b[1;33m\u001b[0m\u001b[1;33m\u001b[0m\u001b[0m\n\u001b[0;32m   1518\u001b[0m \u001b[1;33m\u001b[0m\u001b[0m\n",
      "\u001b[1;32m_catboost.pyx\u001b[0m in \u001b[0;36m_catboost._CatBoost._train\u001b[1;34m()\u001b[0m\n",
      "\u001b[1;32m_catboost.pyx\u001b[0m in \u001b[0;36m_catboost._CatBoost._train\u001b[1;34m()\u001b[0m\n",
      "\u001b[1;31mCatBoostError\u001b[0m: C:/Program Files (x86)/Go Agent/pipelines/BuildMaster/catboost.git/catboost/private/libs/target/target_converter.cpp:226: Unknown class label: \"408.9\""
     ]
    }
   ],
   "source": [
    "catboost1.fit(\n",
    "    X_train, y_train,\n",
    "    cat_features=cat_features,\n",
    "    eval_set=(X_test, y_test),\n",
    "    verbose=False\n",
    ")"
   ]
  },
  {
   "cell_type": "code",
   "execution_count": null,
   "id": "75d7da58",
   "metadata": {},
   "outputs": [],
   "source": []
  },
  {
   "cell_type": "code",
   "execution_count": null,
   "id": "169a1cb8",
   "metadata": {},
   "outputs": [],
   "source": []
  },
  {
   "cell_type": "code",
   "execution_count": null,
   "id": "5662b8eb",
   "metadata": {},
   "outputs": [],
   "source": []
  },
  {
   "cell_type": "code",
   "execution_count": null,
   "id": "7fbecbf0",
   "metadata": {},
   "outputs": [],
   "source": []
  }
 ],
 "metadata": {
  "kernelspec": {
   "display_name": "Python 3 (ipykernel)",
   "language": "python",
   "name": "python3"
  },
  "language_info": {
   "codemirror_mode": {
    "name": "ipython",
    "version": 3
   },
   "file_extension": ".py",
   "mimetype": "text/x-python",
   "name": "python",
   "nbconvert_exporter": "python",
   "pygments_lexer": "ipython3",
   "version": "3.10.0"
  }
 },
 "nbformat": 4,
 "nbformat_minor": 5
}
