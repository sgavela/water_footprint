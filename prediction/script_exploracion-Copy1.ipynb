{
 "cells": [
  {
   "cell_type": "markdown",
   "id": "50b0b9cc",
   "metadata": {},
   "source": [
    "# Sript de exploración y pruebas"
   ]
  },
  {
   "cell_type": "markdown",
   "id": "fbd98242",
   "metadata": {},
   "source": [
    "Como había que entregar tanto la exploración como las pruebas en el mismo script (aunque son cosas independientes), este notebook está dividido en dos. Esta primera parte es el script de exploración y más adelante se encuentra el script pruebas, el cual es completamente independiente"
   ]
  },
  {
   "cell_type": "markdown",
   "id": "7551893b",
   "metadata": {},
   "source": [
    "1. [Script de exploración](#indice_exploracion)\n",
    "2. [Script de pruebas](#indice_pruebas)"
   ]
  },
  {
   "cell_type": "markdown",
   "id": "a31f4e5c",
   "metadata": {},
   "source": [
    "# Script de exploración<a name=\"indice_exploracion\"></a>"
   ]
  },
  {
   "cell_type": "markdown",
   "id": "d544ad97",
   "metadata": {},
   "source": [
    "### Índice  script de exploración\n",
    "1. [Carga de datos](#id1)\n",
    "   \n",
    "2. [Exploración de las columnas DELTA y READING antes de agregar](#id2)"
   ]
  },
  {
   "cell_type": "code",
   "execution_count": 2,
   "id": "276b0d2e",
   "metadata": {},
   "outputs": [],
   "source": [
    "import pandas as pd\n",
    "from tqdm import tqdm\n",
    "import datetime"
   ]
  },
  {
   "cell_type": "markdown",
   "id": "0a63dc5e",
   "metadata": {},
   "source": [
    "## Carga de datos<a name=\"id1\"></a>"
   ]
  },
  {
   "cell_type": "markdown",
   "id": "d36d1e57",
   "metadata": {},
   "source": [
    "Cargamos los datos y les aplicamos los siguientes pasos de preprocesado explicados en el apartado 1 del script de predicción:\n",
    "- Dividimos las columnas *THOUSANDTH* entre 1000 y las agregamos a las columnas de las unidades\n",
    "- Transformamos *SAMPLETIME* a tipo *datetime* y creamos una nueva columna *DATE* con la fecha únicamente"
   ]
  },
  {
   "cell_type": "code",
   "execution_count": 3,
   "id": "7ec6e12d",
   "metadata": {},
   "outputs": [],
   "source": [
    "def get_fecha(date):\n",
    "    return date.strftime(\"%Y-%m-%d\")\n",
    "\n",
    "def str2date(string):\n",
    "    return datetime.datetime.strptime(string, '%Y-%m-%d %H:%M:%S')\n",
    "\n",
    "df = pd.read_csv('../data/Modelar_UH2022.txt',sep = '|')"
   ]
  },
  {
   "cell_type": "code",
   "execution_count": 4,
   "id": "77b957b0",
   "metadata": {},
   "outputs": [
    {
     "data": {
      "text/html": [
       "<div>\n",
       "<style scoped>\n",
       "    .dataframe tbody tr th:only-of-type {\n",
       "        vertical-align: middle;\n",
       "    }\n",
       "\n",
       "    .dataframe tbody tr th {\n",
       "        vertical-align: top;\n",
       "    }\n",
       "\n",
       "    .dataframe thead th {\n",
       "        text-align: right;\n",
       "    }\n",
       "</style>\n",
       "<table border=\"1\" class=\"dataframe\">\n",
       "  <thead>\n",
       "    <tr style=\"text-align: right;\">\n",
       "      <th></th>\n",
       "      <th>ID</th>\n",
       "      <th>SAMPLETIME</th>\n",
       "      <th>READINGINTEGER</th>\n",
       "      <th>READINGTHOUSANDTH</th>\n",
       "      <th>DELTAINTEGER</th>\n",
       "      <th>DELTATHOUSANDTH</th>\n",
       "    </tr>\n",
       "  </thead>\n",
       "  <tbody>\n",
       "    <tr>\n",
       "      <th>0</th>\n",
       "      <td>0</td>\n",
       "      <td>2019-06-13 08:34:09</td>\n",
       "      <td>369320</td>\n",
       "      <td>0.0</td>\n",
       "      <td>17</td>\n",
       "      <td>0.0</td>\n",
       "    </tr>\n",
       "    <tr>\n",
       "      <th>1</th>\n",
       "      <td>0</td>\n",
       "      <td>2019-06-13 17:34:10</td>\n",
       "      <td>369403</td>\n",
       "      <td>0.0</td>\n",
       "      <td>2</td>\n",
       "      <td>0.0</td>\n",
       "    </tr>\n",
       "    <tr>\n",
       "      <th>2</th>\n",
       "      <td>0</td>\n",
       "      <td>2019-06-13 18:34:10</td>\n",
       "      <td>369403</td>\n",
       "      <td>0.0</td>\n",
       "      <td>0</td>\n",
       "      <td>0.0</td>\n",
       "    </tr>\n",
       "    <tr>\n",
       "      <th>3</th>\n",
       "      <td>0</td>\n",
       "      <td>2019-06-13 04:34:10</td>\n",
       "      <td>369284</td>\n",
       "      <td>0.0</td>\n",
       "      <td>1</td>\n",
       "      <td>0.0</td>\n",
       "    </tr>\n",
       "    <tr>\n",
       "      <th>4</th>\n",
       "      <td>0</td>\n",
       "      <td>2019-06-13 14:34:10</td>\n",
       "      <td>369356</td>\n",
       "      <td>0.0</td>\n",
       "      <td>28</td>\n",
       "      <td>0.0</td>\n",
       "    </tr>\n",
       "  </tbody>\n",
       "</table>\n",
       "</div>"
      ],
      "text/plain": [
       "   ID           SAMPLETIME  READINGINTEGER  READINGTHOUSANDTH  DELTAINTEGER  \\\n",
       "0   0  2019-06-13 08:34:09          369320                0.0            17   \n",
       "1   0  2019-06-13 17:34:10          369403                0.0             2   \n",
       "2   0  2019-06-13 18:34:10          369403                0.0             0   \n",
       "3   0  2019-06-13 04:34:10          369284                0.0             1   \n",
       "4   0  2019-06-13 14:34:10          369356                0.0            28   \n",
       "\n",
       "   DELTATHOUSANDTH  \n",
       "0              0.0  \n",
       "1              0.0  \n",
       "2              0.0  \n",
       "3              0.0  \n",
       "4              0.0  "
      ]
     },
     "execution_count": 4,
     "metadata": {},
     "output_type": "execute_result"
    }
   ],
   "source": [
    "df.head()"
   ]
  },
  {
   "cell_type": "code",
   "execution_count": 6,
   "id": "2c8a0ce9",
   "metadata": {},
   "outputs": [
    {
     "data": {
      "text/plain": [
       "(2568774, 6)"
      ]
     },
     "execution_count": 6,
     "metadata": {},
     "output_type": "execute_result"
    }
   ],
   "source": [
    "df[df['READINGTHOUSANDTH']!=0].shape"
   ]
  },
  {
   "cell_type": "code",
   "execution_count": 8,
   "id": "8b9e061a",
   "metadata": {},
   "outputs": [
    {
     "data": {
      "text/plain": [
       "(2927455, 6)"
      ]
     },
     "execution_count": 8,
     "metadata": {},
     "output_type": "execute_result"
    }
   ],
   "source": [
    "df[df['DELTATHOUSANDTH']!=0].shape"
   ]
  },
  {
   "cell_type": "code",
   "execution_count": 23,
   "id": "532758aa",
   "metadata": {},
   "outputs": [
    {
     "name": "stderr",
     "output_type": "stream",
     "text": [
      "C:\\Users\\sergi\\AppData\\Local\\Temp\\ipykernel_13204\\2528151407.py:3: SettingWithCopyWarning: \n",
      "A value is trying to be set on a copy of a slice from a DataFrame.\n",
      "Try using .loc[row_indexer,col_indexer] = value instead\n",
      "\n",
      "See the caveats in the documentation: https://pandas.pydata.org/pandas-docs/stable/user_guide/indexing.html#returning-a-view-versus-a-copy\n",
      "  one_counter['DELTA'] = [j+(i/10) for (j,i) in zip(one_counter['DELTAINTEGER'].values, one_counter['DELTATHOUSANDTH'].values)]\n",
      "C:\\Users\\sergi\\AppData\\Local\\Temp\\ipykernel_13204\\2528151407.py:4: SettingWithCopyWarning: \n",
      "A value is trying to be set on a copy of a slice from a DataFrame.\n",
      "Try using .loc[row_indexer,col_indexer] = value instead\n",
      "\n",
      "See the caveats in the documentation: https://pandas.pydata.org/pandas-docs/stable/user_guide/indexing.html#returning-a-view-versus-a-copy\n",
      "  one_counter['READING'] = [j+(i/1000) for (j,i) in zip(one_counter['READINGINTEGER'].values, one_counter['READINGTHOUSANDTH'].values)]\n",
      "100%|██████████████████████████████████████████████████████████████████████████| 8759/8759 [00:00<00:00, 101469.68it/s]\n",
      "C:\\Users\\sergi\\AppData\\Local\\Temp\\ipykernel_13204\\2528151407.py:7: SettingWithCopyWarning: \n",
      "A value is trying to be set on a copy of a slice from a DataFrame.\n",
      "Try using .loc[row_indexer,col_indexer] = value instead\n",
      "\n",
      "See the caveats in the documentation: https://pandas.pydata.org/pandas-docs/stable/user_guide/indexing.html#returning-a-view-versus-a-copy\n",
      "  one_counter['SAMPLETIME'] = one_counter['SAMPLETIME'].progress_apply(str2date)\n",
      "100%|██████████████████████████████████████████████████████████████████████████| 8759/8759 [00:00<00:00, 177817.99it/s]\n",
      "C:\\Users\\sergi\\AppData\\Local\\Temp\\ipykernel_13204\\2528151407.py:8: SettingWithCopyWarning: \n",
      "A value is trying to be set on a copy of a slice from a DataFrame.\n",
      "Try using .loc[row_indexer,col_indexer] = value instead\n",
      "\n",
      "See the caveats in the documentation: https://pandas.pydata.org/pandas-docs/stable/user_guide/indexing.html#returning-a-view-versus-a-copy\n",
      "  one_counter['DATE'] = one_counter['SAMPLETIME'].progress_apply(get_fecha)\n"
     ]
    },
    {
     "data": {
      "text/html": [
       "<div>\n",
       "<style scoped>\n",
       "    .dataframe tbody tr th:only-of-type {\n",
       "        vertical-align: middle;\n",
       "    }\n",
       "\n",
       "    .dataframe tbody tr th {\n",
       "        vertical-align: top;\n",
       "    }\n",
       "\n",
       "    .dataframe thead th {\n",
       "        text-align: right;\n",
       "    }\n",
       "</style>\n",
       "<table border=\"1\" class=\"dataframe\">\n",
       "  <thead>\n",
       "    <tr style=\"text-align: right;\">\n",
       "      <th></th>\n",
       "      <th>ID</th>\n",
       "      <th>DATE</th>\n",
       "      <th>DELTA</th>\n",
       "      <th>READING</th>\n",
       "      <th>DELTAINTEGER</th>\n",
       "      <th>DELTATHOUSANDTH</th>\n",
       "      <th>READING_DIFF</th>\n",
       "    </tr>\n",
       "  </thead>\n",
       "  <tbody>\n",
       "    <tr>\n",
       "      <th>6</th>\n",
       "      <td>1</td>\n",
       "      <td>2019-02-07</td>\n",
       "      <td>15.9</td>\n",
       "      <td>5949.000</td>\n",
       "      <td>6</td>\n",
       "      <td>99.0</td>\n",
       "      <td>7.000</td>\n",
       "    </tr>\n",
       "    <tr>\n",
       "      <th>8</th>\n",
       "      <td>1</td>\n",
       "      <td>2019-02-09</td>\n",
       "      <td>164.6</td>\n",
       "      <td>6041.000</td>\n",
       "      <td>84</td>\n",
       "      <td>806.0</td>\n",
       "      <td>92.000</td>\n",
       "    </tr>\n",
       "    <tr>\n",
       "      <th>10</th>\n",
       "      <td>1</td>\n",
       "      <td>2019-02-11</td>\n",
       "      <td>21.8</td>\n",
       "      <td>6115.006</td>\n",
       "      <td>11</td>\n",
       "      <td>108.0</td>\n",
       "      <td>12.006</td>\n",
       "    </tr>\n",
       "    <tr>\n",
       "      <th>11</th>\n",
       "      <td>1</td>\n",
       "      <td>2019-02-12</td>\n",
       "      <td>30.6</td>\n",
       "      <td>6137.000</td>\n",
       "      <td>20</td>\n",
       "      <td>106.0</td>\n",
       "      <td>21.994</td>\n",
       "    </tr>\n",
       "    <tr>\n",
       "      <th>14</th>\n",
       "      <td>1</td>\n",
       "      <td>2019-02-15</td>\n",
       "      <td>10.9</td>\n",
       "      <td>6149.039</td>\n",
       "      <td>7</td>\n",
       "      <td>39.0</td>\n",
       "      <td>7.039</td>\n",
       "    </tr>\n",
       "    <tr>\n",
       "      <th>15</th>\n",
       "      <td>1</td>\n",
       "      <td>2019-02-16</td>\n",
       "      <td>117.6</td>\n",
       "      <td>6182.076</td>\n",
       "      <td>24</td>\n",
       "      <td>936.0</td>\n",
       "      <td>33.037</td>\n",
       "    </tr>\n",
       "    <tr>\n",
       "      <th>16</th>\n",
       "      <td>1</td>\n",
       "      <td>2019-02-17</td>\n",
       "      <td>78.4</td>\n",
       "      <td>6205.000</td>\n",
       "      <td>16</td>\n",
       "      <td>624.0</td>\n",
       "      <td>22.924</td>\n",
       "    </tr>\n",
       "    <tr>\n",
       "      <th>22</th>\n",
       "      <td>1</td>\n",
       "      <td>2019-02-23</td>\n",
       "      <td>49.3</td>\n",
       "      <td>6218.000</td>\n",
       "      <td>0</td>\n",
       "      <td>493.0</td>\n",
       "      <td>5.000</td>\n",
       "    </tr>\n",
       "    <tr>\n",
       "      <th>26</th>\n",
       "      <td>1</td>\n",
       "      <td>2019-02-27</td>\n",
       "      <td>25.2</td>\n",
       "      <td>6244.069</td>\n",
       "      <td>18</td>\n",
       "      <td>72.0</td>\n",
       "      <td>18.069</td>\n",
       "    </tr>\n",
       "    <tr>\n",
       "      <th>27</th>\n",
       "      <td>1</td>\n",
       "      <td>2019-02-28</td>\n",
       "      <td>15.2</td>\n",
       "      <td>6257.000</td>\n",
       "      <td>10</td>\n",
       "      <td>52.0</td>\n",
       "      <td>12.931</td>\n",
       "    </tr>\n",
       "    <tr>\n",
       "      <th>56</th>\n",
       "      <td>1</td>\n",
       "      <td>2019-03-29</td>\n",
       "      <td>75.2</td>\n",
       "      <td>6495.000</td>\n",
       "      <td>5</td>\n",
       "      <td>702.0</td>\n",
       "      <td>12.000</td>\n",
       "    </tr>\n",
       "    <tr>\n",
       "      <th>57</th>\n",
       "      <td>1</td>\n",
       "      <td>2019-03-30</td>\n",
       "      <td>298.2</td>\n",
       "      <td>6657.012</td>\n",
       "      <td>147</td>\n",
       "      <td>1512.0</td>\n",
       "      <td>162.012</td>\n",
       "    </tr>\n",
       "    <tr>\n",
       "      <th>58</th>\n",
       "      <td>1</td>\n",
       "      <td>2019-03-31</td>\n",
       "      <td>178.8</td>\n",
       "      <td>6810.000</td>\n",
       "      <td>146</td>\n",
       "      <td>328.0</td>\n",
       "      <td>152.988</td>\n",
       "    </tr>\n",
       "    <tr>\n",
       "      <th>59</th>\n",
       "      <td>1</td>\n",
       "      <td>2019-04-01</td>\n",
       "      <td>10.8</td>\n",
       "      <td>6820.076</td>\n",
       "      <td>0</td>\n",
       "      <td>108.0</td>\n",
       "      <td>10.076</td>\n",
       "    </tr>\n",
       "    <tr>\n",
       "      <th>60</th>\n",
       "      <td>1</td>\n",
       "      <td>2019-04-02</td>\n",
       "      <td>15.3</td>\n",
       "      <td>6836.000</td>\n",
       "      <td>0</td>\n",
       "      <td>153.0</td>\n",
       "      <td>15.924</td>\n",
       "    </tr>\n",
       "    <tr>\n",
       "      <th>64</th>\n",
       "      <td>1</td>\n",
       "      <td>2019-04-06</td>\n",
       "      <td>20.8</td>\n",
       "      <td>6897.088</td>\n",
       "      <td>0</td>\n",
       "      <td>208.0</td>\n",
       "      <td>3.088</td>\n",
       "    </tr>\n",
       "    <tr>\n",
       "      <th>65</th>\n",
       "      <td>1</td>\n",
       "      <td>2019-04-07</td>\n",
       "      <td>139.5</td>\n",
       "      <td>6926.022</td>\n",
       "      <td>16</td>\n",
       "      <td>1235.0</td>\n",
       "      <td>28.934</td>\n",
       "    </tr>\n",
       "    <tr>\n",
       "      <th>66</th>\n",
       "      <td>1</td>\n",
       "      <td>2019-04-08</td>\n",
       "      <td>60.2</td>\n",
       "      <td>6934.000</td>\n",
       "      <td>2</td>\n",
       "      <td>582.0</td>\n",
       "      <td>7.978</td>\n",
       "    </tr>\n",
       "    <tr>\n",
       "      <th>79</th>\n",
       "      <td>1</td>\n",
       "      <td>2019-04-21</td>\n",
       "      <td>23.2</td>\n",
       "      <td>7045.033</td>\n",
       "      <td>10</td>\n",
       "      <td>132.0</td>\n",
       "      <td>11.033</td>\n",
       "    </tr>\n",
       "    <tr>\n",
       "      <th>80</th>\n",
       "      <td>1</td>\n",
       "      <td>2019-04-22</td>\n",
       "      <td>36.7</td>\n",
       "      <td>7053.054</td>\n",
       "      <td>5</td>\n",
       "      <td>317.0</td>\n",
       "      <td>8.021</td>\n",
       "    </tr>\n",
       "  </tbody>\n",
       "</table>\n",
       "</div>"
      ],
      "text/plain": [
       "    ID        DATE  DELTA   READING  DELTAINTEGER  DELTATHOUSANDTH  \\\n",
       "6    1  2019-02-07   15.9  5949.000             6             99.0   \n",
       "8    1  2019-02-09  164.6  6041.000            84            806.0   \n",
       "10   1  2019-02-11   21.8  6115.006            11            108.0   \n",
       "11   1  2019-02-12   30.6  6137.000            20            106.0   \n",
       "14   1  2019-02-15   10.9  6149.039             7             39.0   \n",
       "15   1  2019-02-16  117.6  6182.076            24            936.0   \n",
       "16   1  2019-02-17   78.4  6205.000            16            624.0   \n",
       "22   1  2019-02-23   49.3  6218.000             0            493.0   \n",
       "26   1  2019-02-27   25.2  6244.069            18             72.0   \n",
       "27   1  2019-02-28   15.2  6257.000            10             52.0   \n",
       "56   1  2019-03-29   75.2  6495.000             5            702.0   \n",
       "57   1  2019-03-30  298.2  6657.012           147           1512.0   \n",
       "58   1  2019-03-31  178.8  6810.000           146            328.0   \n",
       "59   1  2019-04-01   10.8  6820.076             0            108.0   \n",
       "60   1  2019-04-02   15.3  6836.000             0            153.0   \n",
       "64   1  2019-04-06   20.8  6897.088             0            208.0   \n",
       "65   1  2019-04-07  139.5  6926.022            16           1235.0   \n",
       "66   1  2019-04-08   60.2  6934.000             2            582.0   \n",
       "79   1  2019-04-21   23.2  7045.033            10            132.0   \n",
       "80   1  2019-04-22   36.7  7053.054             5            317.0   \n",
       "\n",
       "    READING_DIFF  \n",
       "6          7.000  \n",
       "8         92.000  \n",
       "10        12.006  \n",
       "11        21.994  \n",
       "14         7.039  \n",
       "15        33.037  \n",
       "16        22.924  \n",
       "22         5.000  \n",
       "26        18.069  \n",
       "27        12.931  \n",
       "56        12.000  \n",
       "57       162.012  \n",
       "58       152.988  \n",
       "59        10.076  \n",
       "60        15.924  \n",
       "64         3.088  \n",
       "65        28.934  \n",
       "66         7.978  \n",
       "79        11.033  \n",
       "80         8.021  "
      ]
     },
     "execution_count": 23,
     "metadata": {},
     "output_type": "execute_result"
    }
   ],
   "source": [
    "one_counter = df[df['ID']==1]\n",
    "\n",
    "one_counter['DELTA'] = [j+(i/10) for (j,i) in zip(one_counter['DELTAINTEGER'].values, one_counter['DELTATHOUSANDTH'].values)]\n",
    "one_counter['READING'] = [j+(i/1000) for (j,i) in zip(one_counter['READINGINTEGER'].values, one_counter['READINGTHOUSANDTH'].values)]\n",
    "\n",
    "tqdm.pandas()\n",
    "one_counter['SAMPLETIME'] = one_counter['SAMPLETIME'].progress_apply(str2date)\n",
    "one_counter['DATE'] = one_counter['SAMPLETIME'].progress_apply(get_fecha)\n",
    "\n",
    "one_counter = one_counter.sort_values(['ID','SAMPLETIME']).reset_index(drop=True)\n",
    "\n",
    "aggregated_df = one_counter.groupby(['ID','DATE']).agg({'DELTA':sum,\n",
    "                                                        'READING':max,\n",
    "                                                        'DELTAINTEGER':sum,\n",
    "                                                        'DELTATHOUSANDTH':sum}).reset_index()\n",
    "aggregated_df['READING_DIFF'] = aggregated_df['READING'].diff().fillna(aggregated_df['DELTA'].values[0])\n",
    "aggregated_df[aggregated_df['DELTA'] != aggregated_df['READING'].diff().fillna(aggregated_df['DELTA'].values[0])].head(20)"
   ]
  },
  {
   "cell_type": "code",
   "execution_count": 18,
   "id": "1998a12c",
   "metadata": {},
   "outputs": [
    {
     "data": {
      "text/html": [
       "<div>\n",
       "<style scoped>\n",
       "    .dataframe tbody tr th:only-of-type {\n",
       "        vertical-align: middle;\n",
       "    }\n",
       "\n",
       "    .dataframe tbody tr th {\n",
       "        vertical-align: top;\n",
       "    }\n",
       "\n",
       "    .dataframe thead th {\n",
       "        text-align: right;\n",
       "    }\n",
       "</style>\n",
       "<table border=\"1\" class=\"dataframe\">\n",
       "  <thead>\n",
       "    <tr style=\"text-align: right;\">\n",
       "      <th></th>\n",
       "      <th>ID</th>\n",
       "      <th>DATE</th>\n",
       "      <th>DELTA</th>\n",
       "      <th>READING</th>\n",
       "      <th>READING_DIFF</th>\n",
       "    </tr>\n",
       "  </thead>\n",
       "  <tbody>\n",
       "  </tbody>\n",
       "</table>\n",
       "</div>"
      ],
      "text/plain": [
       "Empty DataFrame\n",
       "Columns: [ID, DATE, DELTA, READING, READING_DIFF]\n",
       "Index: []"
      ]
     },
     "execution_count": 18,
     "metadata": {},
     "output_type": "execute_result"
    }
   ],
   "source": []
  },
  {
   "cell_type": "code",
   "execution_count": null,
   "id": "6210ca03",
   "metadata": {},
   "outputs": [],
   "source": []
  },
  {
   "cell_type": "code",
   "execution_count": null,
   "id": "069173f3",
   "metadata": {},
   "outputs": [],
   "source": []
  },
  {
   "cell_type": "code",
   "execution_count": 2,
   "id": "e62d5791",
   "metadata": {},
   "outputs": [
    {
     "name": "stderr",
     "output_type": "stream",
     "text": [
      "100%|███████████████████████████████████████████████████████████████████| 21404828/21404828 [10:27<00:00, 34095.37it/s]\n",
      "100%|██████████████████████████████████████████████████████████████████| 21404828/21404828 [02:51<00:00, 124870.28it/s]\n"
     ]
    }
   ],
   "source": [
    "df['DELTA'] = [j+i for (j,i) in zip(df['DELTAINTEGER'].values, df['DELTATHOUSANDTH'].values)]\n",
    "df['READING'] = [j+(i/1000) for (j,i) in zip(df['READINGINTEGER'].values, df['READINGTHOUSANDTH'].values)]\n",
    "df.drop(['READINGINTEGER','READINGTHOUSANDTH','DELTAINTEGER','DELTATHOUSANDTH'], axis=1, inplace=True)\n",
    "\n",
    "tqdm.pandas()\n",
    "df['SAMPLETIME'] = df['SAMPLETIME'].progress_apply(str2date)\n",
    "df['DATE'] = df['SAMPLETIME'].progress_apply(get_fecha)\n",
    "\n",
    "df = df.sort_values(['ID','SAMPLETIME']).reset_index(drop=True)"
   ]
  },
  {
   "cell_type": "markdown",
   "id": "2c3d8c45",
   "metadata": {},
   "source": [
    "## Exploración de las columnas DELTA y READING antes de agregar"
   ]
  },
  {
   "cell_type": "markdown",
   "id": "c8519f53",
   "metadata": {},
   "source": [
    "Sabemos que DELTA es el consumo de agua y READING es la medida acumulativa del contador, es decir, en un principio la diferencia entre dos medidas READING consecutivas del mismo contador debería ser igual a DELTA."
   ]
  },
  {
   "cell_type": "code",
   "execution_count": 7,
   "id": "3162b137",
   "metadata": {},
   "outputs": [
    {
     "name": "stderr",
     "output_type": "stream",
     "text": [
      "100%|██████████████████████████████████████████████████████████████████████████████| 2747/2747 [01:54<00:00, 24.00it/s]\n"
     ]
    }
   ],
   "source": [
    "delta_equals_reading={}\n",
    "for i in tqdm(df['ID'].unique()):\n",
    "    one_counter_delta = df[df['ID']==i]['DELTA']\n",
    "    one_counter_reading = df[df['ID']==i]['READING'].diff().fillna(0).round(4)\n",
    "    delta_equals_reading[i] = sum(one_counter_delta==one_counter_reading)/len(one_counter_delta)"
   ]
  },
  {
   "cell_type": "markdown",
   "id": "3e0c7055",
   "metadata": {},
   "source": [
    "En la siguiente gráfica vemos en el eje x la consistencia de los contadores, entendiendo por consistencia la proporción en que se cumple \n",
    "\n",
    "$DELTA=READING_{t+1}-READING_t$\n",
    "\n",
    "es decir, si la consistencia es igual a 1 es que se cumple siempre y si es igual a 0 es que no se cumple nunca para un determinado conntador.\n",
    "\n",
    "La conclusión es que apróximadamente 2000 contadores son consistentes y unos 700 no lo son:"
   ]
  },
  {
   "cell_type": "code",
   "execution_count": 17,
   "id": "178d48f3",
   "metadata": {},
   "outputs": [
    {
     "data": {
      "text/plain": [
       "<AxesSubplot:title={'center':'Counters consistency'}, ylabel='Frequency'>"
      ]
     },
     "execution_count": 17,
     "metadata": {},
     "output_type": "execute_result"
    },
    {
     "data": {
      "image/png": "[encoded data removed]",
      "text/plain": [
       "<Figure size 432x288 with 1 Axes>"
      ]
     },
     "metadata": {
      "needs_background": "light"
     },
     "output_type": "display_data"
    }
   ],
   "source": [
    "pd.Series(delta_equals_reading).plot(kind='hist', title='Counters consistency')"
   ]
  },
  {
   "cell_type": "markdown",
   "id": "040c7b01",
   "metadata": {},
   "source": [
    "Por otro lado vamos a ver cuantos contadores tienen todas las medidas que se suponen deberían tener. El número de medidas de un contador completo debería ser $24\\cdot365-1=8759$, esto es, una por hora durante un año. "
   ]
  },
  {
   "cell_type": "code",
   "execution_count": 19,
   "id": "bc457aca",
   "metadata": {},
   "outputs": [
    {
     "name": "stderr",
     "output_type": "stream",
     "text": [
      "100%|██████████████████████████████████████████████████████████████████████████████| 2747/2747 [00:52<00:00, 52.24it/s]\n"
     ]
    }
   ],
   "source": [
    "complete = []\n",
    "len_complete = 8759\n",
    "for i in tqdm(df['ID'].unique()):\n",
    "    if df[df['ID']==i].shape[0] == len_complete:\n",
    "        complete.append(i)"
   ]
  },
  {
   "cell_type": "code",
   "execution_count": 20,
   "id": "d7941692",
   "metadata": {},
   "outputs": [
    {
     "name": "stdout",
     "output_type": "stream",
     "text": [
      "Complete: 1970 Incomplete: 777 Total: 2747\n",
      "Complete      0.717146\n",
      "Incomplete    0.282854\n",
      "dtype: float64\n"
     ]
    },
    {
     "data": {
      "text/plain": [
       "<AxesSubplot:ylabel='None'>"
      ]
     },
     "execution_count": 20,
     "metadata": {},
     "output_type": "execute_result"
    },
    {
     "data": {
      "image/png": "[encoded data removed]",
      "text/plain": [
       "<Figure size 432x288 with 1 Axes>"
      ]
     },
     "metadata": {},
     "output_type": "display_data"
    }
   ],
   "source": [
    "print('Complete:', len(complete),'Incomplete:', len(df['ID'].unique())-len(complete), 'Total:', len(df['ID'].unique())) \n",
    "complete_percentages = pd.Series({'Complete':len(complete)/len(df['ID'].unique()), \n",
    "                                  'Incomplete':1-len(complete)/len(df['ID'].unique())})\n",
    "print(complete_percentages)\n",
    "complete_percentages.plot(kind='pie')"
   ]
  },
  {
   "cell_type": "markdown",
   "id": "1ddddd8e",
   "metadata": {},
   "source": [
    "Nuevamente unos 2000 contadores están completos y unos 700 les faltan medidas en mayor o menor proporción. Veamos en qué proporción les faltan medidas a los contadores incompletos en la siguiente gráfica:"
   ]
  },
  {
   "cell_type": "code",
   "execution_count": 35,
   "id": "8b13d7db",
   "metadata": {},
   "outputs": [
    {
     "name": "stderr",
     "output_type": "stream",
     "text": [
      "100%|██████████████████████████████████████████████████████████████████████████████| 2747/2747 [00:47<00:00, 57.58it/s]"
     ]
    },
    {
     "name": "stdout",
     "output_type": "stream",
     "text": [
      "0-10% missing data      139\n",
      "10-50% missing data     374\n",
      "50-80% missing data     136\n",
      "80-100% missing data    124\n",
      "dtype: int64\n"
     ]
    },
    {
     "name": "stderr",
     "output_type": "stream",
     "text": [
      "\n"
     ]
    },
    {
     "data": {
      "text/plain": [
       "<AxesSubplot:>"
      ]
     },
     "execution_count": 35,
     "metadata": {},
     "output_type": "execute_result"
    },
    {
     "data": {
      "image/png": "[encoded data removed]",
      "text/plain": [
       "<Figure size 432x288 with 1 Axes>"
      ]
     },
     "metadata": {
      "needs_background": "light"
     },
     "output_type": "display_data"
    }
   ],
   "source": [
    "incompleteness = {}\n",
    "len_complete = 8759\n",
    "for i in tqdm(df['ID'].unique()):\n",
    "    incompleteness[i] = len_complete - df[df['ID']==i].shape[0]\n",
    "incompleteness_serie = pd.Series(incompleteness)\n",
    "undercomplete_rate = (incompleteness_serie[incompleteness_serie>0])/len_complete\n",
    "incomplete_clasif = {}\n",
    "incomplete_clasif['0-10% missing data'] = len(undercomplete_rate[undercomplete_rate <= 0.1])\n",
    "incomplete_clasif['10-50% missing data'] = len(undercomplete_rate[(undercomplete_rate > 0.1) & (undercomplete_rate <= 0.5)])\n",
    "incomplete_clasif['50-80% missing data'] = len(undercomplete_rate[(undercomplete_rate > 0.5) & (undercomplete_rate <= 0.8)])\n",
    "incomplete_clasif['80-100% missing data'] = len(undercomplete_rate[undercomplete_rate > 0.8])\n",
    "incomplete_clasif = pd.Series(incomplete_clasif)\n",
    "print(incomplete_clasif)\n",
    "incomplete_clasif.plot(kind='bar')"
   ]
  },
  {
   "cell_type": "markdown",
   "id": "857cbb85",
   "metadata": {},
   "source": [
    "Constatamos que solo unos pocos contadores tienen una cantidad de medidas incompletas significativas. Para los contadores que están incompletos pero no mucho buscaremos estrategias finas para completarlos (ver script de predicción apartado 2). En cuanto a los contadores que están muy incompletos tendremos que usar estimaciones más groseras ya que no disponemos de registros desde los que inferir las medidas que faltan.\n",
    "\n",
    "Como curiosidad, vemos que hay 4 contadores con incompletitud negativa, es decir, tienen más medidas que una por hora. En concreto estos contadores toman 4 medidas por hora, pero esto no será un problema una vez agrupemos por días las medidas."
   ]
  },
  {
   "cell_type": "code",
   "execution_count": 22,
   "id": "5b9557bd",
   "metadata": {},
   "outputs": [
    {
     "data": {
      "text/plain": [
       "248    -26196\n",
       "292    -26294\n",
       "545    -26316\n",
       "1416   -26210\n",
       "dtype: int64"
      ]
     },
     "execution_count": 22,
     "metadata": {},
     "output_type": "execute_result"
    }
   ],
   "source": [
    "incompleteness_serie[incompleteness_serie<0]"
   ]
  },
  {
   "cell_type": "markdown",
   "id": "122043ab",
   "metadata": {},
   "source": [
    "Como adelantábamos, dado que se esperan predicciones de consumo diarias y no horarias, en algún momento habrá que agregar las medidas correspondientes a un mismo día y contador. Pero antes de hacer esta agrupación intentaremos completar algunas medidas:"
   ]
  },
  {
   "cell_type": "code",
   "execution_count": null,
   "id": "17e87b60",
   "metadata": {},
   "outputs": [],
   "source": [
    "'''\n",
    "si el contador está completo o es uno de los que toman 4 medidas por hora simplemente lo agregamos\n",
    "'''\n",
    "aggregation_dict = {}\n",
    "for i in tqdm(df['ID'].unique()):\n",
    "    if incompleteness[i]<=0:\n",
    "        one_counter = df[df['ID']==i]\n",
    "        aggregated_df = one_counter.groupby(['ID','DATE']).agg({'DELTA':sum,'READING':max}).reset_index()\n",
    "        "
   ]
  },
  {
   "cell_type": "code",
   "execution_count": 47,
   "id": "a973462a",
   "metadata": {},
   "outputs": [
    {
     "data": {
      "text/plain": [
       "0      243.0\n",
       "1      236.0\n",
       "2      335.0\n",
       "3      252.0\n",
       "4      220.0\n",
       "       ...  \n",
       "360    213.0\n",
       "361    232.0\n",
       "362    403.0\n",
       "363    425.0\n",
       "364    255.0\n",
       "Name: READING, Length: 365, dtype: float64"
      ]
     },
     "execution_count": 47,
     "metadata": {},
     "output_type": "execute_result"
    }
   ],
   "source": [
    "one_counter = df[df['ID']==0]\n",
    "aggregated_df = one_counter.groupby(['ID','DATE']).agg({'DELTA':sum,'READING':max}).reset_index()\n",
    "aggregated_df['READING'].diff().fillna(aggregated_df['DELTA'].values[0])"
   ]
  },
  {
   "cell_type": "code",
   "execution_count": 53,
   "id": "39d220db",
   "metadata": {},
   "outputs": [
    {
     "data": {
      "text/html": [
       "<div>\n",
       "<style scoped>\n",
       "    .dataframe tbody tr th:only-of-type {\n",
       "        vertical-align: middle;\n",
       "    }\n",
       "\n",
       "    .dataframe tbody tr th {\n",
       "        vertical-align: top;\n",
       "    }\n",
       "\n",
       "    .dataframe thead th {\n",
       "        text-align: right;\n",
       "    }\n",
       "</style>\n",
       "<table border=\"1\" class=\"dataframe\">\n",
       "  <thead>\n",
       "    <tr style=\"text-align: right;\">\n",
       "      <th></th>\n",
       "      <th>ID</th>\n",
       "      <th>DATE</th>\n",
       "      <th>DELTA</th>\n",
       "      <th>READING</th>\n",
       "      <th>READING_DIFF</th>\n",
       "    </tr>\n",
       "  </thead>\n",
       "  <tbody>\n",
       "    <tr>\n",
       "      <th>33</th>\n",
       "      <td>0</td>\n",
       "      <td>2019-03-06</td>\n",
       "      <td>303.01</td>\n",
       "      <td>341490.0</td>\n",
       "      <td>304.0</td>\n",
       "    </tr>\n",
       "    <tr>\n",
       "      <th>45</th>\n",
       "      <td>0</td>\n",
       "      <td>2019-03-18</td>\n",
       "      <td>214.01</td>\n",
       "      <td>345057.0</td>\n",
       "      <td>215.0</td>\n",
       "    </tr>\n",
       "    <tr>\n",
       "      <th>46</th>\n",
       "      <td>0</td>\n",
       "      <td>2019-03-19</td>\n",
       "      <td>406.03</td>\n",
       "      <td>345466.0</td>\n",
       "      <td>409.0</td>\n",
       "    </tr>\n",
       "    <tr>\n",
       "      <th>60</th>\n",
       "      <td>0</td>\n",
       "      <td>2019-04-02</td>\n",
       "      <td>307.02</td>\n",
       "      <td>349846.0</td>\n",
       "      <td>309.0</td>\n",
       "    </tr>\n",
       "    <tr>\n",
       "      <th>98</th>\n",
       "      <td>0</td>\n",
       "      <td>2019-05-10</td>\n",
       "      <td>338.01</td>\n",
       "      <td>359338.0</td>\n",
       "      <td>339.0</td>\n",
       "    </tr>\n",
       "    <tr>\n",
       "      <th>110</th>\n",
       "      <td>0</td>\n",
       "      <td>2019-05-22</td>\n",
       "      <td>372.04</td>\n",
       "      <td>363454.0</td>\n",
       "      <td>376.0</td>\n",
       "    </tr>\n",
       "    <tr>\n",
       "      <th>150</th>\n",
       "      <td>0</td>\n",
       "      <td>2019-07-01</td>\n",
       "      <td>341.04</td>\n",
       "      <td>374988.0</td>\n",
       "      <td>345.0</td>\n",
       "    </tr>\n",
       "    <tr>\n",
       "      <th>160</th>\n",
       "      <td>0</td>\n",
       "      <td>2019-07-11</td>\n",
       "      <td>178.02</td>\n",
       "      <td>377873.0</td>\n",
       "      <td>180.0</td>\n",
       "    </tr>\n",
       "    <tr>\n",
       "      <th>175</th>\n",
       "      <td>0</td>\n",
       "      <td>2019-07-26</td>\n",
       "      <td>315.03</td>\n",
       "      <td>382761.0</td>\n",
       "      <td>318.0</td>\n",
       "    </tr>\n",
       "    <tr>\n",
       "      <th>179</th>\n",
       "      <td>0</td>\n",
       "      <td>2019-07-30</td>\n",
       "      <td>174.04</td>\n",
       "      <td>383864.0</td>\n",
       "      <td>178.0</td>\n",
       "    </tr>\n",
       "    <tr>\n",
       "      <th>243</th>\n",
       "      <td>0</td>\n",
       "      <td>2019-10-02</td>\n",
       "      <td>308.04</td>\n",
       "      <td>400114.0</td>\n",
       "      <td>312.0</td>\n",
       "    </tr>\n",
       "    <tr>\n",
       "      <th>279</th>\n",
       "      <td>0</td>\n",
       "      <td>2019-11-07</td>\n",
       "      <td>259.04</td>\n",
       "      <td>410468.0</td>\n",
       "      <td>263.0</td>\n",
       "    </tr>\n",
       "    <tr>\n",
       "      <th>352</th>\n",
       "      <td>0</td>\n",
       "      <td>2020-01-19</td>\n",
       "      <td>271.02</td>\n",
       "      <td>430987.0</td>\n",
       "      <td>273.0</td>\n",
       "    </tr>\n",
       "  </tbody>\n",
       "</table>\n",
       "</div>"
      ],
      "text/plain": [
       "     ID        DATE   DELTA   READING  READING_DIFF\n",
       "33    0  2019-03-06  303.01  341490.0         304.0\n",
       "45    0  2019-03-18  214.01  345057.0         215.0\n",
       "46    0  2019-03-19  406.03  345466.0         409.0\n",
       "60    0  2019-04-02  307.02  349846.0         309.0\n",
       "98    0  2019-05-10  338.01  359338.0         339.0\n",
       "110   0  2019-05-22  372.04  363454.0         376.0\n",
       "150   0  2019-07-01  341.04  374988.0         345.0\n",
       "160   0  2019-07-11  178.02  377873.0         180.0\n",
       "175   0  2019-07-26  315.03  382761.0         318.0\n",
       "179   0  2019-07-30  174.04  383864.0         178.0\n",
       "243   0  2019-10-02  308.04  400114.0         312.0\n",
       "279   0  2019-11-07  259.04  410468.0         263.0\n",
       "352   0  2020-01-19  271.02  430987.0         273.0"
      ]
     },
     "execution_count": 53,
     "metadata": {},
     "output_type": "execute_result"
    }
   ],
   "source": [
    "one_counter = df[df['ID']==0]\n",
    "aggregated_df = one_counter.groupby(['ID','DATE']).agg({'DELTA':sum,'READING':max}).reset_index()\n",
    "aggregated_df['READING_DIFF'] = aggregated_df['READING'].diff().fillna(aggregated_df['DELTA'].values[0])\n",
    "aggregated_df[aggregated_df['DELTA'] != aggregated_df['READING'].diff().fillna(aggregated_df['DELTA'].values[0])]"
   ]
  },
  {
   "cell_type": "code",
   "execution_count": 54,
   "id": "c5bf6854",
   "metadata": {},
   "outputs": [
    {
     "data": {
      "text/html": [
       "<div>\n",
       "<style scoped>\n",
       "    .dataframe tbody tr th:only-of-type {\n",
       "        vertical-align: middle;\n",
       "    }\n",
       "\n",
       "    .dataframe tbody tr th {\n",
       "        vertical-align: top;\n",
       "    }\n",
       "\n",
       "    .dataframe thead th {\n",
       "        text-align: right;\n",
       "    }\n",
       "</style>\n",
       "<table border=\"1\" class=\"dataframe\">\n",
       "  <thead>\n",
       "    <tr style=\"text-align: right;\">\n",
       "      <th></th>\n",
       "      <th>ID</th>\n",
       "      <th>DATE</th>\n",
       "      <th>DELTA</th>\n",
       "      <th>READING</th>\n",
       "      <th>READING_DIFF</th>\n",
       "    </tr>\n",
       "  </thead>\n",
       "  <tbody>\n",
       "    <tr>\n",
       "      <th>3</th>\n",
       "      <td>1</td>\n",
       "      <td>2019-02-04</td>\n",
       "      <td>11.010</td>\n",
       "      <td>5898.000</td>\n",
       "      <td>12.000</td>\n",
       "    </tr>\n",
       "    <tr>\n",
       "      <th>4</th>\n",
       "      <td>1</td>\n",
       "      <td>2019-02-05</td>\n",
       "      <td>43.010</td>\n",
       "      <td>5942.000</td>\n",
       "      <td>44.000</td>\n",
       "    </tr>\n",
       "    <tr>\n",
       "      <th>6</th>\n",
       "      <td>1</td>\n",
       "      <td>2019-02-07</td>\n",
       "      <td>6.099</td>\n",
       "      <td>5949.000</td>\n",
       "      <td>7.000</td>\n",
       "    </tr>\n",
       "    <tr>\n",
       "      <th>8</th>\n",
       "      <td>1</td>\n",
       "      <td>2019-02-09</td>\n",
       "      <td>84.806</td>\n",
       "      <td>6041.000</td>\n",
       "      <td>92.000</td>\n",
       "    </tr>\n",
       "    <tr>\n",
       "      <th>9</th>\n",
       "      <td>1</td>\n",
       "      <td>2019-02-10</td>\n",
       "      <td>61.010</td>\n",
       "      <td>6103.000</td>\n",
       "      <td>62.000</td>\n",
       "    </tr>\n",
       "    <tr>\n",
       "      <th>...</th>\n",
       "      <td>...</td>\n",
       "      <td>...</td>\n",
       "      <td>...</td>\n",
       "      <td>...</td>\n",
       "      <td>...</td>\n",
       "    </tr>\n",
       "    <tr>\n",
       "      <th>357</th>\n",
       "      <td>1</td>\n",
       "      <td>2020-01-24</td>\n",
       "      <td>0.561</td>\n",
       "      <td>10037.067</td>\n",
       "      <td>5.067</td>\n",
       "    </tr>\n",
       "    <tr>\n",
       "      <th>358</th>\n",
       "      <td>1</td>\n",
       "      <td>2020-01-25</td>\n",
       "      <td>0.132</td>\n",
       "      <td>10039.000</td>\n",
       "      <td>1.933</td>\n",
       "    </tr>\n",
       "    <tr>\n",
       "      <th>359</th>\n",
       "      <td>1</td>\n",
       "      <td>2020-01-26</td>\n",
       "      <td>0.297</td>\n",
       "      <td>10042.000</td>\n",
       "      <td>3.000</td>\n",
       "    </tr>\n",
       "    <tr>\n",
       "      <th>362</th>\n",
       "      <td>1</td>\n",
       "      <td>2020-01-29</td>\n",
       "      <td>0.198</td>\n",
       "      <td>10049.000</td>\n",
       "      <td>2.000</td>\n",
       "    </tr>\n",
       "    <tr>\n",
       "      <th>364</th>\n",
       "      <td>1</td>\n",
       "      <td>2020-01-31</td>\n",
       "      <td>28.495</td>\n",
       "      <td>10092.000</td>\n",
       "      <td>33.000</td>\n",
       "    </tr>\n",
       "  </tbody>\n",
       "</table>\n",
       "<p>136 rows × 5 columns</p>\n",
       "</div>"
      ],
      "text/plain": [
       "     ID        DATE   DELTA    READING  READING_DIFF\n",
       "3     1  2019-02-04  11.010   5898.000        12.000\n",
       "4     1  2019-02-05  43.010   5942.000        44.000\n",
       "6     1  2019-02-07   6.099   5949.000         7.000\n",
       "8     1  2019-02-09  84.806   6041.000        92.000\n",
       "9     1  2019-02-10  61.010   6103.000        62.000\n",
       "..   ..         ...     ...        ...           ...\n",
       "357   1  2020-01-24   0.561  10037.067         5.067\n",
       "358   1  2020-01-25   0.132  10039.000         1.933\n",
       "359   1  2020-01-26   0.297  10042.000         3.000\n",
       "362   1  2020-01-29   0.198  10049.000         2.000\n",
       "364   1  2020-01-31  28.495  10092.000        33.000\n",
       "\n",
       "[136 rows x 5 columns]"
      ]
     },
     "execution_count": 54,
     "metadata": {},
     "output_type": "execute_result"
    }
   ],
   "source": [
    "one_counter = df[df['ID']==1]\n",
    "aggregated_df = one_counter.groupby(['ID','DATE']).agg({'DELTA':sum,'READING':max}).reset_index()\n",
    "aggregated_df['READING_DIFF'] = aggregated_df['READING'].diff().fillna(aggregated_df['DELTA'].values[0])\n",
    "aggregated_df[aggregated_df['DELTA'] != aggregated_df['READING'].diff().fillna(aggregated_df['DELTA'].values[0])]"
   ]
  },
  {
   "cell_type": "code",
   "execution_count": null,
   "id": "5cf6848c",
   "metadata": {},
   "outputs": [],
   "source": [
    "#para cada contador incompleto\n",
    "for i in tqdm(incompelteness):\n",
    "    one_counter = df[df['ID']==i]\n",
    "    #vemos qué días están incompletos\n",
    "    incomplete_days = aux.groupby('DATE')['DELTA'].count()\n",
    "    incomplete_days = incomplete_days[incomplete_days != 24]\n",
    "    "
   ]
  },
  {
   "cell_type": "code",
   "execution_count": null,
   "id": "815a9c3d",
   "metadata": {},
   "outputs": [],
   "source": []
  },
  {
   "cell_type": "code",
   "execution_count": 28,
   "id": "a37ace6d",
   "metadata": {},
   "outputs": [
    {
     "data": {
      "text/plain": [
       "<AxesSubplot:>"
      ]
     },
     "execution_count": 28,
     "metadata": {},
     "output_type": "execute_result"
    },
    {
     "data": {
      "image/png": "[encoded data removed]",
      "text/plain": [
       "<Figure size 432x288 with 1 Axes>"
      ]
     },
     "metadata": {
      "needs_background": "light"
     },
     "output_type": "display_data"
    }
   ],
   "source": [
    "df[df['ID']==23]['DELTA'].plot()"
   ]
  },
  {
   "cell_type": "code",
   "execution_count": 34,
   "id": "6d75f7fe",
   "metadata": {},
   "outputs": [
    {
     "data": {
      "text/plain": [
       "DATE\n",
       "2019-02-04    23\n",
       "2019-02-19    13\n",
       "2019-02-23     4\n",
       "2019-02-28    19\n",
       "2019-03-31    23\n",
       "2019-04-01     6\n",
       "2019-04-05    12\n",
       "2019-04-13    22\n",
       "Name: DELTA, dtype: int64"
      ]
     },
     "execution_count": 34,
     "metadata": {},
     "output_type": "execute_result"
    }
   ],
   "source": [
    "aux = df[df['ID']==23]\n",
    "incomplete_days = aux.groupby('DATE')['DELTA'].count()[aux.groupby('DATE')['DELTA'].count() != 24]\n",
    "incomplete_days"
   ]
  },
  {
   "cell_type": "code",
   "execution_count": 25,
   "id": "f7d4bbae",
   "metadata": {},
   "outputs": [
    {
     "data": {
      "text/plain": [
       "11      2376\n",
       "23       549\n",
       "26      2317\n",
       "32      1556\n",
       "33       548\n",
       "        ... \n",
       "2746    8751\n",
       "2747    8755\n",
       "2748    8743\n",
       "2749    8751\n",
       "2756    8755\n",
       "Length: 777, dtype: int64"
      ]
     },
     "execution_count": 25,
     "metadata": {},
     "output_type": "execute_result"
    }
   ],
   "source": [
    "incompleteness_serie"
   ]
  },
  {
   "cell_type": "code",
   "execution_count": null,
   "id": "2fca5bed",
   "metadata": {},
   "outputs": [],
   "source": []
  },
  {
   "cell_type": "markdown",
   "id": "e4cc939a",
   "metadata": {},
   "source": [
    "A pesar de que es útil esta visión general de los datos existe un problema difícil de solucionar: las medidas de los contadores no son a la misma hora y ni siquiera el espacio entre medidas de un mismo contador es de exactamente una hora. Por este motivo se hace inviable seguir trabajando a nivel de horas y la solución más factible es agrupar por días las medidas. De esta manera tendremos unos valores de *DELTA* y *READING* únicos para cada día y contador. Además será fácil de ver "
   ]
  }
 ],
 "metadata": {
  "kernelspec": {
   "display_name": "Python 3 (ipykernel)",
   "language": "python",
   "name": "python3"
  },
  "language_info": {
   "codemirror_mode": {
    "name": "ipython",
    "version": 3
   },
   "file_extension": ".py",
   "mimetype": "text/x-python",
   "name": "python",
   "nbconvert_exporter": "python",
   "pygments_lexer": "ipython3",
   "version": "3.9.7"
  }
 },
 "nbformat": 4,
 "nbformat_minor": 5
}
