{
 "cells": [
  {
   "cell_type": "markdown",
   "id": "70378180",
   "metadata": {},
   "source": [
    "# Sript de exploración y pruebas"
   ]
  },
  {
   "cell_type": "markdown",
   "id": "345d0813",
   "metadata": {},
   "source": [
    "Como había que entregar tanto la exploración como las pruebas en el mismo script (aunque son cosas independientes), este notebook está dividido en dos. Esta primera parte es el script de exploración y más adelante se encuentra el script pruebas, el cual es completamente independiente"
   ]
  },
  {
   "cell_type": "markdown",
   "id": "563ded5f",
   "metadata": {},
   "source": [
    "1. [Script de exploración](#indice_exploracion)\n",
    "2. [Script de pruebas](#indice_pruebas)"
   ]
  },
  {
   "cell_type": "markdown",
   "id": "bcb1d461",
   "metadata": {},
   "source": [
    "# Script de exploración<a name=\"indice_exploracion\"></a>"
   ]
  },
  {
   "cell_type": "markdown",
   "id": "81ff8e32",
   "metadata": {},
   "source": [
    "### Índice  script de exploración\n",
    "1. [Carga de datos](#id1)\n",
    "   \n",
    "2. [Exploración de las columnas DELTA y READING antes de agregar](#id2)\n",
    "\n",
    "3. [Exploración de las series temporales tras la agragación](#id3)"
   ]
  },
  {
   "cell_type": "code",
   "execution_count": 1,
   "id": "c5fe6594",
   "metadata": {},
   "outputs": [],
   "source": [
    "import pandas as pd\n",
    "from tqdm import tqdm\n",
    "import datetime"
   ]
  },
  {
   "cell_type": "markdown",
   "id": "d203eb42",
   "metadata": {},
   "source": [
    "## Carga de datos<a name=\"id1\"></a>"
   ]
  },
  {
   "cell_type": "markdown",
   "id": "3d3a12eb",
   "metadata": {},
   "source": [
    "Cargamos los datos y les aplicamos los siguientes pasos de preprocesado explicados en el apartado 1 del script de predicción:\n",
    "- Dividimos las columnas *THOUSANDTH* entre 1000 y las agregamos a las columnas de las unidades\n",
    "- Transformamos *SAMPLETIME* a tipo *datetime* y creamos una nueva columna *DATE* con la fecha únicamente"
   ]
  },
  {
   "cell_type": "code",
   "execution_count": 2,
   "id": "86ffc162",
   "metadata": {},
   "outputs": [
    {
     "name": "stderr",
     "output_type": "stream",
     "text": [
      "100%|███████████████████████████████████████████████████████████████████| 21404828/21404828 [04:31<00:00, 78849.17it/s]\n",
      "100%|███████████████████████████████████████████████████████████████████| 21404828/21404828 [03:50<00:00, 92996.37it/s]\n"
     ]
    }
   ],
   "source": [
    "def get_fecha(date):\n",
    "    return date.strftime(\"%Y-%m-%d\")\n",
    "\n",
    "def str2date(string):\n",
    "    return datetime.datetime.strptime(string, '%Y-%m-%d %H:%M:%S')\n",
    "\n",
    "df = pd.read_csv('../data/Modelar_UH2022.txt',sep = '|')\n",
    "\n",
    "df['DELTA'] = [j+(i/1000) for (j,i) in zip(df['DELTAINTEGER'].values, df['DELTATHOUSANDTH'].values)]\n",
    "df['READING'] = [j+(i/1000) for (j,i) in zip(df['READINGINTEGER'].values, df['READINGTHOUSANDTH'].values)]\n",
    "df.drop(['READINGINTEGER','READINGTHOUSANDTH','DELTAINTEGER','DELTATHOUSANDTH'], axis=1, inplace=True)\n",
    "\n",
    "tqdm.pandas()\n",
    "df['SAMPLETIME'] = df['SAMPLETIME'].progress_apply(str2date)\n",
    "df['DATE'] = df['SAMPLETIME'].progress_apply(get_fecha)\n",
    "\n",
    "df = df.sort_values(['ID','SAMPLETIME']).reset_index(drop=True)"
   ]
  },
  {
   "cell_type": "markdown",
   "id": "d21dca18",
   "metadata": {},
   "source": [
    "## Exploración de las columnas DELTA y READING antes de agregar<a name=\"id2\"></a>"
   ]
  },
  {
   "cell_type": "markdown",
   "id": "5473e78c",
   "metadata": {},
   "source": [
    "Sabemos que DELTA es el consumo de agua y READING es la medida acumulativa del contador, es decir, en un principio la diferencia entre dos medidas READING consecutivas del mismo contador debería ser igual a DELTA."
   ]
  },
  {
   "cell_type": "code",
   "execution_count": 3,
   "id": "42213dca",
   "metadata": {},
   "outputs": [
    {
     "name": "stderr",
     "output_type": "stream",
     "text": [
      "100%|██████████████████████████████████████████████████████████████████████████████| 2747/2747 [02:22<00:00, 19.25it/s]\n"
     ]
    }
   ],
   "source": [
    "delta_equals_reading={}\n",
    "for i in tqdm(df['ID'].unique()):\n",
    "    one_counter_delta = df[df['ID']==i]['DELTA']\n",
    "    one_counter_reading = df[df['ID']==i]['READING'].diff().fillna(0).round(4)\n",
    "    delta_equals_reading[i] = sum(one_counter_delta==one_counter_reading)/len(one_counter_delta)"
   ]
  },
  {
   "cell_type": "markdown",
   "id": "ba61f161",
   "metadata": {},
   "source": [
    "En la siguiente gráfica vemos en el eje x la consistencia de los contadores, entendiendo por consistencia la proporción en que se cumple \n",
    "\n",
    "$DELTA=READING_{t+1}-READING_t$\n",
    "\n",
    "es decir, si la consistencia es igual a 1 es que se cumple siempre y si es igual a 0 es que no se cumple nunca para un determinado conntador.\n",
    "\n",
    "La conclusión es que apróximadamente 2000 contadores son consistentes y unos 700 no lo son:"
   ]
  },
  {
   "cell_type": "code",
   "execution_count": 4,
   "id": "7e7144f9",
   "metadata": {},
   "outputs": [
    {
     "data": {
      "text/plain": [
       "<AxesSubplot:title={'center':'Counters consistency'}, ylabel='Frequency'>"
      ]
     },
     "execution_count": 4,
     "metadata": {},
     "output_type": "execute_result"
    },
    {
     "data": {
      "image/png": "[encoded data removed]",
      "text/plain": [
       "<Figure size 432x288 with 1 Axes>"
      ]
     },
     "metadata": {
      "needs_background": "light"
     },
     "output_type": "display_data"
    }
   ],
   "source": [
    "pd.Series(delta_equals_reading).plot(kind='hist', title='Counters consistency')"
   ]
  },
  {
   "cell_type": "markdown",
   "id": "f7ad7c5e",
   "metadata": {},
   "source": [
    "Por otro lado vamos a ver cuantos contadores tienen todas las medidas que se suponen deberían tener. El número de medidas de un contador completo debería ser $24\\cdot365-1=8759$, esto es, una por hora durante un año. "
   ]
  },
  {
   "cell_type": "code",
   "execution_count": 5,
   "id": "e4b35f5f",
   "metadata": {},
   "outputs": [
    {
     "name": "stderr",
     "output_type": "stream",
     "text": [
      "100%|██████████████████████████████████████████████████████████████████████████████| 2747/2747 [01:10<00:00, 39.19it/s]\n"
     ]
    }
   ],
   "source": [
    "complete = []\n",
    "len_complete = 8759\n",
    "for i in tqdm(df['ID'].unique()):\n",
    "    if df[df['ID']==i].shape[0] == len_complete:\n",
    "        complete.append(i)"
   ]
  },
  {
   "cell_type": "code",
   "execution_count": 6,
   "id": "869557d0",
   "metadata": {},
   "outputs": [
    {
     "name": "stdout",
     "output_type": "stream",
     "text": [
      "Complete: 1970 Incomplete: 777 Total: 2747\n",
      "Complete      0.717146\n",
      "Incomplete    0.282854\n",
      "dtype: float64\n"
     ]
    },
    {
     "data": {
      "text/plain": [
       "<AxesSubplot:ylabel='None'>"
      ]
     },
     "execution_count": 6,
     "metadata": {},
     "output_type": "execute_result"
    },
    {
     "data": {
      "image/png": "[encoded data removed]",
      "text/plain": [
       "<Figure size 432x288 with 1 Axes>"
      ]
     },
     "metadata": {},
     "output_type": "display_data"
    }
   ],
   "source": [
    "print('Complete:', len(complete),'Incomplete:', len(df['ID'].unique())-len(complete), 'Total:', len(df['ID'].unique())) \n",
    "complete_percentages = pd.Series({'Complete':len(complete)/len(df['ID'].unique()), \n",
    "                                  'Incomplete':1-len(complete)/len(df['ID'].unique())})\n",
    "print(complete_percentages)\n",
    "complete_percentages.plot(kind='pie')"
   ]
  },
  {
   "cell_type": "markdown",
   "id": "020b5c5b",
   "metadata": {},
   "source": [
    "Nuevamente unos 2000 contadores están completos y unos 700 les faltan medidas en mayor o menor proporción. Veamos en qué proporción les faltan medidas a los contadores incompletos en la siguiente gráfica:"
   ]
  },
  {
   "cell_type": "code",
   "execution_count": 7,
   "id": "ca8fc0f4",
   "metadata": {},
   "outputs": [
    {
     "name": "stderr",
     "output_type": "stream",
     "text": [
      "100%|██████████████████████████████████████████████████████████████████████████████| 2747/2747 [01:10<00:00, 39.18it/s]"
     ]
    },
    {
     "name": "stdout",
     "output_type": "stream",
     "text": [
      "0-10% missing data      139\n",
      "10-50% missing data     374\n",
      "50-80% missing data     136\n",
      "80-100% missing data    124\n",
      "dtype: int64\n"
     ]
    },
    {
     "name": "stderr",
     "output_type": "stream",
     "text": [
      "\n"
     ]
    },
    {
     "data": {
      "text/plain": [
       "<AxesSubplot:>"
      ]
     },
     "execution_count": 7,
     "metadata": {},
     "output_type": "execute_result"
    },
    {
     "data": {
      "image/png": "[encoded data removed]",
      "text/plain": [
       "<Figure size 432x288 with 1 Axes>"
      ]
     },
     "metadata": {
      "needs_background": "light"
     },
     "output_type": "display_data"
    }
   ],
   "source": [
    "incompleteness = {}\n",
    "len_complete = 8759\n",
    "for i in tqdm(df['ID'].unique()):\n",
    "    incompleteness[i] = len_complete - df[df['ID']==i].shape[0]\n",
    "incompleteness_serie = pd.Series(incompleteness)\n",
    "undercomplete_rate = (incompleteness_serie[incompleteness_serie>0])/len_complete\n",
    "incomplete_clasif = {}\n",
    "incomplete_clasif['0-10% missing data'] = len(undercomplete_rate[undercomplete_rate <= 0.1])\n",
    "incomplete_clasif['10-50% missing data'] = len(undercomplete_rate[(undercomplete_rate > 0.1) & (undercomplete_rate <= 0.5)])\n",
    "incomplete_clasif['50-80% missing data'] = len(undercomplete_rate[(undercomplete_rate > 0.5) & (undercomplete_rate <= 0.8)])\n",
    "incomplete_clasif['80-100% missing data'] = len(undercomplete_rate[undercomplete_rate > 0.8])\n",
    "incomplete_clasif = pd.Series(incomplete_clasif)\n",
    "print(incomplete_clasif)\n",
    "incomplete_clasif.plot(kind='bar')"
   ]
  },
  {
   "cell_type": "markdown",
   "id": "a95179aa",
   "metadata": {},
   "source": [
    "Constatamos que solo unos pocos contadores tienen una cantidad de medidas incompletas significativas. Para los contadores que están incompletos pero no mucho buscaremos estrategias finas para completarlos (ver script de predicción apartado 2). En cuanto a los contadores que están muy incompletos tendremos que usar estimaciones más groseras ya que no disponemos de registros desde los que inferir las medidas que faltan.\n",
    "\n",
    "Como curiosidad, vemos que hay 4 contadores con incompletitud negativa, es decir, tienen más medidas que una por hora. En concreto estos contadores toman 4 medidas por hora, pero esto no será un problema una vez agrupemos por días las medidas."
   ]
  },
  {
   "cell_type": "code",
   "execution_count": 8,
   "id": "643b692d",
   "metadata": {},
   "outputs": [
    {
     "data": {
      "text/plain": [
       "248    -26197\n",
       "292    -26295\n",
       "545    -26317\n",
       "1416   -26211\n",
       "dtype: int64"
      ]
     },
     "execution_count": 8,
     "metadata": {},
     "output_type": "execute_result"
    }
   ],
   "source": [
    "incompleteness_serie[incompleteness_serie<0]"
   ]
  },
  {
   "cell_type": "markdown",
   "id": "3b28e1af",
   "metadata": {},
   "source": [
    "## Exploración de las series temporales tras la agragación<a name=\"id3\"></a>"
   ]
  },
  {
   "cell_type": "markdown",
   "id": "5556fc6d",
   "metadata": {},
   "source": [
    "Como adelantábamos, dado que se esperan predicciones de consumo diarias y no horarias, en algún momento habrá que agregar las medidas correspondientes a un mismo día y contador. Teniendo en cuenta la exploración hecha hasta ahora hemos agrupado las medidas. Para ver cómo las hemos agrupado ir al apartado 2 del script de predicción.\n",
    "\n",
    "Veamos resultado tras la agregación y examinemos como han quedado las series temporales de consumos diarios en función del tipo de contador (para saber más sobre los tipos de contadores ver apartado 2.3 del script de predicción)."
   ]
  },
  {
   "cell_type": "code",
   "execution_count": 28,
   "id": "fb0ca3a6",
   "metadata": {},
   "outputs": [],
   "source": [
    "delta_df = pd.read_pickle('../data/counters_in_rows_3.pkl')"
   ]
  },
  {
   "cell_type": "code",
   "execution_count": 51,
   "id": "d38b7b7b",
   "metadata": {},
   "outputs": [
    {
     "name": "stderr",
     "output_type": "stream",
     "text": [
      "100%|████████████████████████████████████████████████████████████████████████████| 2747/2747 [00:00<00:00, 3047.89it/s]"
     ]
    },
    {
     "name": "stdout",
     "output_type": "stream",
     "text": [
      "tipo_1: 68\n",
      "tipo_2: 2535\n",
      "tipo_3: 44\n",
      "tipo_0: 100\n"
     ]
    },
    {
     "name": "stderr",
     "output_type": "stream",
     "text": [
      "\n"
     ]
    }
   ],
   "source": [
    "dicc_tipos = {'tipo_1':[], 'tipo_2':[], 'tipo_3':[], 'tipo_0':[]}\n",
    "\n",
    "for i in tqdm(delta_df.columns):\n",
    "    if delta_df[i].sum()==0:\n",
    "        dicc_tipos['tipo_1'].append(i)\n",
    "    elif delta_df[i][delta_df[i].index >= '2020-01-01'].isna().sum()==0:\n",
    "        dicc_tipos['tipo_2'].append(i)\n",
    "    elif delta_df[i][delta_df[i].index <= '2019-02-14'].isna().sum()==0:\n",
    "        dicc_tipos['tipo_3'].append(i)\n",
    "    else:\n",
    "        dicc_tipos['tipo_0'].append(i)\n",
    "\n",
    "dicc_num_tipos = {}\n",
    "for t in dicc_tipos:\n",
    "    dicc_num_tipos[t] =  len(dicc_tipos[t])\n",
    "    print(t+':', len(dicc_tipos[t]))"
   ]
  },
  {
   "cell_type": "markdown",
   "id": "08a646a3",
   "metadata": {},
   "source": [
    "En la siguiente gráfica podemos ver como la mayoría de los contadores pertenecen al **tipo 2**. Esto significa que la mayoría de contadores tienen las medidas completas al menos en Enero de 2020"
   ]
  },
  {
   "cell_type": "code",
   "execution_count": 56,
   "id": "28313b71",
   "metadata": {},
   "outputs": [
    {
     "data": {
      "text/plain": [
       "<AxesSubplot:title={'center':'Tipos de contadores'}, ylabel='None'>"
      ]
     },
     "execution_count": 56,
     "metadata": {},
     "output_type": "execute_result"
    },
    {
     "data": {
      "image/png": "[encoded data removed]",
      "text/plain": [
       "<Figure size 432x288 with 1 Axes>"
      ]
     },
     "metadata": {},
     "output_type": "display_data"
    }
   ],
   "source": [
    "pd.Series(dicc_num_tipos).plot(kind='pie', title='Tipos de contadores')"
   ]
  },
  {
   "cell_type": "markdown",
   "id": "e2dd0823",
   "metadata": {},
   "source": [
    "**Tipo 1:** Contadores cuyas todas medidas sean 0"
   ]
  },
  {
   "cell_type": "code",
   "execution_count": 29,
   "id": "c716f302",
   "metadata": {},
   "outputs": [
    {
     "data": {
      "text/plain": [
       "<AxesSubplot:>"
      ]
     },
     "execution_count": 29,
     "metadata": {},
     "output_type": "execute_result"
    },
    {
     "data": {
      "image/png": "[encoded data removed]",
      "text/plain": [
       "<Figure size 432x288 with 1 Axes>"
      ]
     },
     "metadata": {
      "needs_background": "light"
     },
     "output_type": "display_data"
    }
   ],
   "source": [
    "delta_df[dicc_tipos['tipo_1'][0]].plot()"
   ]
  },
  {
   "cell_type": "markdown",
   "id": "538a36f2",
   "metadata": {},
   "source": [
    "**Tipo 2:** Contadores completos o al menos completos en Enero de 2020."
   ]
  },
  {
   "cell_type": "code",
   "execution_count": 30,
   "id": "e7750e1e",
   "metadata": {},
   "outputs": [
    {
     "data": {
      "text/plain": [
       "<AxesSubplot:>"
      ]
     },
     "execution_count": 30,
     "metadata": {},
     "output_type": "execute_result"
    },
    {
     "data": {
      "image/png": "[encoded data removed]",
      "text/plain": [
       "<Figure size 432x288 with 1 Axes>"
      ]
     },
     "metadata": {
      "needs_background": "light"
     },
     "output_type": "display_data"
    }
   ],
   "source": [
    "delta_df[dicc_tipos['tipo_2'][0]].plot()"
   ]
  },
  {
   "cell_type": "markdown",
   "id": "2a8a4565",
   "metadata": {},
   "source": [
    "**Tipo 3:** Contadores con Febrero de 2019 completo pero Enero de 2020 incompleto"
   ]
  },
  {
   "cell_type": "code",
   "execution_count": 38,
   "id": "3f837777",
   "metadata": {},
   "outputs": [
    {
     "data": {
      "text/plain": [
       "<AxesSubplot:>"
      ]
     },
     "execution_count": 38,
     "metadata": {},
     "output_type": "execute_result"
    },
    {
     "data": {
      "image/png": "[encoded data removed]",
      "text/plain": [
       "<Figure size 432x288 with 1 Axes>"
      ]
     },
     "metadata": {
      "needs_background": "light"
     },
     "output_type": "display_data"
    }
   ],
   "source": [
    "delta_df[dicc_tipos['tipo_3'][42]].plot()"
   ]
  },
  {
   "cell_type": "markdown",
   "id": "8ad8ba4d",
   "metadata": {},
   "source": [
    "**Tipo 4:** Contadores que ni Febrero de 2019 ni Enero de 2020 están completos"
   ]
  },
  {
   "cell_type": "code",
   "execution_count": 45,
   "id": "db154494",
   "metadata": {},
   "outputs": [
    {
     "data": {
      "text/plain": [
       "<AxesSubplot:>"
      ]
     },
     "execution_count": 45,
     "metadata": {},
     "output_type": "execute_result"
    },
    {
     "data": {
      "image/png": "[encoded data removed]",
      "text/plain": [
       "<Figure size 432x288 with 1 Axes>"
      ]
     },
     "metadata": {
      "needs_background": "light"
     },
     "output_type": "display_data"
    }
   ],
   "source": [
    "delta_df[dicc_tipos['tipo_0'][4]].plot()"
   ]
  },
  {
   "cell_type": "markdown",
   "id": "8d56fa59",
   "metadata": {},
   "source": [
    "# Script de pruebas<a name=\"indice_pruebas\"></a>"
   ]
  },
  {
   "cell_type": "markdown",
   "id": "02b288ed",
   "metadata": {},
   "source": [
    "### Índice  script de pruebas\n",
    "1. [Biblioteca Prophet para series temporales](#id21)\n",
    "   \n",
    "2. [Modelo XGBoost con todos los contadores](#id22)\n",
    "\n",
    "3. [Series temporales semanales para la predicción semanal](#id23)\n",
    "\n",
    "4. [Alternativas a XGBoost](#id24)"
   ]
  },
  {
   "cell_type": "markdown",
   "id": "b0c68f41",
   "metadata": {},
   "source": [
    "El propósito de esta sección es explicar algunas de las principales pruebas que hemos hecho y cómo las hemos llevado a cabo. Como nos extenderíamos demasiado si explicamos todas y cada una de las alternativas que hemos explorado nos detendremos a explicar las que consideramos que eran más prometedoras pero que al final hemos descartado porque hemos obtenido mejores resultados con otros métodos. Son las 4 siguientes:\n",
    "\n",
    "- Biblioteca Prophet para series temporales\n",
    "- Modelo XGBoost con todos los contadores\n",
    "- Series temporales semanales para la predicción semanal\n",
    "- Alternativas a XGBoost (Gradient Boosting de scikit-learn, CatBoost, LSTM y regresiones Ridge y Lasso)"
   ]
  },
  {
   "cell_type": "markdown",
   "id": "93398377",
   "metadata": {},
   "source": [
    "En esta sección hemos incluido poco código ya que cada prueba de las mencionadas constituye un notebook completo con un preprocesado particular de los datos para adaptarlo a esa determinada prueba etc. Todos estos notebooks están en el repositorio https://github.com/sgavela/water_footprint que haremos público tan pronto como acabe la competición. No obstante, sí que incluimos las piezas más destacadas del código de cada prueba."
   ]
  },
  {
   "cell_type": "markdown",
   "id": "ab88546a",
   "metadata": {},
   "source": [
    "Antes de continuar es necesario explicar cual ha sido nuestra metodología para probar las distintas estrategias. Sencillamente tomábamos como conjunto de test las dos últimas semanas de Enero y las sacábamos del conjunto de entrenamiento y computábamos para nuestros resultado la misma métrica que se va a usar para evaluarnos en las predicciones de las dos primeras semanas de Febrero de 2020.\n",
    "\n",
    "Bien es cierto que hay una pequeña trampa, y es que algunos de los valores faltantes los hemos completado nosotros mismos y por tanto a veces estábamos tratando de predecir consumos que nosotros mismos habíamos completado (y obviamente los habíamos completado siguiendo las mismas normas en train y test), por lo que los resultados de nuestros test estaban algo adulterados y éramos conscientes de que las métricas iban a empeorar cuando intentásemos predecir consumos desconocidos."
   ]
  },
  {
   "cell_type": "markdown",
   "id": "4d00166c",
   "metadata": {},
   "source": [
    "### Biblioteca Prophet para series temporales<a name=\"id21\"></a>"
   ]
  },
  {
   "cell_type": "markdown",
   "id": "bd554f3c",
   "metadata": {},
   "source": [
    "Teníamos claro que una de las alternativas que había que probar era usar modelos enfocados a series temporales. En este punto nos debatimos entre la biblioteca Prophet de Facebook y los modelos AutoARIMA. Ambos son modelos ampliamente utilizados para predicción de series temporales. Tras probar ambos nos decantamos por Auto ARIMA porque ofreció mejores métricas. En cuanto a la implementación es muy similar a la implementación de AutoARIMA del apartado 4.1 del script de predicción: para cada contador adaptamos la Serie de pandas al formato que requiere Prophet, entrenamos el modelo y predecimos."
   ]
  },
  {
   "cell_type": "code",
   "execution_count": null,
   "id": "fa814bf8",
   "metadata": {},
   "outputs": [],
   "source": [
    "results_dict = {}\n",
    "for i in tqdm(train['ID'].unique()):\n",
    "    one_counter_train = train_and_test[train_and_test['ID']==i]\n",
    "    one_counter_train.drop('ID', axis=1, inplace=True)\n",
    "    one_counter_train.rename(columns = {'DATE':'ds', 'DELTA':'y'}, inplace = True)\n",
    "    model = Prophet(yearly_seasonality=False, daily_seasonality=False)\n",
    "    model.fit(one_counter_train)\n",
    "    future = model.make_future_dataframe(periods=14)\n",
    "    forecast = model.predict(future)\n",
    "    results_dict[i] = forecast['yhat'].tail(14)"
   ]
  },
  {
   "cell_type": "markdown",
   "id": "65d9a51a",
   "metadata": {},
   "source": [
    "### Modelo XGBoost con todos los contadores<a name=\"id22\"></a>"
   ]
  },
  {
   "cell_type": "markdown",
   "id": "26ce6a3f",
   "metadata": {},
   "source": [
    "Uno de los modelos que finalmente hemos usado ha sido XGBoost. Concretamente hemos entrenado un modelo XGBoost para cada contador con los datos únicamente de ese contador. Pero esta no ha sido la única alternativa que hemos barajado. De hecho, en la entrega de la fase local optamos por un único modelo XGBoost que se entrenaba con los datos de todos los contadores a la vez. \n",
    "\n",
    "Para ello, además de las variables temporales y climatológicas que están detalladas en el apartado 4.2 del script de predicción, incluíamos algunas variables propias de cada contador como el ID, el consumo medio o la varianza del consumo. Al final y a la vista de nuestros resultados, nos decantamos por XGBoosts individuales para los contadores. Aún así el XGBoost global nos permitió superar la fase local a tan solo 700 puntos de error del primer clasificado por lo que fue una alternativa que nos costó descartar.\n",
    "\n",
    "La implementación es similar al XGBoost del apartado 4.2 del script de predicción pero incluyendo las variables que distinguían los contadores entre sí y sin necesidad de un bucle que itere sobre los índices de los contadores ya que se entrena un único modelo."
   ]
  },
  {
   "cell_type": "code",
   "execution_count": null,
   "id": "f039482b",
   "metadata": {},
   "outputs": [],
   "source": [
    "ID = []\n",
    "DELTA = []\n",
    "DATE = []\n",
    "MEAN_CONSUMPTION = []\n",
    "VARIANCE_CONSUMPTION = []\n",
    "for i in tqdm(df4.T.columns):\n",
    "    ID += [i for j in range(365)]\n",
    "    DELTA += list(df4.T[i].values)\n",
    "    DATE += all_dates\n",
    "    MEAN_CONSUMPTION += [mean_consumption[i] for j in range(365)]\n",
    "    VARIANCE_CONSUMPTION += [variance_consumption[i] for j in range(365)]"
   ]
  },
  {
   "cell_type": "markdown",
   "id": "9bbdd3f2",
   "metadata": {},
   "source": [
    "### Series temporales para la predicción semanal<a name=\"id23\"></a>"
   ]
  },
  {
   "cell_type": "markdown",
   "id": "7d607e5d",
   "metadata": {},
   "source": [
    "Otra estrategia que barajamos y que tiene bastante lógica fue hacer un modelo independiente para la predicción agregada semanal. Es decir, en lugar de hacer predicciones diarias para los 14 primeros días de febrero y posteriormente sumar los consumos semanales para dar una predicción semanal, directamente agregar los consumos por semanas en la serie temporal y entrenar un modelo distinto. Esta idea aparentemente buena nos dio peores resultados que hacer predicciones diarias. Aunque desconocemos el motivo, suponemos que puede deberse a que así como hay suficientes días para entrenar modelos en la mayoría de los modelos, puede que no haya suficientes semanas completas.\n",
    "\n",
    "En cuanto a la implementación el paso clave aquí fue agregar los consumos por semanas, luego sencillamente probamos AutoARIMA, Prophet y XGBoost (agregando variables como la media de temperatura de esa semana o el número de semana del año en el que nos encontrábamos)."
   ]
  },
  {
   "cell_type": "code",
   "execution_count": null,
   "id": "7449ad22",
   "metadata": {},
   "outputs": [],
   "source": [
    "week_train = week_train.groupby(['YEAR_WEEK','ID']).agg({ \n",
    "                                     'DELTA':sum,\n",
    "                                     'PRECIPITATIONS':np.mean,\n",
    "                                     'MIN_TEMP':min,\n",
    "                                     'MEAN_TEMP':np.mean,\n",
    "                                     'MAX_TEMP':max,\n",
    "                                     'SUN':np.mean,\n",
    "                                     'MEAN_CONSUMPTION':np.mean,\n",
    "                                     'VARIANCE_CONSUMPTION':np.mean}).reset_index()\n",
    "\n",
    "weeks_in_a_year = 52\n",
    "week_train['sin_YEAR_WEEK'] = np.sin(2*np.pi*week_train['YEAR_WEEK']/weeks_in_a_year)\n",
    "week_train['cos_YEAR_WEEK'] = np.cos(2*np.pi*week_train['YEAR_WEEK']/weeks_in_a_year) \n",
    "week_train.head()"
   ]
  },
  {
   "cell_type": "markdown",
   "id": "2d3bdd30",
   "metadata": {},
   "source": [
    "### Alternativas a XGBoost<a name=\"id24\"></a>"
   ]
  },
  {
   "cell_type": "markdown",
   "id": "225287d0",
   "metadata": {},
   "source": [
    "Hasta ahora, además de los modelos para series temporales AutoARIMA y Prophet, únicamente hemos mencionado un modelo de regresión: XGBoost. Por supuesto, no hemos escogido este modelo al azar sino que tanto para el modelo global que presentamos en la primera fase como para los modelos por contadores individuales que estamos presentando en la entrega definitiva, hemos probado diversos modelos de regresión. Entre otros las regresiones Ridge y Lasso, Gradient Boosting (similar a XGBoost pero incluido en scikit-learn), CatBoost (https://catboost.ai/) y LSTMs que implementamos en Tensorflow con una ventana deslizante que iba recorriendo los días de 7 en 7 y trataba de predecir el octavo día (https://www.tensorflow.org/tutorials/structured_data/time_series)."
   ]
  }
 ],
 "metadata": {
  "kernelspec": {
   "display_name": "Python 3 (ipykernel)",
   "language": "python",
   "name": "python3"
  },
  "language_info": {
   "codemirror_mode": {
    "name": "ipython",
    "version": 3
   },
   "file_extension": ".py",
   "mimetype": "text/x-python",
   "name": "python",
   "nbconvert_exporter": "python",
   "pygments_lexer": "ipython3",
   "version": "3.9.7"
  }
 },
 "nbformat": 4,
 "nbformat_minor": 5
}
