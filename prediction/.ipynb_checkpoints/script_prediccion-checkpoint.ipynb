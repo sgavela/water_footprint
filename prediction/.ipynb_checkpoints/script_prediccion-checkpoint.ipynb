{
 "cells": [
  {
   "cell_type": "markdown",
   "id": "c1e12e5a",
   "metadata": {},
   "source": [
    "# Script de predicción "
   ]
  },
  {
   "cell_type": "markdown",
   "id": "8a7287e4",
   "metadata": {},
   "source": [
    "### Índice   \n",
    "1. [Carga de datos](#id1)\n",
    "\n",
    "    1.1 [Valores nulos en los datos](#id11)\n",
    "    \n",
    "    1.2 [Las columnas READINGTHOUSANTH y DELTATHOUSANDTH](#id12)\n",
    "    \n",
    "    1.3 [La columna SAMPLETIME](#id13)\n",
    "    \n",
    "   \n",
    "2. [Procesado de datos: las columnas DELTA y READING](#id2)\n",
    "\n",
    "    2.1 [Agregar los consumos por fechas](#id21)\n",
    "    \n",
    "    2.2 [Completar los consumos faltantes](#id22)\n",
    "    \n",
    "    2.3 [Tipos de contadores según su serie temporal de consumos](#id23)\n",
    "    \n",
    "    2.4 [Tratar outliers en los consumos](#id24)\n",
    "    \n",
    "    "
   ]
  },
  {
   "cell_type": "code",
   "execution_count": 29,
   "id": "c0182916",
   "metadata": {},
   "outputs": [],
   "source": [
    "import pandas as pd\n",
    "from tqdm import tqdm\n",
    "import datetime\n",
    "import math"
   ]
  },
  {
   "cell_type": "markdown",
   "id": "d5a735e3",
   "metadata": {},
   "source": [
    "## Carga de datos<a name=\"id1\"></a>"
   ]
  },
  {
   "cell_type": "markdown",
   "id": "b72cf89e",
   "metadata": {},
   "source": [
    "Cargamos los datos y observamos que tenemos"
   ]
  },
  {
   "cell_type": "code",
   "execution_count": 4,
   "id": "d1ac9ae3",
   "metadata": {},
   "outputs": [
    {
     "data": {
      "text/html": [
       "<div>\n",
       "<style scoped>\n",
       "    .dataframe tbody tr th:only-of-type {\n",
       "        vertical-align: middle;\n",
       "    }\n",
       "\n",
       "    .dataframe tbody tr th {\n",
       "        vertical-align: top;\n",
       "    }\n",
       "\n",
       "    .dataframe thead th {\n",
       "        text-align: right;\n",
       "    }\n",
       "</style>\n",
       "<table border=\"1\" class=\"dataframe\">\n",
       "  <thead>\n",
       "    <tr style=\"text-align: right;\">\n",
       "      <th></th>\n",
       "      <th>ID</th>\n",
       "      <th>SAMPLETIME</th>\n",
       "      <th>READINGINTEGER</th>\n",
       "      <th>READINGTHOUSANDTH</th>\n",
       "      <th>DELTAINTEGER</th>\n",
       "      <th>DELTATHOUSANDTH</th>\n",
       "    </tr>\n",
       "  </thead>\n",
       "  <tbody>\n",
       "    <tr>\n",
       "      <th>0</th>\n",
       "      <td>0</td>\n",
       "      <td>2019-06-13 08:34:09</td>\n",
       "      <td>369320</td>\n",
       "      <td>0.0</td>\n",
       "      <td>17</td>\n",
       "      <td>0.0</td>\n",
       "    </tr>\n",
       "    <tr>\n",
       "      <th>1</th>\n",
       "      <td>0</td>\n",
       "      <td>2019-06-13 17:34:10</td>\n",
       "      <td>369403</td>\n",
       "      <td>0.0</td>\n",
       "      <td>2</td>\n",
       "      <td>0.0</td>\n",
       "    </tr>\n",
       "    <tr>\n",
       "      <th>2</th>\n",
       "      <td>0</td>\n",
       "      <td>2019-06-13 18:34:10</td>\n",
       "      <td>369403</td>\n",
       "      <td>0.0</td>\n",
       "      <td>0</td>\n",
       "      <td>0.0</td>\n",
       "    </tr>\n",
       "    <tr>\n",
       "      <th>3</th>\n",
       "      <td>0</td>\n",
       "      <td>2019-06-13 04:34:10</td>\n",
       "      <td>369284</td>\n",
       "      <td>0.0</td>\n",
       "      <td>1</td>\n",
       "      <td>0.0</td>\n",
       "    </tr>\n",
       "    <tr>\n",
       "      <th>4</th>\n",
       "      <td>0</td>\n",
       "      <td>2019-06-13 14:34:10</td>\n",
       "      <td>369356</td>\n",
       "      <td>0.0</td>\n",
       "      <td>28</td>\n",
       "      <td>0.0</td>\n",
       "    </tr>\n",
       "  </tbody>\n",
       "</table>\n",
       "</div>"
      ],
      "text/plain": [
       "   ID           SAMPLETIME  READINGINTEGER  READINGTHOUSANDTH  DELTAINTEGER  \\\n",
       "0   0  2019-06-13 08:34:09          369320                0.0            17   \n",
       "1   0  2019-06-13 17:34:10          369403                0.0             2   \n",
       "2   0  2019-06-13 18:34:10          369403                0.0             0   \n",
       "3   0  2019-06-13 04:34:10          369284                0.0             1   \n",
       "4   0  2019-06-13 14:34:10          369356                0.0            28   \n",
       "\n",
       "   DELTATHOUSANDTH  \n",
       "0              0.0  \n",
       "1              0.0  \n",
       "2              0.0  \n",
       "3              0.0  \n",
       "4              0.0  "
      ]
     },
     "execution_count": 4,
     "metadata": {},
     "output_type": "execute_result"
    }
   ],
   "source": [
    "df = pd.read_csv('../data/Modelar_UH2022.txt',sep = '|') \n",
    "df.head()"
   ]
  },
  {
   "cell_type": "markdown",
   "id": "db6e53b1",
   "metadata": {},
   "source": [
    "Vemos el tamaño de los datos:"
   ]
  },
  {
   "cell_type": "code",
   "execution_count": 5,
   "id": "df7bdaa3",
   "metadata": {},
   "outputs": [
    {
     "data": {
      "text/plain": [
       "(21404828, 6)"
      ]
     },
     "execution_count": 5,
     "metadata": {},
     "output_type": "execute_result"
    }
   ],
   "source": [
    "df.shape"
   ]
  },
  {
   "cell_type": "markdown",
   "id": "bcd6634c",
   "metadata": {},
   "source": [
    "### Valores nulos en los datos<a name=\"id11\"></a>"
   ]
  },
  {
   "cell_type": "markdown",
   "id": "bebba343",
   "metadata": {},
   "source": [
    "Vemos si hay valores nulos en los datos:"
   ]
  },
  {
   "cell_type": "code",
   "execution_count": 6,
   "id": "8a855c57",
   "metadata": {},
   "outputs": [
    {
     "data": {
      "text/plain": [
       "ID                        0\n",
       "SAMPLETIME                0\n",
       "READINGINTEGER            0\n",
       "READINGTHOUSANDTH    140056\n",
       "DELTAINTEGER              0\n",
       "DELTATHOUSANDTH      140056\n",
       "dtype: int64"
      ]
     },
     "execution_count": 6,
     "metadata": {},
     "output_type": "execute_result"
    }
   ],
   "source": [
    "df.isna().sum()"
   ]
  },
  {
   "cell_type": "markdown",
   "id": "bf36f8ce",
   "metadata": {},
   "source": [
    "Como los valores nulos pertenecen a la parte de las milésimas los despreciamos y los imputamos a 0:"
   ]
  },
  {
   "cell_type": "code",
   "execution_count": 7,
   "id": "af403786",
   "metadata": {},
   "outputs": [],
   "source": [
    "df = df.fillna(0)"
   ]
  },
  {
   "cell_type": "markdown",
   "id": "57de7a4d",
   "metadata": {},
   "source": [
    "### Las columnas READINGTHOUSANDTH y DELTATHOUSANDTH<a name=\"id12\"></a>"
   ]
  },
  {
   "cell_type": "markdown",
   "id": "9137df25",
   "metadata": {},
   "source": [
    "Examinemos las columnas READINGTHOUSANDTH y DELTATHOUSANDTH:"
   ]
  },
  {
   "cell_type": "code",
   "execution_count": 15,
   "id": "6ea7bf57",
   "metadata": {},
   "outputs": [
    {
     "name": "stdout",
     "output_type": "stream",
     "text": [
      "Number READINGTHOUSANTH != 0: 2428718\n",
      "Number DELTATHOUSANTH != 0: 2428718\n",
      "Minimum READINGTHOUSANTH: 0.0\n",
      "Minimum DELTATHOUSANTH: 0.0\n",
      "Maximum READINGTHOUSANTH: 99.0\n",
      "Maximum DELTATHOUSANTH: 99.0\n"
     ]
    }
   ],
   "source": [
    "print('Number READINGTHOUSANTH != 0:',(df['READINGTHOUSANDTH']!=0).sum())\n",
    "print('Number DELTATHOUSANTH != 0:',(df['READINGTHOUSANDTH']!=0).sum())\n",
    "print('Minimum READINGTHOUSANTH:',df['READINGTHOUSANDTH'].min())\n",
    "print('Minimum DELTATHOUSANTH:',df['DELTATHOUSANDTH'].min())\n",
    "print('Maximum READINGTHOUSANTH:',df['READINGTHOUSANDTH'].max())\n",
    "print('Maximum DELTATHOUSANTH:',df['DELTATHOUSANDTH'].max())"
   ]
  },
  {
   "cell_type": "markdown",
   "id": "278fa81e",
   "metadata": {},
   "source": [
    "Aunque el valor máximo para estas columnas es 99, el nombre 'Thousandth' deja claro que estas columnas hacen referencia a las milésimas por lo que dividiremos su valor entre 1000 y se lo agregaremos a la parte de las unidades. No obstante, no creemos que estas dos columnas vayan a tener un gran impacto en las predicciones ya que como máximo estaremos añadiendo 0,099 litros a la medición.\n",
    "\n",
    "Tras agregarlo a las columnas de las unidades nos desharemos tanto de las columnas de las unidades como de las de las milésimas, quedándonos con el agregado:"
   ]
  },
  {
   "cell_type": "code",
   "execution_count": 21,
   "id": "5383b80f",
   "metadata": {},
   "outputs": [
    {
     "data": {
      "text/html": [
       "<div>\n",
       "<style scoped>\n",
       "    .dataframe tbody tr th:only-of-type {\n",
       "        vertical-align: middle;\n",
       "    }\n",
       "\n",
       "    .dataframe tbody tr th {\n",
       "        vertical-align: top;\n",
       "    }\n",
       "\n",
       "    .dataframe thead th {\n",
       "        text-align: right;\n",
       "    }\n",
       "</style>\n",
       "<table border=\"1\" class=\"dataframe\">\n",
       "  <thead>\n",
       "    <tr style=\"text-align: right;\">\n",
       "      <th></th>\n",
       "      <th>ID</th>\n",
       "      <th>SAMPLETIME</th>\n",
       "      <th>DELTA</th>\n",
       "      <th>READING</th>\n",
       "    </tr>\n",
       "  </thead>\n",
       "  <tbody>\n",
       "    <tr>\n",
       "      <th>0</th>\n",
       "      <td>0</td>\n",
       "      <td>2019-06-13 08:34:09</td>\n",
       "      <td>17.0</td>\n",
       "      <td>369320.0</td>\n",
       "    </tr>\n",
       "    <tr>\n",
       "      <th>1</th>\n",
       "      <td>0</td>\n",
       "      <td>2019-06-13 17:34:10</td>\n",
       "      <td>2.0</td>\n",
       "      <td>369403.0</td>\n",
       "    </tr>\n",
       "    <tr>\n",
       "      <th>2</th>\n",
       "      <td>0</td>\n",
       "      <td>2019-06-13 18:34:10</td>\n",
       "      <td>0.0</td>\n",
       "      <td>369403.0</td>\n",
       "    </tr>\n",
       "    <tr>\n",
       "      <th>3</th>\n",
       "      <td>0</td>\n",
       "      <td>2019-06-13 04:34:10</td>\n",
       "      <td>1.0</td>\n",
       "      <td>369284.0</td>\n",
       "    </tr>\n",
       "    <tr>\n",
       "      <th>4</th>\n",
       "      <td>0</td>\n",
       "      <td>2019-06-13 14:34:10</td>\n",
       "      <td>28.0</td>\n",
       "      <td>369356.0</td>\n",
       "    </tr>\n",
       "  </tbody>\n",
       "</table>\n",
       "</div>"
      ],
      "text/plain": [
       "   ID           SAMPLETIME  DELTA   READING\n",
       "0   0  2019-06-13 08:34:09   17.0  369320.0\n",
       "1   0  2019-06-13 17:34:10    2.0  369403.0\n",
       "2   0  2019-06-13 18:34:10    0.0  369403.0\n",
       "3   0  2019-06-13 04:34:10    1.0  369284.0\n",
       "4   0  2019-06-13 14:34:10   28.0  369356.0"
      ]
     },
     "execution_count": 21,
     "metadata": {},
     "output_type": "execute_result"
    }
   ],
   "source": [
    "df['DELTA'] = [j+(i/1000) for (j,i) in zip(df['DELTAINTEGER'].values, df['DELTATHOUSANDTH'].values)]\n",
    "df['READING'] = [j+(i/1000) for (j,i) in zip(df['READINGINTEGER'].values, df['READINGTHOUSANDTH'].values)]\n",
    "df.drop(['READINGINTEGER','READINGTHOUSANDTH','DELTAINTEGER','DELTATHOUSANDTH'], axis=1, inplace=True)\n",
    "df.head()"
   ]
  },
  {
   "cell_type": "markdown",
   "id": "0e7066fe",
   "metadata": {},
   "source": [
    "### La columna SAMPLETIME<a name=\"id13\"></a>"
   ]
  },
  {
   "cell_type": "markdown",
   "id": "da1c8c02",
   "metadata": {},
   "source": [
    "La columna SAMPLETIME hace referencia al día y la hora a la que las medidas READING y DELTA fueron tomadas. Para poder trabajar comodamente con esta columna vamos a convertirla de tipo *string* a tipo *datetime* y a extraer de ella una nueva columna *DATE* en la que solo tendremos la fecha de la medida (sin la hora)."
   ]
  },
  {
   "cell_type": "code",
   "execution_count": 25,
   "id": "9d2306a7",
   "metadata": {},
   "outputs": [],
   "source": [
    "def get_fecha(date):\n",
    "    return date.strftime(\"%Y-%m-%d\")\n",
    "\n",
    "def str2date(string):\n",
    "    return datetime.datetime.strptime(string, '%Y-%m-%d %H:%M:%S')"
   ]
  },
  {
   "cell_type": "code",
   "execution_count": 26,
   "id": "2a85d84e",
   "metadata": {},
   "outputs": [
    {
     "name": "stderr",
     "output_type": "stream",
     "text": [
      "100%|███████████████████████████████████████████████████████████████████| 21404828/21404828 [10:14<00:00, 34829.19it/s]\n",
      "100%|███████████████████████████████████████████████████████████████████| 21404828/21404828 [05:06<00:00, 69813.81it/s]\n"
     ]
    },
    {
     "data": {
      "text/html": [
       "<div>\n",
       "<style scoped>\n",
       "    .dataframe tbody tr th:only-of-type {\n",
       "        vertical-align: middle;\n",
       "    }\n",
       "\n",
       "    .dataframe tbody tr th {\n",
       "        vertical-align: top;\n",
       "    }\n",
       "\n",
       "    .dataframe thead th {\n",
       "        text-align: right;\n",
       "    }\n",
       "</style>\n",
       "<table border=\"1\" class=\"dataframe\">\n",
       "  <thead>\n",
       "    <tr style=\"text-align: right;\">\n",
       "      <th></th>\n",
       "      <th>ID</th>\n",
       "      <th>SAMPLETIME</th>\n",
       "      <th>DELTA</th>\n",
       "      <th>READING</th>\n",
       "      <th>DATE</th>\n",
       "    </tr>\n",
       "  </thead>\n",
       "  <tbody>\n",
       "    <tr>\n",
       "      <th>0</th>\n",
       "      <td>0</td>\n",
       "      <td>2019-06-13 08:34:09</td>\n",
       "      <td>17.0</td>\n",
       "      <td>369320.0</td>\n",
       "      <td>2019-06-13</td>\n",
       "    </tr>\n",
       "    <tr>\n",
       "      <th>1</th>\n",
       "      <td>0</td>\n",
       "      <td>2019-06-13 17:34:10</td>\n",
       "      <td>2.0</td>\n",
       "      <td>369403.0</td>\n",
       "      <td>2019-06-13</td>\n",
       "    </tr>\n",
       "    <tr>\n",
       "      <th>2</th>\n",
       "      <td>0</td>\n",
       "      <td>2019-06-13 18:34:10</td>\n",
       "      <td>0.0</td>\n",
       "      <td>369403.0</td>\n",
       "      <td>2019-06-13</td>\n",
       "    </tr>\n",
       "    <tr>\n",
       "      <th>3</th>\n",
       "      <td>0</td>\n",
       "      <td>2019-06-13 04:34:10</td>\n",
       "      <td>1.0</td>\n",
       "      <td>369284.0</td>\n",
       "      <td>2019-06-13</td>\n",
       "    </tr>\n",
       "    <tr>\n",
       "      <th>4</th>\n",
       "      <td>0</td>\n",
       "      <td>2019-06-13 14:34:10</td>\n",
       "      <td>28.0</td>\n",
       "      <td>369356.0</td>\n",
       "      <td>2019-06-13</td>\n",
       "    </tr>\n",
       "  </tbody>\n",
       "</table>\n",
       "</div>"
      ],
      "text/plain": [
       "   ID          SAMPLETIME  DELTA   READING        DATE\n",
       "0   0 2019-06-13 08:34:09   17.0  369320.0  2019-06-13\n",
       "1   0 2019-06-13 17:34:10    2.0  369403.0  2019-06-13\n",
       "2   0 2019-06-13 18:34:10    0.0  369403.0  2019-06-13\n",
       "3   0 2019-06-13 04:34:10    1.0  369284.0  2019-06-13\n",
       "4   0 2019-06-13 14:34:10   28.0  369356.0  2019-06-13"
      ]
     },
     "execution_count": 26,
     "metadata": {},
     "output_type": "execute_result"
    }
   ],
   "source": [
    "tqdm.pandas()\n",
    "df['SAMPLETIME'] = df['SAMPLETIME'].progress_apply(str2date)\n",
    "df['DATE'] = df['SAMPLETIME'].progress_apply(get_fecha)\n",
    "df.head()"
   ]
  },
  {
   "cell_type": "markdown",
   "id": "060754f6",
   "metadata": {},
   "source": [
    "Antes de continuar ordenamos el dataframe por *ID* y *SAMPLETIME* para que sea más interpretable que si está desordenado:"
   ]
  },
  {
   "cell_type": "code",
   "execution_count": 27,
   "id": "a97bad7e",
   "metadata": {},
   "outputs": [],
   "source": [
    "df = df.sort_values(['ID','SAMPLETIME']).reset_index(drop=True)"
   ]
  },
  {
   "cell_type": "markdown",
   "id": "d03fa6ad",
   "metadata": {},
   "source": [
    "## Procesado de datos: las columnas DELTA y READING<a name=\"id2\"></a>"
   ]
  },
  {
   "cell_type": "markdown",
   "id": "2a0a9292",
   "metadata": {},
   "source": [
    "Antes de empezar con el tratamiento de las columnas DELTA y READING hay que resaltar que la mayoría de las decisiones que vamos a tomar en este apartado están justificadas por las conclusiones obtenidas en el script de exploración por lo que no nos detendremos a explicar como hemos llegado a ellas (para ello mejor ver el script de exploración)."
   ]
  },
  {
   "cell_type": "markdown",
   "id": "561c41ee",
   "metadata": {},
   "source": [
    "En primer lugar vamos a definir una función que dadas dos fechas nos devuelva una lista de todas las fechas intermedias. Está función será una utilidad que emplearemos múltiples veces a lo largo de este notebook."
   ]
  },
  {
   "cell_type": "code",
   "execution_count": 31,
   "id": "d584f724",
   "metadata": {},
   "outputs": [],
   "source": [
    "'''\n",
    "given a start date in datetime format \"start_date\" and an \"end_date\" returns a list of strings with the dates from\n",
    "\"start_date\" to \"end_date\".\n",
    "\n",
    "Example:\n",
    "\n",
    "start_date = datetime.date(2019, 9 , 30)\n",
    "end_date = datetime.date(2019, 10, 7)\n",
    "get_date_range(start_date, end_date)\n",
    "'''\n",
    "def get_date_range(start_date, end_date):\n",
    "    number_of_days = (end_date-start_date).days\n",
    "    return [(start_date + datetime.timedelta(days = day)).isoformat() for day in range(number_of_days+1)]"
   ]
  },
  {
   "cell_type": "markdown",
   "id": "dcb9687a",
   "metadata": {},
   "source": [
    "### Agregar los consumos por fechas<a name=\"id21\"></a>"
   ]
  },
  {
   "cell_type": "markdown",
   "id": "6344b6ef",
   "metadata": {},
   "source": [
    "En este punto el primer paso claro a dar es agregar por fecha los consumos. No obstante nos encontramos con un serio problema: faltan muchas medidas. Para solventar esto vamos a hacer uso de las dos columnas *DELTA* y *READING*. En un principio si todos los datos están correctos consideramos que READING es más fiable. De no ser así, recurrimos a DELTA para tratar de completar los datos. Seguiremos el siguiente algoritmo:\n",
    "\n",
    "- IF no hay ninguna medida para un día:\n",
    "    * De momento lo dejamos como **NONE** y lo completaremos más adelante\n",
    "- IF hay 24 medidas, es decir, está completo:\n",
    "    * IF hay 24 medidas para el día anterior:\n",
    "        + Tomamos $max(READING_{actual})-max(READING_{anterior})$ \n",
    "    * IF no hay 24 medidas para el día anterior, es decir, está incompleto:\n",
    "        + Tomamos $sum(DELTA_{actual})$\n",
    "- IF no hay 24 medidas, es decir, está incompleto\n",
    "    * Tomamos $24/N_{medidas}*sum(DELTA_{actual})$, es decir, calculamos el promedio de las medidas que haya y lo múltiplicamos por 24 (como si hubiese 24 medidas)."
   ]
  },
  {
   "cell_type": "code",
   "execution_count": 32,
   "id": "6ffc9dd9",
   "metadata": {},
   "outputs": [
    {
     "name": "stderr",
     "output_type": "stream",
     "text": [
      "100%|██████████████████████████████████████████████████████████████████████████████| 2747/2747 [02:17<00:00, 19.91it/s]\n"
     ]
    }
   ],
   "source": [
    "start_date = datetime.date(2019, 2 , 1)\n",
    "end_date = datetime.date(2020, 1, 31)\n",
    "complete_year = get_date_range(start_date, end_date)\n",
    "\n",
    "delta_df = pd.DataFrame(columns=df['ID'].unique(), index =complete_year)\n",
    "\n",
    "#primero rellenamos la primera columna\n",
    "date = complete_year[0]\n",
    "for i in tqdm(df['ID'].unique()):\n",
    "    one_counter = df[df['ID']==i]\n",
    "    # si no hay ninguna medida\n",
    "    if len(one_counter[one_counter['DATE']==date]) == 0:\n",
    "        delta_df[i][date] = None\n",
    "    # si el contador está completo para ese dia\n",
    "    elif len(one_counter[one_counter['DATE']==date]) >= 24:\n",
    "        delta_df[i][date] = one_counter[one_counter['DATE']==date]['DELTA'].sum()\n",
    "    # si el contador no está completo para ese dia\n",
    "    else:\n",
    "        delta_df[i][date] = (24/len(one_counter[one_counter['DATE']==date])) * \\\n",
    "                         one_counter[one_counter['DATE']==date]['DELTA'].sum()"
   ]
  },
  {
   "cell_type": "code",
   "execution_count": 33,
   "id": "510caf4c",
   "metadata": {},
   "outputs": [
    {
     "name": "stderr",
     "output_type": "stream",
     "text": [
      "100%|████████████████████████████████████████████████████████████████████████████| 2747/2747 [2:07:09<00:00,  2.78s/it]\n"
     ]
    }
   ],
   "source": [
    "for i in tqdm(df['ID'].unique()):\n",
    "    one_counter = df[df['ID']==i]\n",
    "    for j in range(1, len(complete_year)):\n",
    "        date = complete_year[j]\n",
    "        # si no hay ninguna medida\n",
    "        if len(one_counter[one_counter['DATE']==date]) == 0:\n",
    "            delta_df[i][date] = None\n",
    "        # si el contador está completo para ese dia\n",
    "        elif len(one_counter[one_counter['DATE']==date]) >= 24:\n",
    "            # si el contador está completo para el dia anterior\n",
    "            if len(one_counter[one_counter['DATE']==complete_year[j-1]]) >= 24:\n",
    "                delta_df[i][date] = one_counter[one_counter['DATE']==complete_year[j]]['READING'].max() - \\\n",
    "                                    one_counter[one_counter['DATE']==complete_year[j-1]]['READING'].max()\n",
    "            # si el contador no está completo para el dia anterior\n",
    "            else:\n",
    "                delta_df[i][date] = one_counter[one_counter['DATE']==date]['DELTA'].sum()\n",
    "        # si el contador no está completo para ese dia\n",
    "        else:\n",
    "            delta_df[i][date] = (24/len(one_counter[one_counter['DATE']==date])) * \\\n",
    "                             one_counter[one_counter['DATE']==date]['DELTA'].sum()"
   ]
  },
  {
   "cell_type": "markdown",
   "id": "85eeb533",
   "metadata": {},
   "source": [
    "Tras aplicar este algoritmo nos quedamos con un dataframe en el que hemos completado todos los días para los que había al menos 1 medida. Sin embargo, los días para los que no había ninguna medida siguen siendo **NONE**. Por lo que necesitaremos otras estrategias para completarlos."
   ]
  },
  {
   "cell_type": "markdown",
   "id": "98c31f57",
   "metadata": {},
   "source": [
    "### Completar medidas faltantes<a name=\"id22\"></a>"
   ]
  },
  {
   "cell_type": "markdown",
   "id": "5735ce35",
   "metadata": {},
   "source": [
    "Empezaremos por completar los **NONE** comprendidos entre dos días para los cuales sí se tienen medidas, es decir, que no están ni al principio ni al final de la serie temporal. Para ello tomaremos la última medida *READING* del día en el que empieza la secuencia de **NONE** y la primera medida *READING* del día que termina la secuencia. Si restamos estas dos medidas obtendremos el consumo de agua total durante los días sin medidas, es decir, durante la secuencia de **NONE**. Para interpolar entre estas dos medidas dividiremos este consumo total entre el número de días sin medidas."
   ]
  },
  {
   "cell_type": "code",
   "execution_count": 34,
   "id": "427ed04e",
   "metadata": {},
   "outputs": [],
   "source": [
    "delta_df.to_pickle('../data/counters_in_rows_2.pkl')"
   ]
  },
  {
   "cell_type": "code",
   "execution_count": 116,
   "id": "8248037b",
   "metadata": {},
   "outputs": [],
   "source": [
    "delta_df2 = pd.read_pickle('../data/counters_in_rows_2.pkl')"
   ]
  },
  {
   "cell_type": "code",
   "execution_count": 112,
   "id": "afd94eb0",
   "metadata": {},
   "outputs": [],
   "source": [
    "def complete_huecos(deltas, readings):\n",
    "    consecutive_nones = 0\n",
    "    last_date_not_none = None\n",
    "    none_dates = []\n",
    "    for date in deltas.index:\n",
    "        if deltas[date] == None:\n",
    "            consecutive_nones += 1\n",
    "            none_dates.append(date)\n",
    "        elif deltas[date] != None:\n",
    "            if consecutive_nones > 0:\n",
    "                begin = readings[readings['DATE']==last_date_not_none]['READING'].max()\n",
    "                end = readings[readings['DATE']==date]['READING'].min()\n",
    "                for date_2 in none_dates:\n",
    "                    deltas[date_2] = (end-begin)/consecutive_nones\n",
    "            consecutive_nones = 0\n",
    "            last_date_not_none = date  \n",
    "            none_dates = []\n",
    "    return deltas"
   ]
  },
  {
   "cell_type": "code",
   "execution_count": 113,
   "id": "45ae2f8d",
   "metadata": {},
   "outputs": [
    {
     "name": "stderr",
     "output_type": "stream",
     "text": [
      "100%|██████████████████████████████████████████████████████████████████████████████| 2747/2747 [17:44<00:00,  2.58it/s]\n"
     ]
    }
   ],
   "source": [
    "for i in tqdm(df['ID'].unique()): \n",
    "    delta_df[i] = complete_huecos(delta_df[i], df[df['ID']==i][['DATE', 'READING']])"
   ]
  },
  {
   "cell_type": "markdown",
   "id": "8bbe393f",
   "metadata": {},
   "source": [
    "### Tipos de contadores según su serie temporal de consumos<a name=\"id23\"></a>"
   ]
  },
  {
   "cell_type": "markdown",
   "id": "9e0e890a",
   "metadata": {},
   "source": [
    "Tras este procesado tenemos tres tipos de contadores:\n",
    "- Contadores completos\n",
    "- Contadores a los que les faltan medidas al principio\n",
    "- Contadores a los que les faltan medidas al final\n",
    "\n",
    "Vamos a dividir de manera más formal los contadores en tipos según su serie temporal de consumos para los cuales seguiremos distintas estrategias de predicción:\n",
    "- **Tipo 1:** Contadores cuyas medidas sean todas 0.\n",
    "- **Tipo 2:** Contadores completos al menos en Enero de 2020 no pertenecientes al Tipo 1.\n",
    "- **Tipo 3:** Contadores sin medidas en Noviembre, Diciembre de 2019 y Enero de 2020 pero con medidas en Febrero de 2019 no pertenecientes al Tipo 1.\n",
    "- **Tipo 0:** Contadores no pertencientes a ninguno de los anteriores tipos."
   ]
  },
  {
   "cell_type": "code",
   "execution_count": null,
   "id": "8b2fcfa7",
   "metadata": {},
   "outputs": [],
   "source": []
  },
  {
   "cell_type": "code",
   "execution_count": null,
   "id": "eb197904",
   "metadata": {},
   "outputs": [],
   "source": []
  },
  {
   "cell_type": "code",
   "execution_count": null,
   "id": "9e3b08fc",
   "metadata": {},
   "outputs": [],
   "source": []
  },
  {
   "cell_type": "code",
   "execution_count": null,
   "id": "a8296150",
   "metadata": {},
   "outputs": [],
   "source": []
  },
  {
   "cell_type": "code",
   "execution_count": null,
   "id": "71773d2c",
   "metadata": {},
   "outputs": [],
   "source": []
  }
 ],
 "metadata": {
  "kernelspec": {
   "display_name": "Python 3 (ipykernel)",
   "language": "python",
   "name": "python3"
  },
  "language_info": {
   "codemirror_mode": {
    "name": "ipython",
    "version": 3
   },
   "file_extension": ".py",
   "mimetype": "text/x-python",
   "name": "python",
   "nbconvert_exporter": "python",
   "pygments_lexer": "ipython3",
   "version": "3.9.7"
  }
 },
 "nbformat": 4,
 "nbformat_minor": 5
}
