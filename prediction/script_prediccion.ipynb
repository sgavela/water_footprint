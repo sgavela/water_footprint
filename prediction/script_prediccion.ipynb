{
 "cells": [
  {
   "cell_type": "markdown",
   "id": "c8bff68f",
   "metadata": {},
   "source": [
    "# Script de predicción "
   ]
  },
  {
   "cell_type": "markdown",
   "id": "d7a97daa",
   "metadata": {},
   "source": [
    "### Índice   \n",
    "1. [Carga de datos](#id1)\n",
    "\n",
    "    1.1 [Valores nulos en los datos](#id11)\n",
    "    \n",
    "    1.2 [Las columnas READINGTHOUSANTH y DELTATHOUSANDTH](#id12)\n",
    "    \n",
    "    1.3 [La columna SAMPLETIME](#id13)\n",
    "    \n",
    "   \n",
    "2. [Procesado de datos: las columnas DELTA y READING](#id2)\n",
    "\n",
    "    2.1 [Agregar los consumos por fechas](#id21)\n",
    "    \n",
    "    2.2 [Completar los consumos faltantes](#id22)\n",
    "    \n",
    "    2.3 [Tipos de contadores según su serie temporal de consumos](#id23)\n",
    "    \n",
    "    2.4 [Tratar outliers en los consumos y medidas negativas](#id24)\n",
    "    \n",
    "    \n",
    "3. [Predicciones contadores tipos 0, 1 y 3](#id3)\n",
    "\n",
    "    3.1 [Tipo 0](#id31)\n",
    "    \n",
    "    3.2 [Tipo 1](#id32)\n",
    "    \n",
    "    3.3 [Tipo 3](#id33)\n",
    "    \n",
    "    3.4 [Tipo 2](#id34)\n",
    "    \n",
    "    \n",
    "4. [Predicciones contadores tipo 2](#id4)\n",
    "    \n",
    "    \n",
    "5. [Postprocesado](#id5)"
   ]
  },
  {
   "cell_type": "code",
   "execution_count": 401,
   "id": "7c0f7bdb",
   "metadata": {},
   "outputs": [],
   "source": [
    "import pandas as pd\n",
    "import numpy as np\n",
    "from tqdm import tqdm\n",
    "import datetime\n",
    "import math\n",
    "\n",
    "from pmdarima.arima import auto_arima"
   ]
  },
  {
   "cell_type": "markdown",
   "id": "27a541e3",
   "metadata": {},
   "source": [
    "## Carga de datos<a name=\"id1\"></a>"
   ]
  },
  {
   "cell_type": "markdown",
   "id": "44608d27",
   "metadata": {},
   "source": [
    "Cargamos los datos y observamos que tenemos"
   ]
  },
  {
   "cell_type": "code",
   "execution_count": 4,
   "id": "3b322a7b",
   "metadata": {},
   "outputs": [
    {
     "data": {
      "text/html": [
       "<div>\n",
       "<style scoped>\n",
       "    .dataframe tbody tr th:only-of-type {\n",
       "        vertical-align: middle;\n",
       "    }\n",
       "\n",
       "    .dataframe tbody tr th {\n",
       "        vertical-align: top;\n",
       "    }\n",
       "\n",
       "    .dataframe thead th {\n",
       "        text-align: right;\n",
       "    }\n",
       "</style>\n",
       "<table border=\"1\" class=\"dataframe\">\n",
       "  <thead>\n",
       "    <tr style=\"text-align: right;\">\n",
       "      <th></th>\n",
       "      <th>ID</th>\n",
       "      <th>SAMPLETIME</th>\n",
       "      <th>READINGINTEGER</th>\n",
       "      <th>READINGTHOUSANDTH</th>\n",
       "      <th>DELTAINTEGER</th>\n",
       "      <th>DELTATHOUSANDTH</th>\n",
       "    </tr>\n",
       "  </thead>\n",
       "  <tbody>\n",
       "    <tr>\n",
       "      <th>0</th>\n",
       "      <td>0</td>\n",
       "      <td>2019-06-13 08:34:09</td>\n",
       "      <td>369320</td>\n",
       "      <td>0.0</td>\n",
       "      <td>17</td>\n",
       "      <td>0.0</td>\n",
       "    </tr>\n",
       "    <tr>\n",
       "      <th>1</th>\n",
       "      <td>0</td>\n",
       "      <td>2019-06-13 17:34:10</td>\n",
       "      <td>369403</td>\n",
       "      <td>0.0</td>\n",
       "      <td>2</td>\n",
       "      <td>0.0</td>\n",
       "    </tr>\n",
       "    <tr>\n",
       "      <th>2</th>\n",
       "      <td>0</td>\n",
       "      <td>2019-06-13 18:34:10</td>\n",
       "      <td>369403</td>\n",
       "      <td>0.0</td>\n",
       "      <td>0</td>\n",
       "      <td>0.0</td>\n",
       "    </tr>\n",
       "    <tr>\n",
       "      <th>3</th>\n",
       "      <td>0</td>\n",
       "      <td>2019-06-13 04:34:10</td>\n",
       "      <td>369284</td>\n",
       "      <td>0.0</td>\n",
       "      <td>1</td>\n",
       "      <td>0.0</td>\n",
       "    </tr>\n",
       "    <tr>\n",
       "      <th>4</th>\n",
       "      <td>0</td>\n",
       "      <td>2019-06-13 14:34:10</td>\n",
       "      <td>369356</td>\n",
       "      <td>0.0</td>\n",
       "      <td>28</td>\n",
       "      <td>0.0</td>\n",
       "    </tr>\n",
       "  </tbody>\n",
       "</table>\n",
       "</div>"
      ],
      "text/plain": [
       "   ID           SAMPLETIME  READINGINTEGER  READINGTHOUSANDTH  DELTAINTEGER  \\\n",
       "0   0  2019-06-13 08:34:09          369320                0.0            17   \n",
       "1   0  2019-06-13 17:34:10          369403                0.0             2   \n",
       "2   0  2019-06-13 18:34:10          369403                0.0             0   \n",
       "3   0  2019-06-13 04:34:10          369284                0.0             1   \n",
       "4   0  2019-06-13 14:34:10          369356                0.0            28   \n",
       "\n",
       "   DELTATHOUSANDTH  \n",
       "0              0.0  \n",
       "1              0.0  \n",
       "2              0.0  \n",
       "3              0.0  \n",
       "4              0.0  "
      ]
     },
     "execution_count": 4,
     "metadata": {},
     "output_type": "execute_result"
    }
   ],
   "source": [
    "df = pd.read_csv('../data/Modelar_UH2022.txt',sep = '|') \n",
    "df.head()"
   ]
  },
  {
   "cell_type": "markdown",
   "id": "49dbada9",
   "metadata": {},
   "source": [
    "Vemos el tamaño de los datos:"
   ]
  },
  {
   "cell_type": "code",
   "execution_count": 5,
   "id": "6e9b1c52",
   "metadata": {},
   "outputs": [
    {
     "data": {
      "text/plain": [
       "(21404828, 6)"
      ]
     },
     "execution_count": 5,
     "metadata": {},
     "output_type": "execute_result"
    }
   ],
   "source": [
    "df.shape"
   ]
  },
  {
   "cell_type": "markdown",
   "id": "e0a9a2cd",
   "metadata": {},
   "source": [
    "### Valores nulos en los datos<a name=\"id11\"></a>"
   ]
  },
  {
   "cell_type": "markdown",
   "id": "e9d9db25",
   "metadata": {},
   "source": [
    "Vemos si hay valores nulos en los datos:"
   ]
  },
  {
   "cell_type": "code",
   "execution_count": 6,
   "id": "0657841b",
   "metadata": {},
   "outputs": [
    {
     "data": {
      "text/plain": [
       "ID                        0\n",
       "SAMPLETIME                0\n",
       "READINGINTEGER            0\n",
       "READINGTHOUSANDTH    140056\n",
       "DELTAINTEGER              0\n",
       "DELTATHOUSANDTH      140056\n",
       "dtype: int64"
      ]
     },
     "execution_count": 6,
     "metadata": {},
     "output_type": "execute_result"
    }
   ],
   "source": [
    "df.isna().sum()"
   ]
  },
  {
   "cell_type": "markdown",
   "id": "2dc00a2f",
   "metadata": {},
   "source": [
    "Como los valores nulos pertenecen a la parte de las milésimas los despreciamos y los imputamos a 0:"
   ]
  },
  {
   "cell_type": "code",
   "execution_count": 7,
   "id": "14c6a27f",
   "metadata": {},
   "outputs": [],
   "source": [
    "df = df.fillna(0)"
   ]
  },
  {
   "cell_type": "markdown",
   "id": "f83f3d84",
   "metadata": {},
   "source": [
    "### Las columnas READINGTHOUSANDTH y DELTATHOUSANDTH<a name=\"id12\"></a>"
   ]
  },
  {
   "cell_type": "markdown",
   "id": "18fdefe9",
   "metadata": {},
   "source": [
    "Examinemos las columnas READINGTHOUSANDTH y DELTATHOUSANDTH:"
   ]
  },
  {
   "cell_type": "code",
   "execution_count": 15,
   "id": "43f5fa08",
   "metadata": {},
   "outputs": [
    {
     "name": "stdout",
     "output_type": "stream",
     "text": [
      "Number READINGTHOUSANTH != 0: 2428718\n",
      "Number DELTATHOUSANTH != 0: 2428718\n",
      "Minimum READINGTHOUSANTH: 0.0\n",
      "Minimum DELTATHOUSANTH: 0.0\n",
      "Maximum READINGTHOUSANTH: 99.0\n",
      "Maximum DELTATHOUSANTH: 99.0\n"
     ]
    }
   ],
   "source": [
    "print('Number READINGTHOUSANTH != 0:',(df['READINGTHOUSANDTH']!=0).sum())\n",
    "print('Number DELTATHOUSANTH != 0:',(df['READINGTHOUSANDTH']!=0).sum())\n",
    "print('Minimum READINGTHOUSANTH:',df['READINGTHOUSANDTH'].min())\n",
    "print('Minimum DELTATHOUSANTH:',df['DELTATHOUSANDTH'].min())\n",
    "print('Maximum READINGTHOUSANTH:',df['READINGTHOUSANDTH'].max())\n",
    "print('Maximum DELTATHOUSANTH:',df['DELTATHOUSANDTH'].max())"
   ]
  },
  {
   "cell_type": "markdown",
   "id": "bfa309f9",
   "metadata": {},
   "source": [
    "Aunque el valor máximo para estas columnas es 99, el nombre 'Thousandth' deja claro que estas columnas hacen referencia a las milésimas por lo que dividiremos su valor entre 1000 y se lo agregaremos a la parte de las unidades. No obstante, no creemos que estas dos columnas vayan a tener un gran impacto en las predicciones ya que como máximo estaremos añadiendo 0,099 litros a la medición.\n",
    "\n",
    "Tras agregarlo a las columnas de las unidades nos desharemos tanto de las columnas de las unidades como de las de las milésimas, quedándonos con el agregado:"
   ]
  },
  {
   "cell_type": "code",
   "execution_count": 21,
   "id": "d10e0fb0",
   "metadata": {},
   "outputs": [
    {
     "data": {
      "text/html": [
       "<div>\n",
       "<style scoped>\n",
       "    .dataframe tbody tr th:only-of-type {\n",
       "        vertical-align: middle;\n",
       "    }\n",
       "\n",
       "    .dataframe tbody tr th {\n",
       "        vertical-align: top;\n",
       "    }\n",
       "\n",
       "    .dataframe thead th {\n",
       "        text-align: right;\n",
       "    }\n",
       "</style>\n",
       "<table border=\"1\" class=\"dataframe\">\n",
       "  <thead>\n",
       "    <tr style=\"text-align: right;\">\n",
       "      <th></th>\n",
       "      <th>ID</th>\n",
       "      <th>SAMPLETIME</th>\n",
       "      <th>DELTA</th>\n",
       "      <th>READING</th>\n",
       "    </tr>\n",
       "  </thead>\n",
       "  <tbody>\n",
       "    <tr>\n",
       "      <th>0</th>\n",
       "      <td>0</td>\n",
       "      <td>2019-06-13 08:34:09</td>\n",
       "      <td>17.0</td>\n",
       "      <td>369320.0</td>\n",
       "    </tr>\n",
       "    <tr>\n",
       "      <th>1</th>\n",
       "      <td>0</td>\n",
       "      <td>2019-06-13 17:34:10</td>\n",
       "      <td>2.0</td>\n",
       "      <td>369403.0</td>\n",
       "    </tr>\n",
       "    <tr>\n",
       "      <th>2</th>\n",
       "      <td>0</td>\n",
       "      <td>2019-06-13 18:34:10</td>\n",
       "      <td>0.0</td>\n",
       "      <td>369403.0</td>\n",
       "    </tr>\n",
       "    <tr>\n",
       "      <th>3</th>\n",
       "      <td>0</td>\n",
       "      <td>2019-06-13 04:34:10</td>\n",
       "      <td>1.0</td>\n",
       "      <td>369284.0</td>\n",
       "    </tr>\n",
       "    <tr>\n",
       "      <th>4</th>\n",
       "      <td>0</td>\n",
       "      <td>2019-06-13 14:34:10</td>\n",
       "      <td>28.0</td>\n",
       "      <td>369356.0</td>\n",
       "    </tr>\n",
       "  </tbody>\n",
       "</table>\n",
       "</div>"
      ],
      "text/plain": [
       "   ID           SAMPLETIME  DELTA   READING\n",
       "0   0  2019-06-13 08:34:09   17.0  369320.0\n",
       "1   0  2019-06-13 17:34:10    2.0  369403.0\n",
       "2   0  2019-06-13 18:34:10    0.0  369403.0\n",
       "3   0  2019-06-13 04:34:10    1.0  369284.0\n",
       "4   0  2019-06-13 14:34:10   28.0  369356.0"
      ]
     },
     "execution_count": 21,
     "metadata": {},
     "output_type": "execute_result"
    }
   ],
   "source": [
    "df['DELTA'] = [j+(i/1000) for (j,i) in zip(df['DELTAINTEGER'].values, df['DELTATHOUSANDTH'].values)]\n",
    "df['READING'] = [j+(i/1000) for (j,i) in zip(df['READINGINTEGER'].values, df['READINGTHOUSANDTH'].values)]\n",
    "df.drop(['READINGINTEGER','READINGTHOUSANDTH','DELTAINTEGER','DELTATHOUSANDTH'], axis=1, inplace=True)\n",
    "df.head()"
   ]
  },
  {
   "cell_type": "markdown",
   "id": "1cfa123e",
   "metadata": {},
   "source": [
    "### La columna SAMPLETIME<a name=\"id13\"></a>"
   ]
  },
  {
   "cell_type": "markdown",
   "id": "8e65ed29",
   "metadata": {},
   "source": [
    "La columna SAMPLETIME hace referencia al día y la hora a la que las medidas READING y DELTA fueron tomadas. Para poder trabajar comodamente con esta columna vamos a convertirla de tipo *string* a tipo *datetime* y a extraer de ella una nueva columna *DATE* en la que solo tendremos la fecha de la medida (sin la hora)."
   ]
  },
  {
   "cell_type": "code",
   "execution_count": 25,
   "id": "ba580c93",
   "metadata": {},
   "outputs": [],
   "source": [
    "def get_fecha(date):\n",
    "    return date.strftime(\"%Y-%m-%d\")\n",
    "\n",
    "def str2date(string):\n",
    "    return datetime.datetime.strptime(string, '%Y-%m-%d %H:%M:%S')"
   ]
  },
  {
   "cell_type": "code",
   "execution_count": 26,
   "id": "2a85d84e",
   "metadata": {},
   "outputs": [
    {
     "name": "stderr",
     "output_type": "stream",
     "text": [
      "100%|███████████████████████████████████████████████████████████████████| 21404828/21404828 [10:14<00:00, 34829.19it/s]\n",
      "100%|███████████████████████████████████████████████████████████████████| 21404828/21404828 [05:06<00:00, 69813.81it/s]\n"
     ]
    },
    {
     "data": {
      "text/html": [
       "<div>\n",
       "<style scoped>\n",
       "    .dataframe tbody tr th:only-of-type {\n",
       "        vertical-align: middle;\n",
       "    }\n",
       "\n",
       "    .dataframe tbody tr th {\n",
       "        vertical-align: top;\n",
       "    }\n",
       "\n",
       "    .dataframe thead th {\n",
       "        text-align: right;\n",
       "    }\n",
       "</style>\n",
       "<table border=\"1\" class=\"dataframe\">\n",
       "  <thead>\n",
       "    <tr style=\"text-align: right;\">\n",
       "      <th></th>\n",
       "      <th>ID</th>\n",
       "      <th>SAMPLETIME</th>\n",
       "      <th>DELTA</th>\n",
       "      <th>READING</th>\n",
       "      <th>DATE</th>\n",
       "    </tr>\n",
       "  </thead>\n",
       "  <tbody>\n",
       "    <tr>\n",
       "      <th>0</th>\n",
       "      <td>0</td>\n",
       "      <td>2019-06-13 08:34:09</td>\n",
       "      <td>17.0</td>\n",
       "      <td>369320.0</td>\n",
       "      <td>2019-06-13</td>\n",
       "    </tr>\n",
       "    <tr>\n",
       "      <th>1</th>\n",
       "      <td>0</td>\n",
       "      <td>2019-06-13 17:34:10</td>\n",
       "      <td>2.0</td>\n",
       "      <td>369403.0</td>\n",
       "      <td>2019-06-13</td>\n",
       "    </tr>\n",
       "    <tr>\n",
       "      <th>2</th>\n",
       "      <td>0</td>\n",
       "      <td>2019-06-13 18:34:10</td>\n",
       "      <td>0.0</td>\n",
       "      <td>369403.0</td>\n",
       "      <td>2019-06-13</td>\n",
       "    </tr>\n",
       "    <tr>\n",
       "      <th>3</th>\n",
       "      <td>0</td>\n",
       "      <td>2019-06-13 04:34:10</td>\n",
       "      <td>1.0</td>\n",
       "      <td>369284.0</td>\n",
       "      <td>2019-06-13</td>\n",
       "    </tr>\n",
       "    <tr>\n",
       "      <th>4</th>\n",
       "      <td>0</td>\n",
       "      <td>2019-06-13 14:34:10</td>\n",
       "      <td>28.0</td>\n",
       "      <td>369356.0</td>\n",
       "      <td>2019-06-13</td>\n",
       "    </tr>\n",
       "  </tbody>\n",
       "</table>\n",
       "</div>"
      ],
      "text/plain": [
       "   ID          SAMPLETIME  DELTA   READING        DATE\n",
       "0   0 2019-06-13 08:34:09   17.0  369320.0  2019-06-13\n",
       "1   0 2019-06-13 17:34:10    2.0  369403.0  2019-06-13\n",
       "2   0 2019-06-13 18:34:10    0.0  369403.0  2019-06-13\n",
       "3   0 2019-06-13 04:34:10    1.0  369284.0  2019-06-13\n",
       "4   0 2019-06-13 14:34:10   28.0  369356.0  2019-06-13"
      ]
     },
     "execution_count": 26,
     "metadata": {},
     "output_type": "execute_result"
    }
   ],
   "source": [
    "tqdm.pandas()\n",
    "df['SAMPLETIME'] = df['SAMPLETIME'].progress_apply(str2date)\n",
    "df['DATE'] = df['SAMPLETIME'].progress_apply(get_fecha)\n",
    "df.head()"
   ]
  },
  {
   "cell_type": "markdown",
   "id": "535f73db",
   "metadata": {},
   "source": [
    "Antes de continuar ordenamos el dataframe por *ID* y *SAMPLETIME* para que sea más interpretable que si está desordenado:"
   ]
  },
  {
   "cell_type": "code",
   "execution_count": 27,
   "id": "a97bad7e",
   "metadata": {},
   "outputs": [],
   "source": [
    "df = df.sort_values(['ID','SAMPLETIME']).reset_index(drop=True)"
   ]
  },
  {
   "cell_type": "markdown",
   "id": "d2a7b3d6",
   "metadata": {},
   "source": [
    "## Procesado de datos: las columnas DELTA y READING<a name=\"id2\"></a>"
   ]
  },
  {
   "cell_type": "markdown",
   "id": "bf24be10",
   "metadata": {},
   "source": [
    "Antes de empezar con el tratamiento de las columnas DELTA y READING hay que resaltar que la mayoría de las decisiones que vamos a tomar en este apartado están justificadas por las conclusiones obtenidas en el script de exploración por lo que no nos detendremos a explicar como hemos llegado a ellas (para ello mejor ver el script de exploración)."
   ]
  },
  {
   "cell_type": "markdown",
   "id": "524079fd",
   "metadata": {},
   "source": [
    "En primer lugar vamos a definir una función que dadas dos fechas nos devuelva una lista de todas las fechas intermedias. Está función será una utilidad que emplearemos múltiples veces a lo largo de este notebook."
   ]
  },
  {
   "cell_type": "code",
   "execution_count": 31,
   "id": "a7f31173",
   "metadata": {},
   "outputs": [],
   "source": [
    "'''\n",
    "given a start date in datetime format \"start_date\" and an \"end_date\" returns a list of strings with the dates from\n",
    "\"start_date\" to \"end_date\".\n",
    "\n",
    "Example:\n",
    "\n",
    "start_date = datetime.date(2019, 9 , 30)\n",
    "end_date = datetime.date(2019, 10, 7)\n",
    "get_date_range(start_date, end_date)\n",
    "'''\n",
    "def get_date_range(start_date, end_date):\n",
    "    number_of_days = (end_date-start_date).days\n",
    "    return [(start_date + datetime.timedelta(days = day)).isoformat() for day in range(number_of_days+1)]"
   ]
  },
  {
   "cell_type": "markdown",
   "id": "20feafdc",
   "metadata": {},
   "source": [
    "### Agregar los consumos por fechas<a name=\"id21\"></a>"
   ]
  },
  {
   "cell_type": "markdown",
   "id": "75300b87",
   "metadata": {},
   "source": [
    "En este punto el primer paso claro a dar es agregar por fecha los consumos. No obstante nos encontramos con un serio problema: faltan muchas medidas. Para solventar esto vamos a hacer uso de las dos columnas *DELTA* y *READING*. En un principio si todos los datos están correctos consideramos que READING es más fiable. De no ser así, recurrimos a DELTA para tratar de completar los datos. Seguiremos el siguiente algoritmo:\n",
    "\n",
    "- IF no hay ninguna medida para un día:\n",
    "    * De momento lo dejamos como **NONE** y lo completaremos más adelante\n",
    "- IF hay 24 medidas, es decir, está completo:\n",
    "    * IF hay 24 medidas para el día anterior:\n",
    "        + Tomamos $max(READING_{actual})-max(READING_{anterior})$ \n",
    "    * IF no hay 24 medidas para el día anterior, es decir, está incompleto:\n",
    "        + Tomamos $sum(DELTA_{actual})$\n",
    "- IF no hay 24 medidas, es decir, está incompleto\n",
    "    * Tomamos $24/N_{medidas}*sum(DELTA_{actual})$, es decir, calculamos el promedio de las medidas que haya y lo múltiplicamos por 24 (como si hubiese 24 medidas)."
   ]
  },
  {
   "cell_type": "code",
   "execution_count": 32,
   "id": "86129972",
   "metadata": {},
   "outputs": [
    {
     "name": "stderr",
     "output_type": "stream",
     "text": [
      "100%|██████████████████████████████████████████████████████████████████████████████| 2747/2747 [02:17<00:00, 19.91it/s]\n"
     ]
    }
   ],
   "source": [
    "start_date = datetime.date(2019, 2 , 1)\n",
    "end_date = datetime.date(2020, 1, 31)\n",
    "complete_year = get_date_range(start_date, end_date)\n",
    "\n",
    "delta_df = pd.DataFrame(columns=df['ID'].unique(), index =complete_year)\n",
    "\n",
    "#primero rellenamos la primera columna\n",
    "date = complete_year[0]\n",
    "for i in tqdm(df['ID'].unique()):\n",
    "    one_counter = df[df['ID']==i]\n",
    "    # si no hay ninguna medida\n",
    "    if len(one_counter[one_counter['DATE']==date]) == 0:\n",
    "        delta_df[i][date] = None\n",
    "    # si el contador está completo para ese dia\n",
    "    elif len(one_counter[one_counter['DATE']==date]) >= 24:\n",
    "        delta_df[i][date] = one_counter[one_counter['DATE']==date]['DELTA'].sum()\n",
    "    # si el contador no está completo para ese dia\n",
    "    else:\n",
    "        delta_df[i][date] = (24/len(one_counter[one_counter['DATE']==date])) * \\\n",
    "                         one_counter[one_counter['DATE']==date]['DELTA'].sum()"
   ]
  },
  {
   "cell_type": "code",
   "execution_count": 33,
   "id": "23d3f8b6",
   "metadata": {},
   "outputs": [
    {
     "name": "stderr",
     "output_type": "stream",
     "text": [
      "100%|████████████████████████████████████████████████████████████████████████████| 2747/2747 [2:07:09<00:00,  2.78s/it]\n"
     ]
    }
   ],
   "source": [
    "for i in tqdm(df['ID'].unique()):\n",
    "    one_counter = df[df['ID']==i]\n",
    "    for j in range(1, len(complete_year)):\n",
    "        date = complete_year[j]\n",
    "        # si no hay ninguna medida\n",
    "        if len(one_counter[one_counter['DATE']==date]) == 0:\n",
    "            delta_df[i][date] = None\n",
    "        # si el contador está completo para ese dia\n",
    "        elif len(one_counter[one_counter['DATE']==date]) >= 24:\n",
    "            # si el contador está completo para el dia anterior\n",
    "            if len(one_counter[one_counter['DATE']==complete_year[j-1]]) >= 24:\n",
    "                delta_df[i][date] = one_counter[one_counter['DATE']==complete_year[j]]['READING'].max() - \\\n",
    "                                    one_counter[one_counter['DATE']==complete_year[j-1]]['READING'].max()\n",
    "            # si el contador no está completo para el dia anterior\n",
    "            else:\n",
    "                delta_df[i][date] = one_counter[one_counter['DATE']==date]['DELTA'].sum()\n",
    "        # si el contador no está completo para ese dia\n",
    "        else:\n",
    "            delta_df[i][date] = (24/len(one_counter[one_counter['DATE']==date])) * \\\n",
    "                             one_counter[one_counter['DATE']==date]['DELTA'].sum()"
   ]
  },
  {
   "cell_type": "markdown",
   "id": "c9d8d924",
   "metadata": {},
   "source": [
    "Tras aplicar este algoritmo nos quedamos con un dataframe en el que hemos completado todos los días para los que había al menos 1 medida. Sin embargo, los días para los que no había ninguna medida siguen siendo **NONE**. Por lo que necesitaremos otras estrategias para completarlos."
   ]
  },
  {
   "cell_type": "markdown",
   "id": "3459dbf0",
   "metadata": {},
   "source": [
    "### Completar medidas faltantes<a name=\"id22\"></a>"
   ]
  },
  {
   "cell_type": "markdown",
   "id": "ac91ae4f",
   "metadata": {},
   "source": [
    "Empezaremos por completar los **NONE** comprendidos entre dos días para los cuales sí se tienen medidas, es decir, que no están ni al principio ni al final de la serie temporal. Para ello tomaremos la última medida *READING* del día en el que empieza la secuencia de **NONE** y la primera medida *READING* del día que termina la secuencia. Si restamos estas dos medidas obtendremos el consumo de agua total durante los días sin medidas, es decir, durante la secuencia de **NONE**. Para interpolar entre estas dos medidas dividiremos este consumo total entre el número de días sin medidas."
   ]
  },
  {
   "cell_type": "code",
   "execution_count": 34,
   "id": "efa63d14",
   "metadata": {},
   "outputs": [],
   "source": [
    "delta_df.to_pickle('../data/counters_in_rows_2.pkl')"
   ]
  },
  {
   "cell_type": "code",
   "execution_count": 112,
   "id": "51f4da31",
   "metadata": {},
   "outputs": [],
   "source": [
    "def complete_huecos(deltas, readings):\n",
    "    consecutive_nones = 0\n",
    "    last_date_not_none = None\n",
    "    none_dates = []\n",
    "    for date in deltas.index:\n",
    "        if deltas[date] == None:\n",
    "            consecutive_nones += 1\n",
    "            none_dates.append(date)\n",
    "        elif deltas[date] != None:\n",
    "            if consecutive_nones > 0:\n",
    "                begin = readings[readings['DATE']==last_date_not_none]['READING'].max()\n",
    "                end = readings[readings['DATE']==date]['READING'].min()\n",
    "                for date_2 in none_dates:\n",
    "                    deltas[date_2] = (end-begin)/consecutive_nones\n",
    "            consecutive_nones = 0\n",
    "            last_date_not_none = date  \n",
    "            none_dates = []\n",
    "    return deltas"
   ]
  },
  {
   "cell_type": "code",
   "execution_count": 113,
   "id": "bd4a7c84",
   "metadata": {},
   "outputs": [
    {
     "name": "stderr",
     "output_type": "stream",
     "text": [
      "100%|██████████████████████████████████████████████████████████████████████████████| 2747/2747 [17:44<00:00,  2.58it/s]\n"
     ]
    }
   ],
   "source": [
    "for i in tqdm(df['ID'].unique()): \n",
    "    delta_df[i] = complete_huecos(delta_df[i], df[df['ID']==i][['DATE', 'READING']])"
   ]
  },
  {
   "cell_type": "markdown",
   "id": "9850d4c1",
   "metadata": {},
   "source": [
    "### Tipos de contadores según su serie temporal de consumos<a name=\"id23\"></a>"
   ]
  },
  {
   "cell_type": "markdown",
   "id": "42419778",
   "metadata": {},
   "source": [
    "Tras este procesado tenemos tres tipos de contadores:\n",
    "- Contadores completos\n",
    "- Contadores a los que les faltan medidas al principio\n",
    "- Contadores a los que les faltan medidas al final\n",
    "- Contadores a los que les faltan medidas al principo y al final\n",
    "\n",
    "Vamos a dividir de manera más formal los contadores en tipos según su serie temporal de consumos:\n",
    "- **Tipo 1:** Contadores cuyas medidas sean todas 0.\n",
    "- **Tipo 2:** Contadores completos al menos en Enero de 2020 no pertenecientes al Tipo 1.\n",
    "- **Tipo 3:** Contadores sin medidas en Noviembre, Diciembre de 2019 y Enero de 2020 pero con medidas en Febrero de 2019 no pertenecientes al Tipo 1.\n",
    "- **Tipo 0:** Contadores no pertencientes a ninguno de los anteriores tipos.\n",
    "\n",
    "Esta división es muy importante ya que dependiendo del tipo del contador se le aplicará una estrategia de predicción u otra. A continuación vamos a fabricar un diccionario en el cual las claves sean los identificadores de los 4 tipos y los valores listas con los IDs pertenecientes a ese tipo:"
   ]
  },
  {
   "cell_type": "code",
   "execution_count": 234,
   "id": "f0e3dd25",
   "metadata": {},
   "outputs": [
    {
     "name": "stderr",
     "output_type": "stream",
     "text": [
      "100%|████████████████████████████████████████████████████████████████████████████| 2747/2747 [00:00<00:00, 3606.97it/s]"
     ]
    },
    {
     "name": "stdout",
     "output_type": "stream",
     "text": [
      "tipo_1: 68\n",
      "tipo_2: 2535\n",
      "tipo_3: 44\n",
      "tipo_0: 100\n"
     ]
    },
    {
     "name": "stderr",
     "output_type": "stream",
     "text": [
      "\n"
     ]
    }
   ],
   "source": [
    "dicc_tipos = {'tipo_1':[], 'tipo_2':[], 'tipo_3':[], 'tipo_0':[]}\n",
    "\n",
    "for i in tqdm(delta_df.columns):\n",
    "    if delta_df[i].sum()==0:\n",
    "        dicc_tipos['tipo_1'].append(i)\n",
    "    elif delta_df[i][delta_df[i].index >= '2020-01-01'].isna().sum()==0:\n",
    "        dicc_tipos['tipo_2'].append(i)\n",
    "    elif delta_df[i][delta_df[i].index <= '2019-02-14'].isna().sum()==0:\n",
    "        dicc_tipos['tipo_3'].append(i)\n",
    "    else:\n",
    "        dicc_tipos['tipo_0'].append(i)\n",
    "        \n",
    "for t in dicc_tipos:\n",
    "    print(t+':', len(dicc_tipos[t]))"
   ]
  },
  {
   "cell_type": "markdown",
   "id": "d171a6d1",
   "metadata": {},
   "source": [
    "### Tratar outliers en los consumos y medidas negativas<a name=\"id24\"></a>"
   ]
  },
  {
   "cell_type": "markdown",
   "id": "714fb462",
   "metadata": {},
   "source": [
    "El propósito de esta sección es tratar los outliers en las series temporales de cada contador. Para ello recorrermos todos los contadores en busca de outliers. Consideraremos un outlier cualquier medida *DELTA* tal que\n",
    "\n",
    "$DELTA > Q_3 + IQR \\\\ ó  \\\\ DELTA < Q_1 - IQR$\n",
    "\n",
    "donde $Q_1$ y $Q_3$ son el primer y tercer cuartil respectivamente y $IQR$ es el rango intercuartílico. Transformaremos estos outliers igualándolos a la media de consumos del contador."
   ]
  },
  {
   "cell_type": "code",
   "execution_count": 312,
   "id": "9604b1b8",
   "metadata": {},
   "outputs": [],
   "source": [
    "delta_df = pd.read_pickle('../data/counters_in_rows_3.pkl')"
   ]
  },
  {
   "cell_type": "code",
   "execution_count": 313,
   "id": "7a81de97",
   "metadata": {},
   "outputs": [],
   "source": [
    "delta_df.fillna(value=np.nan, inplace=True)"
   ]
  },
  {
   "cell_type": "code",
   "execution_count": 314,
   "id": "5586a9f6",
   "metadata": {},
   "outputs": [],
   "source": [
    "def replace_outliers(delta_serie, IQR, Q1, Q3, avg):\n",
    "    values = delta_serie.values\n",
    "    out = []\n",
    "    for delta in values:\n",
    "        if not np.isnan(delta) and (delta < Q1 - 1.5*IQR or delta > Q3 + 1.5*IQR):\n",
    "            out.append(avg)\n",
    "        else:\n",
    "            out.append(delta)\n",
    "    return out"
   ]
  },
  {
   "cell_type": "code",
   "execution_count": 315,
   "id": "23136699",
   "metadata": {},
   "outputs": [
    {
     "name": "stderr",
     "output_type": "stream",
     "text": [
      "100%|█████████████████████████████████████████████████████████████████████████████| 2747/2747 [00:04<00:00, 627.04it/s]\n"
     ]
    }
   ],
   "source": [
    "for i in tqdm(delta_df.columns):\n",
    "    Q1 = np.percentile(delta_df[i][delta_df[i].notna()], 25, method = 'midpoint')\n",
    "    Q3 = np.percentile(delta_df[i][delta_df[i].notna()], 75, method = 'midpoint')\n",
    "    IQR = Q3 - Q1\n",
    "    avg = np.mean(delta_df[i][delta_df[i].notna()])\n",
    "    delta_df[i] = replace_outliers(delta_df[i], IQR, Q1, Q3, avg)"
   ]
  },
  {
   "cell_type": "markdown",
   "id": "ebc44d40",
   "metadata": {},
   "source": [
    "Por otro lado, no tiene ningún sentido que un dato de consumo sea negativo. Si los datos fuesen perfectos esto no pasaría, pero no es el caso y a pesar de los tratamientos que hemos hecho hasta ahora sigue habiendo algunos consumos negativos. Sencillamente transformaremos estos consumos en ceros."
   ]
  },
  {
   "cell_type": "code",
   "execution_count": 336,
   "id": "602b6685",
   "metadata": {},
   "outputs": [],
   "source": [
    "delta_df[delta_df < 0] = 0"
   ]
  },
  {
   "cell_type": "markdown",
   "id": "ebf7d0be",
   "metadata": {},
   "source": [
    "## Predicciones contadores tipos 0, 1 y 3"
   ]
  },
  {
   "cell_type": "markdown",
   "id": "a65f6cf7",
   "metadata": {},
   "source": [
    "El propósito de esta sección es hacer predicciones de consumo para las dos primeras semanas de Febrero de 2020 para cada contador de los tipos 0, 1 y 3. Según el tipo del contador emplearemos estrategias más o menos sofisiticadas. Recordemos cuantos contadores hay de cada tipo:\n",
    "\n",
    "- Tipo 1: 68\n",
    "- Tipo 2: 2535\n",
    "- Tipo 3: 44\n",
    "- Tipo 0: 100\n",
    "\n",
    "Nuestros mayores esfuerzos estarán volcados en los contadores de Tipo 2 que tendrán una sección propia, ya que la inmensa mayoría de contadores son de este tipo y además son los más completos. Para ir recopilando las predicciones nos ayudaremos de un DataFrame *results_df* que iremos completando."
   ]
  },
  {
   "cell_type": "code",
   "execution_count": 368,
   "id": "b55b5d21",
   "metadata": {},
   "outputs": [],
   "source": [
    "start_date = datetime.date(2020, 2 , 1)\n",
    "end_date = datetime.date(2020, 2, 14)\n",
    "prediction_dates = get_date_range(start_date, end_date)\n",
    "\n",
    "results_df = pd.DataFrame(columns = delta_df.columns, index = prediction_dates)"
   ]
  },
  {
   "cell_type": "markdown",
   "id": "9bbd6ae1",
   "metadata": {},
   "source": [
    "### Tipo 0"
   ]
  },
  {
   "cell_type": "markdown",
   "id": "9765e2c5",
   "metadata": {},
   "source": [
    "Los contadores de tipo 0 o bien no tienen medidas en Enero de 2020 ni en Febrero de 2019, o bien tienen muy pocas. En cualquier caso son contadores muy difíciles de predecir ya que no tenemos la cantidad apropiada de datos y en el caso de que sí la tengamos son datos poco relevantes (como los consumos de Junio). \n",
    "\n",
    "En este caso hemos considerado que la mejor opción es hacer una estimación grosera. Para el contador $i$ y fecha $j$ se predecirá:\n",
    "\n",
    "$PREDICTION_{i, j}=avg(DELTA_{i})$\n",
    "\n",
    "donde $avg(DELTA_{i})$ es la media de consumos del contador $i$. A pesar, de que la media puede no ser precisa ya que está fabricada a partir de pocos datos o datos lejanos a Febrero de 2020, creemos que es la mejor estimación posible."
   ]
  },
  {
   "cell_type": "code",
   "execution_count": 369,
   "id": "e61e2339",
   "metadata": {},
   "outputs": [
    {
     "name": "stderr",
     "output_type": "stream",
     "text": [
      "100%|██████████████████████████████████████████████████████████████████████████████| 100/100 [00:00<00:00, 1695.50it/s]\n"
     ]
    }
   ],
   "source": [
    "start_date = datetime.date(2019, 2 , 1)\n",
    "end_date = datetime.date(2019, 2, 14)\n",
    "february_2019_two_weeks = get_date_range(start_date, end_date)\n",
    "\n",
    "for i in tqdm(dicc_tipos['tipo_0']):\n",
    "    predictions = []\n",
    "    avg_delta = np.mean(delta_df[i][delta_df[i].notna()])\n",
    "    for j in range(14):\n",
    "        predictions.append(avg_delta)\n",
    "    results_df[i] = predictions"
   ]
  },
  {
   "cell_type": "markdown",
   "id": "12bb79b3",
   "metadata": {},
   "source": [
    "### Tipo 1"
   ]
  },
  {
   "cell_type": "markdown",
   "id": "8389adc1",
   "metadata": {},
   "source": [
    "Los contadores de tipo 1 son contadores cuyas medidas han sido todas 0 (sean muchas o pocas). Por lo que hemos considerado la mejor opción predecir consumo 0 para estos contadores.\n",
    "\n",
    "$PREDICTION_{i, j}=0$"
   ]
  },
  {
   "cell_type": "code",
   "execution_count": 370,
   "id": "af5299ee",
   "metadata": {},
   "outputs": [
    {
     "name": "stderr",
     "output_type": "stream",
     "text": [
      "100%|████████████████████████████████████████████████████████████████████████████████| 68/68 [00:00<00:00, 2925.50it/s]\n"
     ]
    }
   ],
   "source": [
    "for i in tqdm(dicc_tipos['tipo_1']):\n",
    "    predictions = []\n",
    "    for j in range(14):\n",
    "        predictions.append(0)\n",
    "    results_df[i] = predictions"
   ]
  },
  {
   "cell_type": "markdown",
   "id": "1d920fb3",
   "metadata": {},
   "source": [
    "### Tipo 3"
   ]
  },
  {
   "cell_type": "markdown",
   "id": "33f81df7",
   "metadata": {},
   "source": [
    "Los contadores de tipo 3 son aquellos sin suficientes medidas en Enero de 2020 (el mes previo a la predicción) pero con medidas en Febrero de 2019 (el mes de la predicción pero un año antes). Para estos contadores consideramos que una mejor estimación que sencillamente la media es la siguiente:\n",
    "\n",
    "$PREDICTION_{i, j}=\\frac{1}{2}\\cdot DELTA_{j, 2019} + \\frac{1}{2}\\cdot avg(\\beta_{i})$\n",
    "\n",
    "donde $DELTA_{j, 2019}$ es el consumo el dia $j$ de 2019 y $\\beta_{i}$ son los consumos durante las dos primeras semanas de Febrero de 2019 del contador $i$."
   ]
  },
  {
   "cell_type": "code",
   "execution_count": 386,
   "id": "a7a29929",
   "metadata": {},
   "outputs": [
    {
     "name": "stderr",
     "output_type": "stream",
     "text": [
      "100%|████████████████████████████████████████████████████████████████████████████████| 44/44 [00:00<00:00, 1483.03it/s]\n"
     ]
    }
   ],
   "source": [
    "for i in tqdm(dicc_tipos['tipo_3']):\n",
    "    predictions = []\n",
    "    avg_beta = delta_df[i][delta_df.index <= '2019-02-14'].mean()\n",
    "    for date in february_2019_two_weeks:\n",
    "        delta_2019 = delta_df[i][date]\n",
    "        predictions.append(0.5*delta_2019 + 0.5*avg_beta)\n",
    "    results_df[i] = predictions"
   ]
  },
  {
   "cell_type": "markdown",
   "id": "958d9a04",
   "metadata": {},
   "source": [
    "## Predicciones de contadores tipo 2"
   ]
  },
  {
   "cell_type": "markdown",
   "id": "758ac6b0",
   "metadata": {},
   "source": [
    "Hasta ahora hemos hecho predicciones groseras y naïves para apróximadamente un 7% de los contadores cuyos datos no eran buenos por un motivo u otro. Pero realmente el principal esfuerzo de predicción y donde vamos a emplear modelos de machine learning es con los contadores tipo 2, que recordemos son contadores que al menos tienen medidas para todo el mes de Enero de 2020.\n",
    "\n",
    "Para estos contadores entrenaremos 3 modelos:\n",
    "- Modelo 1: XGBoost con todas las medidas\n",
    "- Modelo 2: XGBoost para solo un contador\n",
    "- Modelo 3: AutoARIMA para un solo contador"
   ]
  },
  {
   "cell_type": "code",
   "execution_count": null,
   "id": "0bfdec91",
   "metadata": {},
   "outputs": [],
   "source": []
  },
  {
   "cell_type": "code",
   "execution_count": null,
   "id": "236fbef8",
   "metadata": {},
   "outputs": [],
   "source": []
  },
  {
   "cell_type": "code",
   "execution_count": null,
   "id": "bc95a5e3",
   "metadata": {},
   "outputs": [],
   "source": [
    "\n",
    "\n"
   ]
  },
  {
   "cell_type": "code",
   "execution_count": 403,
   "id": "e94fbf33",
   "metadata": {},
   "outputs": [
    {
     "name": "stderr",
     "output_type": "stream",
     "text": [
      "  0%|▏                                                                              | 5/2535 [00:38<5:18:37,  7.56s/it]C:\\Users\\sergi\\Anaconda3\\envs\\cajamar\\lib\\site-packages\\pmdarima\\arima\\auto.py:460: UserWarning: Input time-series is completely constant; returning a (0, 0, 0) ARMA.\n",
      "  warnings.warn('Input time-series is completely constant; '\n",
      "  4%|██▋                                                                           | 89/2535 [08:44<3:42:17,  5.45s/it]C:\\Users\\sergi\\Anaconda3\\envs\\cajamar\\lib\\site-packages\\pmdarima\\arima\\auto.py:460: UserWarning: Input time-series is completely constant; returning a (0, 0, 0) ARMA.\n",
      "  warnings.warn('Input time-series is completely constant; '\n",
      "  5%|███▌                                                                         | 117/2535 [11:28<4:12:54,  6.28s/it]C:\\Users\\sergi\\Anaconda3\\envs\\cajamar\\lib\\site-packages\\pmdarima\\arima\\_auto_solvers.py:522: ModelFitWarning: Error fitting  ARIMA(3,1,1)(3,1,1)[7]           (if you do not want to see these warnings, run with error_action=\"ignore\").\n",
      "  warnings.warn(warning_str, ModelFitWarning)\n",
      "  5%|███▌                                                                         | 119/2535 [11:58<7:12:01, 10.73s/it]C:\\Users\\sergi\\Anaconda3\\envs\\cajamar\\lib\\site-packages\\pmdarima\\arima\\auto.py:460: UserWarning: Input time-series is completely constant; returning a (0, 0, 0) ARMA.\n",
      "  warnings.warn('Input time-series is completely constant; '\n",
      "  5%|████                                                                         | 134/2535 [13:49<4:38:53,  6.97s/it]C:\\Users\\sergi\\Anaconda3\\envs\\cajamar\\lib\\site-packages\\pmdarima\\arima\\auto.py:460: UserWarning: Input time-series is completely constant; returning a (0, 0, 0) ARMA.\n",
      "  warnings.warn('Input time-series is completely constant; '\n",
      " 11%|████████▏                                                                    | 268/2535 [33:37<3:43:41,  5.92s/it]C:\\Users\\sergi\\Anaconda3\\envs\\cajamar\\lib\\site-packages\\pmdarima\\arima\\auto.py:460: UserWarning: Input time-series is completely constant; returning a (0, 0, 0) ARMA.\n",
      "  warnings.warn('Input time-series is completely constant; '\n",
      " 11%|████████▎                                                                    | 272/2535 [33:49<2:45:58,  4.40s/it]C:\\Users\\sergi\\Anaconda3\\envs\\cajamar\\lib\\site-packages\\pmdarima\\arima\\auto.py:460: UserWarning: Input time-series is completely constant; returning a (0, 0, 0) ARMA.\n",
      "  warnings.warn('Input time-series is completely constant; '\n",
      " 13%|█████████▋                                                                   | 318/2535 [39:08<7:06:49, 11.55s/it]C:\\Users\\sergi\\Anaconda3\\envs\\cajamar\\lib\\site-packages\\pmdarima\\arima\\auto.py:460: UserWarning: Input time-series is completely constant; returning a (0, 0, 0) ARMA.\n",
      "  warnings.warn('Input time-series is completely constant; '\n",
      " 13%|█████████▊                                                                   | 322/2535 [39:15<3:05:29,  5.03s/it]C:\\Users\\sergi\\Anaconda3\\envs\\cajamar\\lib\\site-packages\\pmdarima\\arima\\_auto_solvers.py:522: ModelFitWarning: Error fitting  ARIMA(1,1,0)(3,1,1)[7]           (if you do not want to see these warnings, run with error_action=\"ignore\").\n",
      "  warnings.warn(warning_str, ModelFitWarning)\n",
      " 14%|██████████▍                                                                  | 344/2535 [41:49<3:49:11,  6.28s/it]C:\\Users\\sergi\\Anaconda3\\envs\\cajamar\\lib\\site-packages\\pmdarima\\arima\\auto.py:460: UserWarning: Input time-series is completely constant; returning a (0, 0, 0) ARMA.\n",
      "  warnings.warn('Input time-series is completely constant; '\n",
      " 15%|███████████▌                                                                 | 382/2535 [45:32<4:07:01,  6.88s/it]C:\\Users\\sergi\\Anaconda3\\envs\\cajamar\\lib\\site-packages\\pmdarima\\arima\\auto.py:460: UserWarning: Input time-series is completely constant; returning a (0, 0, 0) ARMA.\n",
      "  warnings.warn('Input time-series is completely constant; '\n",
      " 17%|█████████████▏                                                               | 436/2535 [52:43<3:22:59,  5.80s/it]C:\\Users\\sergi\\Anaconda3\\envs\\cajamar\\lib\\site-packages\\pmdarima\\arima\\_auto_solvers.py:522: ModelFitWarning: Error fitting  ARIMA(2,1,1)(3,1,2)[7]           (if you do not want to see these warnings, run with error_action=\"ignore\").\n",
      "  warnings.warn(warning_str, ModelFitWarning)\n",
      " 20%|██████████████▉                                                            | 506/2535 [1:00:40<2:58:02,  5.26s/it]C:\\Users\\sergi\\Anaconda3\\envs\\cajamar\\lib\\site-packages\\pmdarima\\arima\\_auto_solvers.py:522: ModelFitWarning: Error fitting  ARIMA(3,1,0)(3,1,1)[7]           (if you do not want to see these warnings, run with error_action=\"ignore\").\n",
      "  warnings.warn(warning_str, ModelFitWarning)\n",
      " 20%|███████████████                                                            | 510/2535 [1:01:03<2:58:49,  5.30s/it]C:\\Users\\sergi\\Anaconda3\\envs\\cajamar\\lib\\site-packages\\pmdarima\\arima\\_auto_solvers.py:522: ModelFitWarning: Error fitting  ARIMA(3,1,1)(2,1,0)[7]           (if you do not want to see these warnings, run with error_action=\"ignore\").\n",
      "  warnings.warn(warning_str, ModelFitWarning)\n",
      " 21%|███████████████▌                                                           | 524/2535 [1:02:49<4:00:23,  7.17s/it]C:\\Users\\sergi\\Anaconda3\\envs\\cajamar\\lib\\site-packages\\pmdarima\\arima\\auto.py:460: UserWarning: Input time-series is completely constant; returning a (0, 0, 0) ARMA.\n",
      "  warnings.warn('Input time-series is completely constant; '\n",
      " 21%|███████████████▉                                                           | 540/2535 [1:04:25<2:20:22,  4.22s/it]C:\\Users\\sergi\\Anaconda3\\envs\\cajamar\\lib\\site-packages\\pmdarima\\arima\\auto.py:460: UserWarning: Input time-series is completely constant; returning a (0, 0, 0) ARMA.\n",
      "  warnings.warn('Input time-series is completely constant; '\n",
      " 24%|█████████████████▊                                                         | 603/2535 [1:12:08<4:08:31,  7.72s/it]C:\\Users\\sergi\\Anaconda3\\envs\\cajamar\\lib\\site-packages\\statsmodels\\tsa\\statespace\\sarimax.py:1899: RuntimeWarning: divide by zero encountered in reciprocal\n",
      "  return np.roots(self.polynomial_reduced_ar)**-1\n",
      "C:\\Users\\sergi\\Anaconda3\\envs\\cajamar\\lib\\site-packages\\statsmodels\\tsa\\statespace\\sarimax.py:1906: RuntimeWarning: divide by zero encountered in reciprocal\n",
      "  return np.roots(self.polynomial_reduced_ma)**-1\n",
      "C:\\Users\\sergi\\Anaconda3\\envs\\cajamar\\lib\\site-packages\\statsmodels\\tsa\\statespace\\sarimax.py:1906: RuntimeWarning: divide by zero encountered in reciprocal\n",
      "  return np.roots(self.polynomial_reduced_ma)**-1\n",
      "C:\\Users\\sergi\\Anaconda3\\envs\\cajamar\\lib\\site-packages\\statsmodels\\tsa\\statespace\\sarimax.py:1906: RuntimeWarning: divide by zero encountered in reciprocal\n",
      "  return np.roots(self.polynomial_reduced_ma)**-1\n",
      "C:\\Users\\sergi\\Anaconda3\\envs\\cajamar\\lib\\site-packages\\statsmodels\\tsa\\statespace\\sarimax.py:1899: RuntimeWarning: divide by zero encountered in reciprocal\n",
      "  return np.roots(self.polynomial_reduced_ar)**-1\n",
      "C:\\Users\\sergi\\Anaconda3\\envs\\cajamar\\lib\\site-packages\\statsmodels\\tsa\\statespace\\sarimax.py:1906: RuntimeWarning: divide by zero encountered in reciprocal\n",
      "  return np.roots(self.polynomial_reduced_ma)**-1\n",
      " 24%|██████████████████▏                                                        | 614/2535 [1:13:30<3:58:45,  7.46s/it]C:\\Users\\sergi\\Anaconda3\\envs\\cajamar\\lib\\site-packages\\pmdarima\\arima\\auto.py:460: UserWarning: Input time-series is completely constant; returning a (0, 0, 0) ARMA.\n",
      "  warnings.warn('Input time-series is completely constant; '\n",
      " 26%|███████████████████▎                                                       | 653/2535 [1:18:05<2:27:43,  4.71s/it]C:\\Users\\sergi\\Anaconda3\\envs\\cajamar\\lib\\site-packages\\pmdarima\\arima\\_auto_solvers.py:522: ModelFitWarning: Error fitting  ARIMA(2,1,1)(3,1,2)[7]           (if you do not want to see these warnings, run with error_action=\"ignore\").\n",
      "  warnings.warn(warning_str, ModelFitWarning)\n",
      " 26%|███████████████████▋                                                       | 665/2535 [1:19:35<3:34:57,  6.90s/it]C:\\Users\\sergi\\Anaconda3\\envs\\cajamar\\lib\\site-packages\\pmdarima\\arima\\_auto_solvers.py:522: ModelFitWarning: Error fitting  ARIMA(1,1,0)(2,1,1)[7]           (if you do not want to see these warnings, run with error_action=\"ignore\").\n",
      "  warnings.warn(warning_str, ModelFitWarning)\n"
     ]
    },
    {
     "name": "stderr",
     "output_type": "stream",
     "text": [
      " 27%|████████████████████▏                                                      | 682/2535 [1:21:29<3:24:03,  6.61s/it]C:\\Users\\sergi\\Anaconda3\\envs\\cajamar\\lib\\site-packages\\pmdarima\\arima\\auto.py:460: UserWarning: Input time-series is completely constant; returning a (0, 0, 0) ARMA.\n",
      "  warnings.warn('Input time-series is completely constant; '\n",
      " 27%|████████████████████▏                                                      | 684/2535 [1:21:36<2:34:37,  5.01s/it]C:\\Users\\sergi\\Anaconda3\\envs\\cajamar\\lib\\site-packages\\pmdarima\\arima\\auto.py:460: UserWarning: Input time-series is completely constant; returning a (0, 0, 0) ARMA.\n",
      "  warnings.warn('Input time-series is completely constant; '\n",
      " 28%|████████████████████▊                                                      | 704/2535 [1:23:42<3:58:54,  7.83s/it]C:\\Users\\sergi\\Anaconda3\\envs\\cajamar\\lib\\site-packages\\pmdarima\\arima\\auto.py:460: UserWarning: Input time-series is completely constant; returning a (0, 0, 0) ARMA.\n",
      "  warnings.warn('Input time-series is completely constant; '\n",
      " 32%|████████████████████████▎                                                  | 822/2535 [1:36:46<3:41:30,  7.76s/it]C:\\Users\\sergi\\Anaconda3\\envs\\cajamar\\lib\\site-packages\\pmdarima\\arima\\auto.py:460: UserWarning: Input time-series is completely constant; returning a (0, 0, 0) ARMA.\n",
      "  warnings.warn('Input time-series is completely constant; '\n",
      " 33%|█████████████████████████                                                  | 847/2535 [1:39:40<3:16:44,  6.99s/it]C:\\Users\\sergi\\Anaconda3\\envs\\cajamar\\lib\\site-packages\\pmdarima\\arima\\auto.py:460: UserWarning: Input time-series is completely constant; returning a (0, 0, 0) ARMA.\n",
      "  warnings.warn('Input time-series is completely constant; '\n",
      " 34%|█████████████████████████▏                                                 | 852/2535 [1:40:01<2:24:04,  5.14s/it]C:\\Users\\sergi\\Anaconda3\\envs\\cajamar\\lib\\site-packages\\pmdarima\\arima\\auto.py:460: UserWarning: Input time-series is completely constant; returning a (0, 0, 0) ARMA.\n",
      "  warnings.warn('Input time-series is completely constant; '\n",
      " 43%|███████████████████████████████▉                                          | 1093/2535 [2:05:39<3:09:11,  7.87s/it]C:\\Users\\sergi\\Anaconda3\\envs\\cajamar\\lib\\site-packages\\pmdarima\\arima\\auto.py:460: UserWarning: Input time-series is completely constant; returning a (0, 0, 0) ARMA.\n",
      "  warnings.warn('Input time-series is completely constant; '\n",
      " 51%|█████████████████████████████████████▌                                    | 1287/2535 [2:27:06<2:37:56,  7.59s/it]C:\\Users\\sergi\\Anaconda3\\envs\\cajamar\\lib\\site-packages\\pmdarima\\arima\\auto.py:460: UserWarning: Input time-series is completely constant; returning a (0, 0, 0) ARMA.\n",
      "  warnings.warn('Input time-series is completely constant; '\n",
      " 56%|█████████████████████████████████████████                                 | 1408/2535 [2:40:56<2:23:55,  7.66s/it]C:\\Users\\sergi\\Anaconda3\\envs\\cajamar\\lib\\site-packages\\pmdarima\\arima\\_auto_solvers.py:522: ModelFitWarning: Error fitting  ARIMA(2,1,1)(1,1,2)[7]           (if you do not want to see these warnings, run with error_action=\"ignore\").\n",
      "  warnings.warn(warning_str, ModelFitWarning)\n",
      " 60%|████████████████████████████████████████████▍                             | 1522/2535 [2:52:57<1:41:22,  6.00s/it]C:\\Users\\sergi\\Anaconda3\\envs\\cajamar\\lib\\site-packages\\pmdarima\\arima\\_auto_solvers.py:522: ModelFitWarning: Error fitting  ARIMA(3,1,1)(3,1,1)[7]           (if you do not want to see these warnings, run with error_action=\"ignore\").\n",
      "  warnings.warn(warning_str, ModelFitWarning)\n",
      " 60%|████████████████████████████████████████████▍                             | 1523/2535 [2:53:10<2:16:34,  8.10s/it]C:\\Users\\sergi\\Anaconda3\\envs\\cajamar\\lib\\site-packages\\pmdarima\\arima\\_auto_solvers.py:522: ModelFitWarning: Error fitting  ARIMA(1,1,0)(2,1,2)[7]           (if you do not want to see these warnings, run with error_action=\"ignore\").\n",
      "  warnings.warn(warning_str, ModelFitWarning)\n",
      " 65%|███████████████████████████████████████████████▊                          | 1636/2535 [3:06:11<1:15:07,  5.01s/it]C:\\Users\\sergi\\Anaconda3\\envs\\cajamar\\lib\\site-packages\\pmdarima\\arima\\auto.py:460: UserWarning: Input time-series is completely constant; returning a (0, 0, 0) ARMA.\n",
      "  warnings.warn('Input time-series is completely constant; '\n",
      " 66%|█████████████████████████████████████████████████▉                          | 1666/2535 [3:08:38<44:29,  3.07s/it]C:\\Users\\sergi\\Anaconda3\\envs\\cajamar\\lib\\site-packages\\pmdarima\\arima\\auto.py:460: UserWarning: Input time-series is completely constant; returning a (0, 0, 0) ARMA.\n",
      "  warnings.warn('Input time-series is completely constant; '\n",
      " 67%|█████████████████████████████████████████████████▍                        | 1695/2535 [3:11:49<1:12:47,  5.20s/it]C:\\Users\\sergi\\Anaconda3\\envs\\cajamar\\lib\\site-packages\\pmdarima\\arima\\auto.py:460: UserWarning: Input time-series is completely constant; returning a (0, 0, 0) ARMA.\n",
      "  warnings.warn('Input time-series is completely constant; '\n",
      "C:\\Users\\sergi\\Anaconda3\\envs\\cajamar\\lib\\site-packages\\pmdarima\\arima\\auto.py:460: UserWarning: Input time-series is completely constant; returning a (0, 0, 0) ARMA.\n",
      "  warnings.warn('Input time-series is completely constant; '\n",
      " 68%|██████████████████████████████████████████████████▍                       | 1726/2535 [3:14:53<1:33:54,  6.96s/it]C:\\Users\\sergi\\Anaconda3\\envs\\cajamar\\lib\\site-packages\\pmdarima\\arima\\_auto_solvers.py:522: ModelFitWarning: Error fitting  ARIMA(2,1,0)(2,1,1)[7]           (if you do not want to see these warnings, run with error_action=\"ignore\").\n",
      "  warnings.warn(warning_str, ModelFitWarning)\n",
      " 71%|████████████████████████████████████████████████████▌                     | 1801/2535 [3:23:57<1:35:56,  7.84s/it]C:\\Users\\sergi\\Anaconda3\\envs\\cajamar\\lib\\site-packages\\pmdarima\\arima\\_auto_solvers.py:522: ModelFitWarning: Error fitting  ARIMA(3,1,0)(1,1,1)[7]           (if you do not want to see these warnings, run with error_action=\"ignore\").\n",
      "  warnings.warn(warning_str, ModelFitWarning)\n",
      " 73%|█████████████████████████████████████████████████████▉                    | 1846/2535 [3:30:27<2:09:07, 11.24s/it]C:\\Users\\sergi\\Anaconda3\\envs\\cajamar\\lib\\site-packages\\pmdarima\\arima\\auto.py:460: UserWarning: Input time-series is completely constant; returning a (0, 0, 0) ARMA.\n",
      "  warnings.warn('Input time-series is completely constant; '\n",
      " 73%|██████████████████████████████████████████████████████                    | 1850/2535 [3:30:46<1:13:01,  6.40s/it]C:\\Users\\sergi\\Anaconda3\\envs\\cajamar\\lib\\site-packages\\pmdarima\\arima\\_auto_solvers.py:522: ModelFitWarning: Error fitting  ARIMA(1,1,0)(2,1,2)[7]           (if you do not want to see these warnings, run with error_action=\"ignore\").\n",
      "  warnings.warn(warning_str, ModelFitWarning)\n",
      " 74%|████████████████████████████████████████████████████████▏                   | 1875/2535 [3:33:35<59:15,  5.39s/it]C:\\Users\\sergi\\Anaconda3\\envs\\cajamar\\lib\\site-packages\\pmdarima\\arima\\auto.py:460: UserWarning: Input time-series is completely constant; returning a (0, 0, 0) ARMA.\n",
      "  warnings.warn('Input time-series is completely constant; '\n",
      " 77%|█████████████████████████████████████████████████████████▏                | 1958/2535 [3:43:16<1:06:28,  6.91s/it]C:\\Users\\sergi\\Anaconda3\\envs\\cajamar\\lib\\site-packages\\pmdarima\\arima\\auto.py:460: UserWarning: Input time-series is completely constant; returning a (0, 0, 0) ARMA.\n",
      "  warnings.warn('Input time-series is completely constant; '\n",
      " 80%|███████████████████████████████████████████████████████████▌              | 2039/2535 [3:53:40<1:09:12,  8.37s/it]C:\\Users\\sergi\\Anaconda3\\envs\\cajamar\\lib\\site-packages\\pmdarima\\arima\\auto.py:460: UserWarning: Input time-series is completely constant; returning a (0, 0, 0) ARMA.\n",
      "  warnings.warn('Input time-series is completely constant; '\n",
      " 81%|█████████████████████████████████████████████████████████████▋              | 2057/2535 [3:55:37<41:29,  5.21s/it]C:\\Users\\sergi\\Anaconda3\\envs\\cajamar\\lib\\site-packages\\statsmodels\\tsa\\statespace\\sarimax.py:1899: RuntimeWarning: divide by zero encountered in reciprocal\n",
      "  return np.roots(self.polynomial_reduced_ar)**-1\n",
      "C:\\Users\\sergi\\Anaconda3\\envs\\cajamar\\lib\\site-packages\\statsmodels\\tsa\\statespace\\sarimax.py:1906: RuntimeWarning: divide by zero encountered in reciprocal\n",
      "  return np.roots(self.polynomial_reduced_ma)**-1\n",
      "C:\\Users\\sergi\\Anaconda3\\envs\\cajamar\\lib\\site-packages\\statsmodels\\tsa\\statespace\\sarimax.py:1906: RuntimeWarning: divide by zero encountered in reciprocal\n",
      "  return np.roots(self.polynomial_reduced_ma)**-1\n",
      "C:\\Users\\sergi\\Anaconda3\\envs\\cajamar\\lib\\site-packages\\statsmodels\\tsa\\statespace\\sarimax.py:1906: RuntimeWarning: divide by zero encountered in reciprocal\n",
      "  return np.roots(self.polynomial_reduced_ma)**-1\n"
     ]
    },
    {
     "name": "stderr",
     "output_type": "stream",
     "text": [
      "C:\\Users\\sergi\\Anaconda3\\envs\\cajamar\\lib\\site-packages\\statsmodels\\tsa\\statespace\\sarimax.py:1899: RuntimeWarning: divide by zero encountered in reciprocal\n",
      "  return np.roots(self.polynomial_reduced_ar)**-1\n",
      "C:\\Users\\sergi\\Anaconda3\\envs\\cajamar\\lib\\site-packages\\statsmodels\\tsa\\statespace\\sarimax.py:1906: RuntimeWarning: divide by zero encountered in reciprocal\n",
      "  return np.roots(self.polynomial_reduced_ma)**-1\n",
      " 81%|█████████████████████████████████████████████████████████████▋              | 2059/2535 [3:55:41<26:48,  3.38s/it]C:\\Users\\sergi\\Anaconda3\\envs\\cajamar\\lib\\site-packages\\pmdarima\\arima\\auto.py:460: UserWarning: Input time-series is completely constant; returning a (0, 0, 0) ARMA.\n",
      "  warnings.warn('Input time-series is completely constant; '\n",
      " 85%|████████████████████████████████████████████████████████████████▌           | 2155/2535 [4:06:26<36:46,  5.81s/it]C:\\Users\\sergi\\Anaconda3\\envs\\cajamar\\lib\\site-packages\\pmdarima\\arima\\_auto_solvers.py:522: ModelFitWarning: Error fitting  ARIMA(2,1,0)(2,1,2)[7]           (if you do not want to see these warnings, run with error_action=\"ignore\").\n",
      "  warnings.warn(warning_str, ModelFitWarning)\n",
      "C:\\Users\\sergi\\Anaconda3\\envs\\cajamar\\lib\\site-packages\\pmdarima\\arima\\_auto_solvers.py:522: ModelFitWarning: Error fitting  ARIMA(3,1,0)(2,1,2)[7]           (if you do not want to see these warnings, run with error_action=\"ignore\").\n",
      "  warnings.warn(warning_str, ModelFitWarning)\n",
      " 85%|████████████████████████████████████████████████████████████████▊           | 2162/2535 [4:07:10<40:28,  6.51s/it]C:\\Users\\sergi\\Anaconda3\\envs\\cajamar\\lib\\site-packages\\pmdarima\\arima\\auto.py:460: UserWarning: Input time-series is completely constant; returning a (0, 0, 0) ARMA.\n",
      "  warnings.warn('Input time-series is completely constant; '\n",
      " 87%|██████████████████████████████████████████████████████████████████▏         | 2208/2535 [4:11:37<31:09,  5.72s/it]C:\\Users\\sergi\\Anaconda3\\envs\\cajamar\\lib\\site-packages\\pmdarima\\arima\\_auto_solvers.py:522: ModelFitWarning: Error fitting  ARIMA(1,1,0)(3,1,1)[7]           (if you do not want to see these warnings, run with error_action=\"ignore\").\n",
      "  warnings.warn(warning_str, ModelFitWarning)\n",
      " 90%|████████████████████████████████████████████████████████████████████▋       | 2291/2535 [4:20:24<28:00,  6.89s/it]C:\\Users\\sergi\\Anaconda3\\envs\\cajamar\\lib\\site-packages\\statsmodels\\tsa\\statespace\\sarimax.py:1899: RuntimeWarning: divide by zero encountered in reciprocal\n",
      "  return np.roots(self.polynomial_reduced_ar)**-1\n",
      "C:\\Users\\sergi\\Anaconda3\\envs\\cajamar\\lib\\site-packages\\statsmodels\\tsa\\statespace\\sarimax.py:1899: RuntimeWarning: divide by zero encountered in reciprocal\n",
      "  return np.roots(self.polynomial_reduced_ar)**-1\n",
      "C:\\Users\\sergi\\Anaconda3\\envs\\cajamar\\lib\\site-packages\\statsmodels\\tsa\\statespace\\sarimax.py:1899: RuntimeWarning: divide by zero encountered in reciprocal\n",
      "  return np.roots(self.polynomial_reduced_ar)**-1\n",
      "C:\\Users\\sergi\\Anaconda3\\envs\\cajamar\\lib\\site-packages\\statsmodels\\tsa\\statespace\\sarimax.py:1906: RuntimeWarning: divide by zero encountered in reciprocal\n",
      "  return np.roots(self.polynomial_reduced_ma)**-1\n",
      "C:\\Users\\sergi\\Anaconda3\\envs\\cajamar\\lib\\site-packages\\statsmodels\\tsa\\statespace\\sarimax.py:1899: RuntimeWarning: divide by zero encountered in reciprocal\n",
      "  return np.roots(self.polynomial_reduced_ar)**-1\n",
      "C:\\Users\\sergi\\Anaconda3\\envs\\cajamar\\lib\\site-packages\\statsmodels\\tsa\\statespace\\sarimax.py:1906: RuntimeWarning: divide by zero encountered in reciprocal\n",
      "  return np.roots(self.polynomial_reduced_ma)**-1\n",
      "C:\\Users\\sergi\\Anaconda3\\envs\\cajamar\\lib\\site-packages\\statsmodels\\tsa\\statespace\\sarimax.py:1899: RuntimeWarning: divide by zero encountered in reciprocal\n",
      "  return np.roots(self.polynomial_reduced_ar)**-1\n",
      "C:\\Users\\sergi\\Anaconda3\\envs\\cajamar\\lib\\site-packages\\statsmodels\\tsa\\statespace\\sarimax.py:1906: RuntimeWarning: divide by zero encountered in reciprocal\n",
      "  return np.roots(self.polynomial_reduced_ma)**-1\n",
      " 94%|███████████████████████████████████████████████████████████████████████▊    | 2394/2535 [4:31:45<19:04,  8.12s/it]C:\\Users\\sergi\\Anaconda3\\envs\\cajamar\\lib\\site-packages\\pmdarima\\arima\\auto.py:460: UserWarning: Input time-series is completely constant; returning a (0, 0, 0) ARMA.\n",
      "  warnings.warn('Input time-series is completely constant; '\n",
      "100%|███████████████████████████████████████████████████████████████████████████▊| 2528/2535 [4:44:05<00:37,  5.43s/it]C:\\Users\\sergi\\Anaconda3\\envs\\cajamar\\lib\\site-packages\\pmdarima\\arima\\_auto_solvers.py:522: ModelFitWarning: Error fitting  ARIMA(0,1,1)(3,1,2)[7]           (if you do not want to see these warnings, run with error_action=\"ignore\").\n",
      "  warnings.warn(warning_str, ModelFitWarning)\n",
      "100%|████████████████████████████████████████████████████████████████████████████| 2535/2535 [4:45:09<00:00,  6.75s/it]\n"
     ]
    }
   ],
   "source": [
    "arima_results = pd.DataFrame(columns = dicc_tipos['tipo_2'], index = prediction_dates)\n",
    "\n",
    "for i in tqdm(dicc_tipos['tipo_2']):\n",
    "    one_counter = delta_df[i][delta_df.index >= '2019-11-02'].dropna()\n",
    "    \n",
    "    arima_model = auto_arima(one_counter, \n",
    "                    start_p=0, \n",
    "                    d=1, \n",
    "                    start_q=0, \n",
    "                    max_p=3, \n",
    "                    max_d=3, \n",
    "                    max_q=3, \n",
    "                    start_P=0, \n",
    "                    D=1, \n",
    "                    start_Q=0, \n",
    "                    max_P=3, \n",
    "                    max_D=3, \n",
    "                    max_Q=3, \n",
    "                    m=7, \n",
    "                    seasonal=True, \n",
    "                    error_action='warn', \n",
    "                    trace=False, \n",
    "                    supress_warnings=True, \n",
    "                    stepwise=True, \n",
    "                    random_state=2517, \n",
    "                    #n_jobs=4,\n",
    "                    n_fits=10)   \n",
    "    arima_results[i] = arima_model.predict(n_periods = 14)"
   ]
  },
  {
   "cell_type": "code",
   "execution_count": null,
   "id": "48f964c5",
   "metadata": {},
   "outputs": [],
   "source": []
  },
  {
   "cell_type": "code",
   "execution_count": 404,
   "id": "8d903a17",
   "metadata": {},
   "outputs": [],
   "source": [
    "arima_results.to_pickle('../data/arima_results_1.pkl')"
   ]
  },
  {
   "cell_type": "code",
   "execution_count": null,
   "id": "d24fc673",
   "metadata": {},
   "outputs": [],
   "source": []
  },
  {
   "cell_type": "code",
   "execution_count": null,
   "id": "14abe40e",
   "metadata": {},
   "outputs": [],
   "source": []
  }
 ],
 "metadata": {
  "kernelspec": {
   "display_name": "Python 3 (ipykernel)",
   "language": "python",
   "name": "python3"
  },
  "language_info": {
   "codemirror_mode": {
    "name": "ipython",
    "version": 3
   },
   "file_extension": ".py",
   "mimetype": "text/x-python",
   "name": "python",
   "nbconvert_exporter": "python",
   "pygments_lexer": "ipython3",
   "version": "3.9.7"
  }
 },
 "nbformat": 4,
 "nbformat_minor": 5
}
